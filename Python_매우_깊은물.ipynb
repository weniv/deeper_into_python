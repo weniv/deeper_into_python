{
  "cells": [
    {
      "cell_type": "markdown",
      "metadata": {
        "id": "ZSno16EwUykI"
      },
      "source": [
        "# Python"
      ]
    },
    {
      "cell_type": "markdown",
      "metadata": {
        "id": "4bvJwsYK59P7"
      },
      "source": [
        "## 주석"
      ]
    },
    {
      "cell_type": "code",
      "execution_count": null,
      "metadata": {
        "colab": {
          "base_uri": "https://localhost:8080/"
        },
        "id": "4tqMwbOZu73B",
        "outputId": "aab997d3-b70e-4845-9754-f18e26b46286"
      },
      "outputs": [
        {
          "data": {
            "text/plain": [
              "2"
            ]
          },
          "execution_count": 1,
          "metadata": {},
          "output_type": "execute_result"
        }
      ],
      "source": [
        "# 주석 : 코드를 보류하거나\n",
        "# 해당 코드에 대한 설명을 할 경우\n",
        "\n",
        "# 행 단위 주석입니다.\n",
        "\n",
        "# 열\n",
        "# 단위 \n",
        "# 주석입니다.\n",
        "\n",
        "'''\n",
        "열\n",
        "단위\n",
        "주석입니다.\n",
        "'''\n",
        "\n",
        "1 + 1"
      ]
    },
    {
      "cell_type": "code",
      "execution_count": null,
      "metadata": {
        "id": "DcY8dv34YEI5"
      },
      "outputs": [],
      "source": [
        "def solution(hello):\n",
        "    \"\"\"Connects to the next available port.\n",
        "\n",
        "    Args:\n",
        "      minimum: A port value greater or equal to 1024.\n",
        "\n",
        "    Returns:\n",
        "      The new minimum port.\n",
        "\n",
        "    Raises:\n",
        "      ConnectionError: If no available port is found.\n",
        "    \"\"\"\n",
        "    return hello"
      ]
    },
    {
      "cell_type": "code",
      "execution_count": null,
      "metadata": {
        "id": "Gb_-AxzADMkQ"
      },
      "outputs": [],
      "source": [
        "solution"
      ]
    },
    {
      "cell_type": "code",
      "execution_count": null,
      "metadata": {
        "id": "cDfbBZQXY3xg"
      },
      "outputs": [],
      "source": [
        "# 주석을 읽지 않고도 쉽게 읽을 수 있는 코드"
      ]
    },
    {
      "cell_type": "markdown",
      "metadata": {
        "id": "nRON966h4UyN"
      },
      "source": [
        "## 변수의 type"
      ]
    },
    {
      "cell_type": "code",
      "execution_count": null,
      "metadata": {
        "id": "4eM4gbOR4g4a",
        "colab": {
          "base_uri": "https://localhost:8080/"
        },
        "outputId": "b894f6e3-8015-4b0f-b815-2a62b600f28d"
      },
      "outputs": [
        {
          "output_type": "stream",
          "name": "stdout",
          "text": [
            "type(10) : <class 'int'>\n",
            "type(10.1) : <class 'float'>\n",
            "type(-1) : <class 'int'>\n",
            "type(True) : <class 'bool'>\n",
            "type('good') : <class 'str'>\n",
            "type('good'.upper) : <class 'builtin_function_or_method'>\n",
            "'10' + '10' : 1010\n",
            "'10' * 3 : 101010\n",
            "'hong' + 'gildong' : kimhonggildong\n",
            "type('gildong') : <class 'str'>\n",
            "type('gildong100!!') : <class 'str'>\n",
            "type(10 + 2j) : <class 'complex'>\n",
            "type(0b110) : <class 'int'>\n",
            "6\n",
            "type(0o56) : <class 'str'>\n",
            "example\n",
            "type(0xAC) : <class 'int'>\n",
            "172\n",
            "type(def func():...생략...) : <class 'function'>\n",
            "type(print) : <class 'builtin_function_or_method'>\n",
            "type(lambda x:x**2) : <class 'function'>\n",
            "type(int) : <class 'type'>\n"
          ]
        }
      ],
      "source": [
        "a = 10     #int, 정수형\n",
        "b = 10.1   #float, 실수\n",
        "c = -1\n",
        "d = True   #bool, 논리형(부울형, 참거짓형)\n",
        "e = 'good'\n",
        "f = '10'   #str, 문자열\n",
        "g = 'kim'\n",
        "h = 'honggildong'\n",
        "i = 'example'\n",
        "j = 10 + 2j #complex, 복소수\n",
        "k = 0b110   #int, 2진법 \n",
        "l = 0o56    #int, 8진법\n",
        "m = 0xAC    #int, 16진법\n",
        "\n",
        "##########\n",
        "def hello():\n",
        "    return\n",
        "\n",
        "class A:\n",
        "    pass\n",
        "\n",
        "n = hello # function\n",
        "o = print # bulit-in function\n",
        "p = lambda x:x**2 # function\n",
        "q = int # type\n",
        "r = A # class\n",
        "s = A() # instance\n",
        "##########\n",
        "\n",
        "print(f'type(10) : {type(a)}')\n",
        "print(f'type(10.1) : {type(b)}')\n",
        "print(f'type(-1) : {type(c)}')\n",
        "print(f'type(True) : {type(d)}')\n",
        "print(f'type(\\'good\\') : {type(e)}')\n",
        "print(f'type(\\'good\\'.upper) : {type(e.upper)}')\n",
        "print(f'\\'10\\' + \\'10\\' : {f + f}')\n",
        "print(f'\\'10\\' * 3 : {f * 3}')\n",
        "print(f'\\'hong\\' + \\'gildong\\' : {g + h}')\n",
        "print(f'type(\\'gildong\\') : {type(h)}')\n",
        "print(f'type(\\'gildong100!!\\') : {type(i)}')\n",
        "print(f'type(10 + 2j) : {type(j)}')\n",
        "print(f'type(0b110) : {type(k)}')\n",
        "print(k)\n",
        "print(f'type(0o56) : {type(i)}')\n",
        "print(i)\n",
        "print(f'type(0xAC) : {type(m)}')\n",
        "print(m)\n",
        "print(f'type(def func():...생략...) : {type(n)}')\n",
        "print(f'type(print) : {type(o)}')\n",
        "print(f'type(lambda x:x**2) : {type(p)}')\n",
        "print(f'type(int) : {type(int)}')"
      ]
    },
    {
      "cell_type": "code",
      "execution_count": null,
      "metadata": {
        "colab": {
          "base_uri": "https://localhost:8080/"
        },
        "id": "VIlLxWfz4fx2",
        "outputId": "05b90333-ab8d-4a81-daea-f4fbfd8b33f0"
      },
      "outputs": [
        {
          "data": {
            "text/plain": [
              "(__main__.A, <__main__.A at 0x7fb2cc3a4fa0>)"
            ]
          },
          "execution_count": 3,
          "metadata": {},
          "output_type": "execute_result"
        }
      ],
      "source": [
        "def hello():\n",
        "    return\n",
        "\n",
        "class A:\n",
        "    pass\n",
        "\n",
        "q = A # class\n",
        "r = A() # instance\n",
        "\n",
        "q, r"
      ]
    },
    {
      "cell_type": "code",
      "execution_count": null,
      "metadata": {
        "id": "x2Z6VcqH-vyn"
      },
      "outputs": [],
      "source": [
        "'hello world {}'.format(a)\n",
        "f'hello world {a}'\n",
        "r'hello world'"
      ]
    },
    {
      "cell_type": "code",
      "execution_count": null,
      "metadata": {
        "colab": {
          "base_uri": "https://localhost:8080/"
        },
        "id": "51gC4347-wkv",
        "outputId": "e5e0a14b-d253-4e02-cb6a-e1019eb04b43"
      },
      "outputs": [
        {
          "name": "stdout",
          "output_type": "stream",
          "text": [
            "2300.0\n",
            "2300.0\n"
          ]
        },
        {
          "data": {
            "text/plain": [
              "2300.0"
            ]
          },
          "execution_count": 34,
          "metadata": {},
          "output_type": "execute_result"
        }
      ],
      "source": [
        "print(2.3e3) # 무리수, 오일러 수(2.718에 수렴, 파이가 3.14인 것처럼)\n",
        "print(2.3E3)\n",
        "\n",
        "2.3 * (10 ** 3)"
      ]
    },
    {
      "cell_type": "code",
      "execution_count": null,
      "metadata": {
        "colab": {
          "base_uri": "https://localhost:8080/"
        },
        "id": "WtAqcNUXAe_h",
        "outputId": "e83cace8-da08-484c-9d92-a18c9c4e14fd"
      },
      "outputs": [
        {
          "name": "stdout",
          "output_type": "stream",
          "text": [
            "0.0023\n",
            "0.0023\n"
          ]
        },
        {
          "data": {
            "text/plain": [
              "0.0023"
            ]
          },
          "execution_count": 35,
          "metadata": {},
          "output_type": "execute_result"
        }
      ],
      "source": [
        "print(2.3e-3) # 무리수, 오일러 수(2.718에 수렴, 파이가 3.14인 것처럼)\n",
        "print(2.3E-3)\n",
        "\n",
        "2.3 * (10 ** -3)"
      ]
    },
    {
      "cell_type": "code",
      "execution_count": null,
      "metadata": {
        "colab": {
          "base_uri": "https://localhost:8080/"
        },
        "id": "vZeP1DpgAnVR",
        "outputId": "a61536ea-b876-4ecb-850d-4378fe908341"
      },
      "outputs": [
        {
          "data": {
            "text/plain": [
              "float"
            ]
          },
          "execution_count": 36,
          "metadata": {},
          "output_type": "execute_result"
        }
      ],
      "source": [
        "type(2.3e3)"
      ]
    },
    {
      "cell_type": "code",
      "execution_count": null,
      "metadata": {
        "colab": {
          "base_uri": "https://localhost:8080/"
        },
        "id": "XSpPc9EnMWmW",
        "outputId": "1fb956c6-ac76-4111-e772-406e22ae1ff5"
      },
      "outputs": [
        {
          "data": {
            "text/plain": [
              "True"
            ]
          },
          "execution_count": 3,
          "metadata": {},
          "output_type": "execute_result"
        }
      ],
      "source": [
        "type(int)\n",
        "type(2.3) == float\n",
        "type(2) == int"
      ]
    },
    {
      "cell_type": "markdown",
      "metadata": {
        "id": "XHFD2ejO5VW8"
      },
      "source": [
        "## 변수"
      ]
    },
    {
      "cell_type": "code",
      "execution_count": null,
      "metadata": {
        "id": "lzXwDBW-ZFbz"
      },
      "outputs": [],
      "source": [
        "# CS에서 변수란? 포스트잇(메모리 공간을 가리키는)\n",
        "a = 10 # a -> 10\n",
        "a = 20 # a -> 20"
      ]
    },
    {
      "cell_type": "code",
      "execution_count": null,
      "metadata": {
        "colab": {
          "base_uri": "https://localhost:8080/"
        },
        "id": "cTgLJYo-aDsZ",
        "outputId": "3e365b4e-b8da-47f1-9a5d-eebd8f3d21fc"
      },
      "outputs": [
        {
          "data": {
            "text/plain": [
              "10"
            ]
          },
          "execution_count": 4,
          "metadata": {},
          "output_type": "execute_result"
        }
      ],
      "source": [
        "a = 10\n",
        "b = a\n",
        "a = 20\n",
        "b"
      ]
    },
    {
      "cell_type": "code",
      "execution_count": null,
      "metadata": {
        "colab": {
          "base_uri": "https://localhost:8080/"
        },
        "id": "dMpqCLE9aRNm",
        "outputId": "08f9309b-50b8-4956-9641-136c59b9be57"
      },
      "outputs": [
        {
          "data": {
            "text/plain": [
              "139804790827920"
            ]
          },
          "execution_count": 5,
          "metadata": {},
          "output_type": "execute_result"
        }
      ],
      "source": [
        "id(a)"
      ]
    },
    {
      "cell_type": "code",
      "execution_count": null,
      "metadata": {
        "colab": {
          "base_uri": "https://localhost:8080/"
        },
        "id": "MJ7MiVleas6C",
        "outputId": "0afaa3b6-690b-4eb4-8595-37ebce769a5a"
      },
      "outputs": [
        {
          "data": {
            "text/plain": [
              "139804790827600"
            ]
          },
          "execution_count": 6,
          "metadata": {},
          "output_type": "execute_result"
        }
      ],
      "source": [
        "id(b)"
      ]
    },
    {
      "cell_type": "code",
      "execution_count": null,
      "metadata": {
        "id": "E7wb0-L9awO4"
      },
      "outputs": [],
      "source": [
        "a = 10\n",
        "b = a"
      ]
    },
    {
      "cell_type": "code",
      "execution_count": null,
      "metadata": {
        "colab": {
          "base_uri": "https://localhost:8080/"
        },
        "id": "j4DkoVh4a0X0",
        "outputId": "714e66c1-150d-4af9-94f1-30812742444b"
      },
      "outputs": [
        {
          "data": {
            "text/plain": [
              "(139804790827600, 139804790827600)"
            ]
          },
          "execution_count": 10,
          "metadata": {},
          "output_type": "execute_result"
        }
      ],
      "source": [
        "id(a), id(b)"
      ]
    },
    {
      "cell_type": "code",
      "execution_count": null,
      "metadata": {
        "colab": {
          "base_uri": "https://localhost:8080/"
        },
        "id": "_jVsUYhLbAKJ",
        "outputId": "0a4eec78-2286-4007-ad3a-5a9cb2a94899"
      },
      "outputs": [
        {
          "data": {
            "text/plain": [
              "True"
            ]
          },
          "execution_count": 11,
          "metadata": {},
          "output_type": "execute_result"
        }
      ],
      "source": [
        "a is b"
      ]
    },
    {
      "cell_type": "code",
      "execution_count": null,
      "metadata": {
        "id": "SdKXftD_bAvP"
      },
      "outputs": [],
      "source": [
        "a = 10\n",
        "b = 10"
      ]
    },
    {
      "cell_type": "code",
      "execution_count": null,
      "metadata": {
        "colab": {
          "base_uri": "https://localhost:8080/"
        },
        "id": "2c0qmU-1bIZY",
        "outputId": "2a804542-13d6-4b38-87c7-c1c7ae54cdee"
      },
      "outputs": [
        {
          "data": {
            "text/plain": [
              "(139804790827600, 139804790827600)"
            ]
          },
          "execution_count": 13,
          "metadata": {},
          "output_type": "execute_result"
        }
      ],
      "source": [
        "id(a), id(b)"
      ]
    },
    {
      "cell_type": "code",
      "execution_count": null,
      "metadata": {
        "id": "XxyKG4vHboNk"
      },
      "outputs": [],
      "source": [
        "a = 257\n",
        "b = 257"
      ]
    },
    {
      "cell_type": "code",
      "execution_count": null,
      "metadata": {
        "colab": {
          "base_uri": "https://localhost:8080/"
        },
        "id": "-wwVZ67fbqWp",
        "outputId": "b1c1f34d-9b03-4ed8-8fcd-2ac73baa6ab7"
      },
      "outputs": [
        {
          "data": {
            "text/plain": [
              "(139803525892432, 139803525893296)"
            ]
          },
          "execution_count": 15,
          "metadata": {},
          "output_type": "execute_result"
        }
      ],
      "source": [
        "id(a), id(b)"
      ]
    },
    {
      "cell_type": "code",
      "execution_count": null,
      "metadata": {
        "colab": {
          "base_uri": "https://localhost:8080/"
        },
        "id": "IjCGHcwYbx6v",
        "outputId": "be62739d-c094-4cd5-858d-02ad6124fdb4"
      },
      "outputs": [
        {
          "data": {
            "text/plain": [
              "False"
            ]
          },
          "execution_count": 16,
          "metadata": {},
          "output_type": "execute_result"
        }
      ],
      "source": [
        "a is b"
      ]
    },
    {
      "cell_type": "code",
      "execution_count": null,
      "metadata": {
        "id": "eecQH9yEb931"
      },
      "outputs": [],
      "source": [
        "# Python은 자체적으로 속도를 높이기 위한 \n",
        "# 여러가지 노력들을 해왔습니다.\n",
        "# (아래 언급한 것 말고도 각각의 자료형에서 메모리를 효율적으로 관리하기 위한 노력들을 말씀드리겠습니다.)\n",
        "# 구버전도 말씀을 드릴 것인데 이유는 여러분이 실무에가서 접할 환경이 최신 버전이 아니기 때문입니다.\n",
        "# 야xx의 경우에는 Django 1.x, python 2.x를 사용하고 있어요. \n",
        "# 대부분의 기업들이 한 번 구축해놓은 시스템은 바꾸기가 쉽지 않습니다."
      ]
    },
    {
      "cell_type": "code",
      "execution_count": null,
      "metadata": {
        "id": "3_3MriPPcV7X"
      },
      "outputs": [],
      "source": [
        "# 그래서 -5 ~ 256은 먼저 메모리에 적재를 합니다.\n",
        "a = 256\n",
        "b = 256"
      ]
    },
    {
      "cell_type": "code",
      "execution_count": null,
      "metadata": {
        "colab": {
          "base_uri": "https://localhost:8080/"
        },
        "id": "e_iyZkMEcWny",
        "outputId": "dec35503-d969-4389-efe6-5f452af1895a"
      },
      "outputs": [
        {
          "data": {
            "text/plain": [
              "(140406417504656, 140406417504656)"
            ]
          },
          "execution_count": 5,
          "metadata": {},
          "output_type": "execute_result"
        }
      ],
      "source": [
        "id(a), id(b)"
      ]
    },
    {
      "cell_type": "code",
      "execution_count": null,
      "metadata": {
        "colab": {
          "base_uri": "https://localhost:8080/"
        },
        "id": "j8tVg4rHcXbG",
        "outputId": "50c1fbcc-8817-4af8-9647-07b022d1a694"
      },
      "outputs": [
        {
          "data": {
            "text/plain": [
              "True"
            ]
          },
          "execution_count": 19,
          "metadata": {},
          "output_type": "execute_result"
        }
      ],
      "source": [
        "a is b"
      ]
    },
    {
      "cell_type": "code",
      "execution_count": null,
      "metadata": {
        "colab": {
          "base_uri": "https://localhost:8080/"
        },
        "id": "JK5Zy2pw7RTS",
        "outputId": "e69cf22b-ccd2-4da7-f0e0-2e12783cd433"
      },
      "outputs": [
        {
          "data": {
            "text/plain": [
              "(139756846366768, 139756846366768)"
            ]
          },
          "execution_count": 5,
          "metadata": {},
          "output_type": "execute_result"
        }
      ],
      "source": [
        "a = -5\n",
        "b = -5\n",
        "\n",
        "id(a), id(b)"
      ]
    },
    {
      "cell_type": "code",
      "execution_count": null,
      "metadata": {
        "colab": {
          "base_uri": "https://localhost:8080/"
        },
        "id": "oF1osgSv7vH9",
        "outputId": "0bfa56d9-2b9d-4419-d217-16f0a85e0f1c"
      },
      "outputs": [
        {
          "data": {
            "text/plain": [
              "True"
            ]
          },
          "execution_count": 22,
          "metadata": {},
          "output_type": "execute_result"
        }
      ],
      "source": [
        "a is b"
      ]
    },
    {
      "cell_type": "markdown",
      "metadata": {
        "id": "-uY2FWSidDUI"
      },
      "source": [
        "* 변수의 타입\n",
        "* 변수의 타입은 왜 있는 것일까?\n",
        "    * 효율적인 측면\n",
        "    * 관리적인 측면"
      ]
    },
    {
      "cell_type": "code",
      "execution_count": null,
      "metadata": {
        "colab": {
          "base_uri": "https://localhost:8080/",
          "height": 35
        },
        "id": "A2IH-wPMdioU",
        "outputId": "587ad674-6baf-4127-ea7f-9c8bef195518"
      },
      "outputs": [
        {
          "data": {
            "application/vnd.google.colaboratory.intrinsic+json": {
              "type": "string"
            },
            "text/plain": [
              "'aa'"
            ]
          },
          "execution_count": 23,
          "metadata": {},
          "output_type": "execute_result"
        }
      ],
      "source": [
        "'a' + 'a'"
      ]
    },
    {
      "cell_type": "code",
      "execution_count": null,
      "metadata": {
        "id": "Rwztl70pdi-h"
      },
      "outputs": [],
      "source": [
        "# 왜 이어 붙였는가?"
      ]
    },
    {
      "cell_type": "code",
      "execution_count": null,
      "metadata": {
        "id": "yI7r1pPddlQf"
      },
      "outputs": [],
      "source": [
        "# 우리가 통념적으로 생각하는 문자열의 연산을 \n",
        "# Python이라는 언어에 구현해놓은 것입니다.\n",
        "# 메직 메서드(__init_...)를 통해서 이런 '약속'들을 구현하게 됩니다."
      ]
    },
    {
      "cell_type": "markdown",
      "metadata": {
        "id": "4KmX9oaY8vxz"
      },
      "source": [
        "## 변수의 속성 변경 (참고)"
      ]
    },
    {
      "cell_type": "code",
      "execution_count": null,
      "metadata": {
        "colab": {
          "base_uri": "https://localhost:8080/"
        },
        "id": "J6GQ3xE7EkWG",
        "outputId": "ca568ba4-09a0-4efc-9d1a-906d94052351"
      },
      "outputs": [
        {
          "data": {
            "text/plain": [
              "20"
            ]
          },
          "execution_count": 1,
          "metadata": {},
          "output_type": "execute_result"
        }
      ],
      "source": [
        "int('10') + int('10')"
      ]
    },
    {
      "cell_type": "code",
      "execution_count": null,
      "metadata": {
        "colab": {
          "base_uri": "https://localhost:8080/"
        },
        "id": "bPutt5h5ErE1",
        "outputId": "b5ec1235-b3a9-4a29-baa7-7c8614d5ad00"
      },
      "outputs": [
        {
          "data": {
            "text/plain": [
              "100"
            ]
          },
          "execution_count": 2,
          "metadata": {},
          "output_type": "execute_result"
        }
      ],
      "source": [
        "class int(int):\n",
        "    def __add__(self, a):\n",
        "        return self * a\n",
        "\n",
        "int('10') + int('10')"
      ]
    },
    {
      "cell_type": "code",
      "execution_count": null,
      "metadata": {
        "colab": {
          "base_uri": "https://localhost:8080/",
          "height": 35
        },
        "id": "lduSLa8wE6j2",
        "outputId": "16eff888-d589-4ad5-ed9b-dd4ca570f4c1"
      },
      "outputs": [
        {
          "data": {
            "application/vnd.google.colaboratory.intrinsic+json": {
              "type": "string"
            },
            "text/plain": [
              "'leehojun'"
            ]
          },
          "execution_count": 3,
          "metadata": {},
          "output_type": "execute_result"
        }
      ],
      "source": [
        "class int(int):\n",
        "    def __add__(self, a):\n",
        "        return 'leehojun'\n",
        "\n",
        "int('10') + int('10')"
      ]
    },
    {
      "cell_type": "code",
      "source": [
        "class str(str):\n",
        "    def __add__(self, a):\n",
        "        return int(self) + int(a)\n",
        "\n",
        "str(10) + str(10)"
      ],
      "metadata": {
        "colab": {
          "base_uri": "https://localhost:8080/"
        },
        "id": "ht2IsbeQOkVx",
        "outputId": "abf2a368-4888-4d9c-c41b-f49e0838c38c"
      },
      "execution_count": null,
      "outputs": [
        {
          "output_type": "execute_result",
          "data": {
            "text/plain": [
              "20"
            ]
          },
          "metadata": {},
          "execution_count": 23
        }
      ]
    },
    {
      "cell_type": "markdown",
      "metadata": {
        "id": "Z_YgmR-eetdZ"
      },
      "source": [
        "## 변수의 속성\n",
        "\n",
        "* 영문과 숫자를 사용할 수 있지만, 숫자로 시작하지는 못합니다.\n",
        "* 특수문자는 사용하지 않아요.(언더바(_)는 사용합니다. 스네이크 표기법, 특수문자나 이미중 사용 가능한 것들이 있기는 합니다. 권하지 않습니다.)\n",
        "* 예약어는 사용하지 않습니다.(if, elif, while, for, etc)\n",
        "* 대소문자는 구분합니다.\n",
        "* 언더바로만 사용하거나 언더바로 시작할 수 있습니다.\n",
        "* 대문자로 시작하는 변수를 사용할 수 있지만, 관습적으로 대문자로 시작하는 변수는 Class로 만들기 때문에 소문자로 시작하는 변수를 만들기를 권합니다. Class는 보통 파스칼 표기법을 따릅니다. 다만 회사 컨벤션마다 다릅니다."
      ]
    },
    {
      "cell_type": "code",
      "execution_count": null,
      "metadata": {
        "colab": {
          "base_uri": "https://localhost:8080/"
        },
        "id": "hLby0QYFezX1",
        "outputId": "1e5f52be-3e38-4624-c5ef-308b28b61a37"
      },
      "outputs": [
        {
          "name": "stdout",
          "output_type": "stream",
          "text": [
            "hello\n",
            "hello\n",
            "hello\n",
            "hello\n",
            "hello\n",
            "hello\n",
            "hello\n",
            "hello\n",
            "hello\n",
            "hello\n"
          ]
        }
      ],
      "source": [
        "hello_world = 10 # 스네이크 표기법이 컨벤션으로 있는 경우가 많습니다.\n",
        "helloWorld = 10 # 카멜 표기법(JavaScript에서 많이 사용)\n",
        "hello1 = 100\n",
        "# 1hello = 100 # error\n",
        "# π = 3.14 # error가 안나지만 사회생활 힘듭니다.\n",
        "# π * 100\n",
        "\n",
        "_ = 100 # 권장하지 않습니다.\n",
        "\n",
        "# 아래와 같이 반복 안에서 해당 변수를 전혀 사용하지 않는 경우\n",
        "# (관습적으로) 많이 사용됩니다.\n",
        "for _ in range(10):\n",
        "    print('hello')"
      ]
    },
    {
      "cell_type": "markdown",
      "metadata": {
        "id": "AA3cAp2Rh98A"
      },
      "source": [
        "## 입력과 출력"
      ]
    },
    {
      "cell_type": "code",
      "execution_count": null,
      "metadata": {
        "colab": {
          "base_uri": "https://localhost:8080/"
        },
        "id": "cSF-QXdTh_Q8",
        "outputId": "2e316971-e19d-4435-febc-0a1272bcef40"
      },
      "outputs": [
        {
          "name": "stdout",
          "output_type": "stream",
          "text": [
            "10\n",
            "1010\n"
          ]
        }
      ],
      "source": [
        "x = input() # 입력 받는 수는 문자열입니다.\n",
        "print(x + x)"
      ]
    },
    {
      "cell_type": "code",
      "execution_count": null,
      "metadata": {
        "colab": {
          "base_uri": "https://localhost:8080/"
        },
        "id": "iaGRbm6LiOlK",
        "outputId": "997cfcbf-fed1-4bd8-c671-ec685a2bc712"
      },
      "outputs": [
        {
          "data": {
            "text/plain": [
              "builtin_function_or_method"
            ]
          },
          "execution_count": 123,
          "metadata": {},
          "output_type": "execute_result"
        }
      ],
      "source": [
        "type(print)\n",
        "# https://docs.python.org/3/library/functions.html"
      ]
    },
    {
      "cell_type": "code",
      "execution_count": null,
      "metadata": {
        "colab": {
          "base_uri": "https://localhost:8080/"
        },
        "id": "X6dqULxEiS5I",
        "outputId": "d3dfe795-3250-4ec9-d119-28df3ac7aac2"
      },
      "outputs": [
        {
          "name": "stdout",
          "output_type": "stream",
          "text": [
            "hello world\n"
          ]
        },
        {
          "data": {
            "text/plain": [
              "(140681353586384, 140681353586384)"
            ]
          },
          "execution_count": 126,
          "metadata": {},
          "output_type": "execute_result"
        }
      ],
      "source": [
        "leehojun = print\n",
        "leehojun('hello world')\n",
        "id(print), id(leehojun)"
      ]
    },
    {
      "cell_type": "code",
      "execution_count": null,
      "metadata": {
        "colab": {
          "base_uri": "https://localhost:8080/"
        },
        "id": "tnGPoXzUi3Rw",
        "outputId": "b44ff27b-8083-4936-acbe-540b66608936"
      },
      "outputs": [
        {
          "name": "stdout",
          "output_type": "stream",
          "text": [
            "hello world!hello world!hello world!"
          ]
        }
      ],
      "source": [
        "print('hello world', end='!')\n",
        "print('hello world', end='!')\n",
        "print('hello world', end='!')"
      ]
    },
    {
      "cell_type": "code",
      "execution_count": null,
      "metadata": {
        "colab": {
          "base_uri": "https://localhost:8080/"
        },
        "id": "LLrJotIxNTD-",
        "outputId": "65139428-be26-4313-e49a-c16fc3afece5"
      },
      "outputs": [
        {
          "name": "stdout",
          "output_type": "stream",
          "text": [
            "HELLO\n"
          ]
        }
      ],
      "source": [
        "print('H','E','L','L','O', sep='')"
      ]
    },
    {
      "cell_type": "code",
      "execution_count": null,
      "metadata": {
        "colab": {
          "base_uri": "https://localhost:8080/"
        },
        "id": "3r8WafLC8bVY",
        "outputId": "1c98a315-d58d-40d1-e609-165a47fa39ea"
      },
      "outputs": [
        {
          "name": "stdout",
          "output_type": "stream",
          "text": [
            "H@E@L@L@O\n",
            "H!E!L!L!O\n"
          ]
        }
      ],
      "source": [
        "print('H','E','L','L','O', sep='@')\n",
        "print('H','E','L','L','O', sep='!')"
      ]
    },
    {
      "cell_type": "code",
      "execution_count": null,
      "metadata": {
        "id": "A4TSuaCX50x7"
      },
      "outputs": [],
      "source": [
        "이름 = '이호준'\n",
        "나이 = 10\n",
        "print('1. 제 이름은 ', 이름, '입니다. 제 나이는 ', 나이, '입니다')\n",
        "print(f'2. 제 이름은 {이름}입니다. 제 나이는 {나이}입니다.')\n",
        "print('3. 제 이름은 {}입니다. 제 나이는 {}입니다.'.format(이름, 나이))\n",
        "print('4. 제 이름은 %s입니다. 제 나이는 %d입니다.'%(이름, 나이))"
      ]
    },
    {
      "cell_type": "markdown",
      "metadata": {
        "id": "AZ4TrL9k6FyB"
      },
      "source": [
        "[포멧 코드의 종류](https://www.notion.so/9fd33417740f4eba8715f5c4a1ed7c7b)"
      ]
    },
    {
      "cell_type": "markdown",
      "metadata": {
        "id": "n1O89IwOpupj"
      },
      "source": [
        "## formatting"
      ]
    },
    {
      "cell_type": "code",
      "execution_count": null,
      "metadata": {
        "colab": {
          "base_uri": "https://localhost:8080/"
        },
        "id": "N-RI3xU1C1BW",
        "outputId": "0aec117e-4223-44ec-cdb4-02c77c5f0763"
      },
      "outputs": [
        {
          "name": "stdout",
          "output_type": "stream",
          "text": [
            "100\n"
          ]
        }
      ],
      "source": [
        "print(f'{10*10}')"
      ]
    },
    {
      "cell_type": "code",
      "execution_count": null,
      "metadata": {
        "colab": {
          "base_uri": "https://localhost:8080/"
        },
        "id": "jTtIkAn3CP0o",
        "outputId": "d8009957-8db3-4408-dda4-c55c55bc5d7a"
      },
      "outputs": [
        {
          "name": "stdout",
          "output_type": "stream",
          "text": [
            "hello     \n",
            "     hello\n",
            "  hello   \n"
          ]
        }
      ],
      "source": [
        "print(f'{\"hello\":<10}')\n",
        "print(f'{\"hello\":>10}')\n",
        "print(f'{\"hello\":^10}')"
      ]
    },
    {
      "cell_type": "code",
      "execution_count": null,
      "metadata": {
        "colab": {
          "base_uri": "https://localhost:8080/"
        },
        "id": "7xfSipZ5CczM",
        "outputId": "2f63421e-e837-4d65-a4a2-09bf8ed4ab5a"
      },
      "outputs": [
        {
          "name": "stdout",
          "output_type": "stream",
          "text": [
            "hello!!!!!\n",
            "=====hello\n",
            "~~hello~~~\n"
          ]
        }
      ],
      "source": [
        "print(f'{\"hello\":!<10}')\n",
        "print(f'{\"hello\":=>10}')\n",
        "print(f'{\"hello\":~^10}')"
      ]
    },
    {
      "cell_type": "code",
      "execution_count": null,
      "metadata": {
        "colab": {
          "base_uri": "https://localhost:8080/"
        },
        "id": "pMbrkS_9OuOJ",
        "outputId": "0a184462-ba33-412b-9963-2580b9ffe580"
      },
      "outputs": [
        {
          "name": "stdout",
          "output_type": "stream",
          "text": [
            "01001\n"
          ]
        }
      ],
      "source": [
        "# https://tech.kakao.com/2017/09/27/kakao-blind-recruitment-round-1/\n",
        "print(f'{bin(9)[2:]:0>5}')"
      ]
    },
    {
      "cell_type": "code",
      "execution_count": null,
      "metadata": {
        "colab": {
          "base_uri": "https://localhost:8080/"
        },
        "id": "bSo2urdGCge2",
        "outputId": "2875799c-9bb3-47a2-da49-8038569bef9c"
      },
      "outputs": [
        {
          "name": "stdout",
          "output_type": "stream",
          "text": [
            "0.46\n"
          ]
        }
      ],
      "source": [
        "print(f'{0.45678:0.2f}')"
      ]
    },
    {
      "cell_type": "code",
      "execution_count": null,
      "metadata": {
        "id": "bIR7AJ1e99Lt"
      },
      "outputs": [],
      "source": [
        "put_int_day = 230427\n",
        "put_float = 3.14\n",
        "put_str_school = \"School\"\n",
        "put_str_subject = \"Python\""
      ]
    },
    {
      "cell_type": "code",
      "execution_count": null,
      "metadata": {
        "colab": {
          "base_uri": "https://localhost:8080/"
        },
        "id": "bLzVwdMXBQbN",
        "outputId": "c9c90906-0fe9-4f25-a45d-31f6be829293"
      },
      "outputs": [
        {
          "output_type": "stream",
          "name": "stdout",
          "text": [
            "정수 : 230427, 실수 : 3.140000, 문자열 : School, 문자열 : Python\n",
            "정수 : 230427, 실수 : 3.14, 문자열 : School, 문자열 : Python\n",
            "정수 : 230427, 실수 : 3.14, 문자열 : School, 문자열 : Python\n"
          ]
        }
      ],
      "source": [
        "print(\"정수 : %i, 실수 : %f, 문자열 : %s, 문자열 : %s\" % (put_int_day, put_float, put_str_school, put_str_subject))\n",
        "print(\"정수 : {}, 실수 : {}, 문자열 : {}, 문자열 : {}\".format(put_int_day, put_float, put_str_school, put_str_subject))\n",
        "print(f\"정수 : {put_int_day}, 실수 : {put_float}, 문자열 : {put_str_school}, 문자열 : {put_str_subject}\")"
      ]
    },
    {
      "cell_type": "markdown",
      "metadata": {
        "id": "qujWg3I6-XIW"
      },
      "source": [
        "정렬 연습을 해보겠습니다."
      ]
    },
    {
      "cell_type": "code",
      "execution_count": null,
      "metadata": {
        "colab": {
          "base_uri": "https://localhost:8080/"
        },
        "id": "-OJezPkH-WpE",
        "outputId": "49c8d22d-2850-4898-d2a9-cf52580d0f6f"
      },
      "outputs": [
        {
          "output_type": "stream",
          "name": "stdout",
          "text": [
            "정수 :               230427\n",
            "실수 :                 3.14\n",
            "문자열 :               School\n"
          ]
        }
      ],
      "source": [
        "print(\"정수 : %20i\" % put_int_day) # 20자리를 비운 후 오른쪽 정렬\n",
        "print(\"실수 : %20.2f\" % put_float) # 20자리를 비운 후 소수점 2째 자리까지 오른쪽 정렬\n",
        "print(\"문자열 : %20s\" % put_str_school) # 20자리를 비운 후 오른쪽 정렬"
      ]
    },
    {
      "cell_type": "code",
      "execution_count": null,
      "metadata": {
        "colab": {
          "base_uri": "https://localhost:8080/"
        },
        "id": "0xHT6qUi_FJc",
        "outputId": "5db54673-f39d-4aa5-910e-60b28f9fd20d"
      },
      "outputs": [
        {
          "output_type": "stream",
          "name": "stdout",
          "text": [
            "정수 : 230427, 실수 : 3.14\n",
            "\n",
            "\n",
            "정수 :               230427\n",
            "정수 : 230427              \n",
            "\n",
            "\n",
            "정수 : 230427**************\n",
            "정수 : ㅑㅑㅑㅑㅑㅑㅑㅑㅑㅑㅑㅑㅑㅑ230427\n",
            "정수 : -------230427-------\n",
            "\n",
            "\n",
            "실수 :                  3.1\n",
            "실수 :                 3.14\n",
            "문자열 : Python              \n"
          ]
        }
      ],
      "source": [
        "print(\"정수 : {1}, 실수 : {0}\".format(put_float, put_int_day)) # 순서 지정 가능\n",
        "print('\\n')\n",
        "print(\"정수 : {:20}\".format(put_int_day)) # 20자리를 비운 후 오른쪽 정렬\n",
        "print(\"정수 : {:<20}\".format(put_int_day)) # 20자리를 비운 후 왼쪽 정렬\n",
        "print('\\n')\n",
        "print(\"정수 : {:*<20}\".format(put_int_day)) # 왼쪽 정렬 후 나머지 자리를 *로 채움\n",
        "print(\"정수 : {:ㅑ>20}\".format(put_int_day)) # 오른쪽 정렬 후 나머지 자리를 ㅑ로 채움\n",
        "print(\"정수 : {:-^20}\".format(put_int_day)) # 가운데 정렬 후 나머지 자리를 -로 채움\n",
        "print('\\n')\n",
        "print(\"실수 : {:20.2}\".format(put_float)) # 20자리를 비운 후 숫자 2 개 오른쪽 정렬\n",
        "print(\"실수 : {:20.2f}\".format(put_float)) # 20자리를 비운 후 소수점 2째 자리까지 오른쪽 정렬\n",
        "print(\"문자열 : {:20s}\".format(put_str_subject)) # 20자리를 비운 후 왼쪽 정렬"
      ]
    },
    {
      "cell_type": "code",
      "execution_count": null,
      "metadata": {
        "colab": {
          "base_uri": "https://localhost:8080/"
        },
        "id": "N4ICU4zq_HWm",
        "outputId": "c7d02548-d792-491d-b2b9-04a64aa4ae37"
      },
      "outputs": [
        {
          "output_type": "stream",
          "name": "stdout",
          "text": [
            "정수 : 230427, 실수 : 3.14, 문자열 : School, 문자열 : Python\n",
            "정수 :               230427\n"
          ]
        }
      ],
      "source": [
        "print(f\"정수 : {put_int_day}, 실수 : {put_float}, 문자열 : {put_str_school}, 문자열 : {put_str_subject}\")\n",
        "print(f\"정수 : {put_int_day:20}\") # 20자리를 비운 후 오른쪽 정렬"
      ]
    },
    {
      "cell_type": "markdown",
      "metadata": {
        "id": "enKsWhiHcplR"
      },
      "source": [
        "## int (정수)"
      ]
    },
    {
      "cell_type": "markdown",
      "source": [
        "* 파이썬에서는 숫자를 정수, 실수, 복소수로 나눠 표현합니다.\n",
        "* 음수, 2진수, 8진수, 16진수는 정수로 표현됩니다."
      ],
      "metadata": {
        "id": "R0gCoaeNB6Fr"
      }
    },
    {
      "cell_type": "code",
      "execution_count": null,
      "metadata": {
        "colab": {
          "base_uri": "https://localhost:8080/"
        },
        "id": "L9npSeRMcm1w",
        "outputId": "b1117ecd-72f0-4655-ab5b-94ff4d91b2ca"
      },
      "outputs": [
        {
          "data": {
            "text/plain": [
              "-10"
            ]
          },
          "execution_count": 20,
          "metadata": {},
          "output_type": "execute_result"
        }
      ],
      "source": [
        "10 # 정수\n",
        "-10 # 정수"
      ]
    },
    {
      "cell_type": "code",
      "execution_count": null,
      "metadata": {
        "colab": {
          "base_uri": "https://localhost:8080/"
        },
        "id": "UfuC7-kyc06P",
        "outputId": "a4b3dc17-69ea-40f2-8877-06004ff867c5"
      },
      "outputs": [
        {
          "data": {
            "text/plain": [
              "10.0"
            ]
          },
          "execution_count": 21,
          "metadata": {},
          "output_type": "execute_result"
        }
      ],
      "source": [
        "10.0 # 실수"
      ]
    },
    {
      "cell_type": "code",
      "execution_count": null,
      "metadata": {
        "id": "MW6dwVXoc4ci"
      },
      "outputs": [],
      "source": [
        "a = 10"
      ]
    },
    {
      "cell_type": "code",
      "execution_count": null,
      "metadata": {
        "colab": {
          "base_uri": "https://localhost:8080/"
        },
        "id": "j28AXIiMehXs",
        "outputId": "80ddc5b1-b40e-46fc-c9d2-6d68e812ad19"
      },
      "outputs": [
        {
          "data": {
            "text/plain": [
              "int"
            ]
          },
          "execution_count": 26,
          "metadata": {},
          "output_type": "execute_result"
        }
      ],
      "source": [
        "type(a)"
      ]
    },
    {
      "cell_type": "code",
      "execution_count": null,
      "metadata": {
        "colab": {
          "base_uri": "https://localhost:8080/"
        },
        "id": "NDsvEgBjeoD1",
        "outputId": "86064ee1-6584-4163-afa2-0d3dc0cf5c2b"
      },
      "outputs": [
        {
          "data": {
            "text/plain": [
              "['__abs__',\n",
              " '__add__',\n",
              " '__and__',\n",
              " '__bool__',\n",
              " '__ceil__',\n",
              " '__class__',\n",
              " '__delattr__',\n",
              " '__dir__',\n",
              " '__divmod__',\n",
              " '__doc__',\n",
              " '__eq__',\n",
              " '__float__',\n",
              " '__floor__',\n",
              " '__floordiv__',\n",
              " '__format__',\n",
              " '__ge__',\n",
              " '__getattribute__',\n",
              " '__getnewargs__',\n",
              " '__gt__',\n",
              " '__hash__',\n",
              " '__index__',\n",
              " '__init__',\n",
              " '__init_subclass__',\n",
              " '__int__',\n",
              " '__invert__',\n",
              " '__le__',\n",
              " '__lshift__',\n",
              " '__lt__',\n",
              " '__mod__',\n",
              " '__mul__',\n",
              " '__ne__',\n",
              " '__neg__',\n",
              " '__new__',\n",
              " '__or__',\n",
              " '__pos__',\n",
              " '__pow__',\n",
              " '__radd__',\n",
              " '__rand__',\n",
              " '__rdivmod__',\n",
              " '__reduce__',\n",
              " '__reduce_ex__',\n",
              " '__repr__',\n",
              " '__rfloordiv__',\n",
              " '__rlshift__',\n",
              " '__rmod__',\n",
              " '__rmul__',\n",
              " '__ror__',\n",
              " '__round__',\n",
              " '__rpow__',\n",
              " '__rrshift__',\n",
              " '__rshift__',\n",
              " '__rsub__',\n",
              " '__rtruediv__',\n",
              " '__rxor__',\n",
              " '__setattr__',\n",
              " '__sizeof__',\n",
              " '__str__',\n",
              " '__sub__',\n",
              " '__subclasshook__',\n",
              " '__truediv__',\n",
              " '__trunc__',\n",
              " '__xor__',\n",
              " 'as_integer_ratio',\n",
              " 'bit_length',\n",
              " 'conjugate',\n",
              " 'denominator',\n",
              " 'from_bytes',\n",
              " 'imag',\n",
              " 'numerator',\n",
              " 'real',\n",
              " 'to_bytes']"
            ]
          },
          "execution_count": 27,
          "metadata": {},
          "output_type": "execute_result"
        }
      ],
      "source": [
        "dir(a)"
      ]
    },
    {
      "cell_type": "markdown",
      "source": [
        "* bit_length : 비트로 변환했을 때 길이를 나타냅니다.\n",
        "* to_bytes : 컴퓨터에 저장하는 바이트의 형태로 숫자를 표현합니다."
      ],
      "metadata": {
        "id": "Yi0sSAlKD1n-"
      }
    },
    {
      "cell_type": "code",
      "source": [
        "(-2).to_bytes(1, byteorder='little', signed=True)\n",
        "# 0000 0010\n",
        "# 1111 1101 -> 1의 보수\n",
        "# 1111 1110 -> 2의 보수(16진수로 fe)"
      ],
      "metadata": {
        "colab": {
          "base_uri": "https://localhost:8080/"
        },
        "id": "FR2qz15XPKnO",
        "outputId": "f0979060-3160-431e-ec6d-a96e9a6081a6"
      },
      "execution_count": 2,
      "outputs": [
        {
          "output_type": "execute_result",
          "data": {
            "text/plain": [
              "b'\\xfe'"
            ]
          },
          "metadata": {},
          "execution_count": 2
        }
      ]
    },
    {
      "cell_type": "code",
      "execution_count": null,
      "metadata": {
        "colab": {
          "base_uri": "https://localhost:8080/"
        },
        "id": "slfbv22Zfu5u",
        "outputId": "3aef1591-e4d6-4fb4-aab8-00efab4d3861"
      },
      "outputs": [
        {
          "data": {
            "text/plain": [
              "(int, int, int)"
            ]
          },
          "execution_count": 28,
          "metadata": {},
          "output_type": "execute_result"
        }
      ],
      "source": [
        "a = 0b110   #int, 2진법, 0, 1 (숫자를 2개만 쓰는 것입니다.)\n",
        "b = 0o56    #int, 8진법, 0, 1, 2, 3, 4, 5, 6, 7 (숫자를 8개만 쓰는 것입니다.)\n",
        "c = 0xAD    #int, 16진법, 0, 1, 2, 3, 4, 5, 6, 7, 8, 9, a, b, c, d, e, f (숫자를 16개만 쓰는 것입니다.)\n",
        "\n",
        "type(a), type(b), type(c)"
      ]
    },
    {
      "cell_type": "code",
      "execution_count": null,
      "metadata": {
        "id": "xtQIB8RThNw8"
      },
      "outputs": [],
      "source": [
        "# 287 == (10^2) * 2 + (10^1) * 8 + (10^0) * 7 ## 10진법\n",
        "# 110 == (2^2) * 1 + (2^1) * 1 + (2^0) * 0 => 4 + 2 + 0 => 6 ## 2진법\n",
        "# AC == (16^1) * A + (16^0) * C => 160 + 12 => 172"
      ]
    },
    {
      "cell_type": "code",
      "execution_count": null,
      "metadata": {
        "colab": {
          "base_uri": "https://localhost:8080/"
        },
        "id": "4EMeJqcNf6Ad",
        "outputId": "126d2a15-0003-4f94-ace1-1b890e8c1743"
      },
      "outputs": [
        {
          "data": {
            "text/plain": [
              "(6, 46, 172)"
            ]
          },
          "execution_count": 29,
          "metadata": {},
          "output_type": "execute_result"
        }
      ],
      "source": [
        "a, b, c"
      ]
    },
    {
      "cell_type": "code",
      "execution_count": null,
      "metadata": {
        "colab": {
          "base_uri": "https://localhost:8080/"
        },
        "id": "s5bVqU3DiVj3",
        "outputId": "3adde4f5-ee41-4816-eab7-4d2982c33c49"
      },
      "outputs": [
        {
          "data": {
            "text/plain": [
              "('0b110', '0o56', '0xac')"
            ]
          },
          "execution_count": 31,
          "metadata": {},
          "output_type": "execute_result"
        }
      ],
      "source": [
        "bin(6), oct(46), hex(172)"
      ]
    },
    {
      "cell_type": "code",
      "execution_count": null,
      "metadata": {
        "colab": {
          "base_uri": "https://localhost:8080/"
        },
        "id": "EW9Sjo9ugNRE",
        "outputId": "93db0954-f5e1-42c5-efe6-be0dfdec2f30"
      },
      "outputs": [
        {
          "data": {
            "text/plain": [
              "0.30000000000000004"
            ]
          },
          "execution_count": 30,
          "metadata": {},
          "output_type": "execute_result"
        }
      ],
      "source": [
        "0.1 + 0.2\n",
        "# 모든 언어 공통(2진법으로 변환했을 때 무한대수가 발생됩니다.)\n",
        "# 부동소수점 오차 발생"
      ]
    },
    {
      "cell_type": "code",
      "source": [
        "#20번 실행해보세요.\n",
        "a = 0.1"
      ],
      "metadata": {
        "id": "lZvnqU73QUgZ"
      },
      "execution_count": null,
      "outputs": []
    },
    {
      "cell_type": "code",
      "source": [
        "a += 0.1\n",
        "a"
      ],
      "metadata": {
        "colab": {
          "base_uri": "https://localhost:8080/"
        },
        "id": "AvCFDMhiQfD5",
        "outputId": "746d2555-cbbf-4edf-c765-eeaff8b22fa0"
      },
      "execution_count": null,
      "outputs": [
        {
          "output_type": "execute_result",
          "data": {
            "text/plain": [
              "2.1000000000000005"
            ]
          },
          "metadata": {},
          "execution_count": 61
        }
      ]
    },
    {
      "cell_type": "markdown",
      "source": [
        "* 컴퓨터에서 부동소수점 숫자들은 2진 분수로 표현되기에 꽤 많은 값은 정확히 표현될 수 없다. 그렇기에 사람이 이해하기 쉽게 입력하는 10진 부동소수점 숫자는 2진 부동소수점 숫자로 근사 된다. 예를 들어 10진수 0.1은 2진 분수로 정확하게 표현될 수 없고 0.0001100110011001100110...처럼 무한히 반복되기에 특정 비트에서 멈추고 근사값을 얻는다. 0.1의 경우는 3602879701896397 / 2 ** 55이며 0.1에 가깝지만, 정확히 동일하지는 않다.\n",
        "* https://0.30000000000000004.com/ 에서 언어별 해결책을 제시한다."
      ],
      "metadata": {
        "id": "6vdOIqkORE6D"
      }
    },
    {
      "cell_type": "code",
      "execution_count": null,
      "metadata": {
        "colab": {
          "base_uri": "https://localhost:8080/"
        },
        "id": "cVxPal25lPBj",
        "outputId": "33bf92ba-50c4-4330-fede-827febea30f5"
      },
      "outputs": [
        {
          "data": {
            "text/plain": [
              "int"
            ]
          },
          "execution_count": 41,
          "metadata": {},
          "output_type": "execute_result"
        }
      ],
      "source": [
        "a = 10\n",
        "type(a)"
      ]
    },
    {
      "cell_type": "code",
      "execution_count": null,
      "metadata": {
        "colab": {
          "base_uri": "https://localhost:8080/",
          "height": 35
        },
        "id": "hAAIXvdflZ7z",
        "outputId": "3aee9ddf-72b1-49cb-9ed4-e8a8678c8caf"
      },
      "outputs": [
        {
          "data": {
            "application/vnd.google.colaboratory.intrinsic+json": {
              "type": "string"
            },
            "text/plain": [
              "'100100'"
            ]
          },
          "execution_count": 44,
          "metadata": {},
          "output_type": "execute_result"
        }
      ],
      "source": [
        "'100' + '100'"
      ]
    },
    {
      "cell_type": "code",
      "execution_count": null,
      "metadata": {
        "colab": {
          "base_uri": "https://localhost:8080/"
        },
        "id": "dq4_v69blVrI",
        "outputId": "a3f5ea32-63f3-4895-8fac-08d32f6122fd"
      },
      "outputs": [
        {
          "data": {
            "text/plain": [
              "200"
            ]
          },
          "execution_count": 43,
          "metadata": {},
          "output_type": "execute_result"
        }
      ],
      "source": [
        "int('100') + int('100') # 형 변환"
      ]
    },
    {
      "cell_type": "code",
      "execution_count": null,
      "metadata": {
        "id": "0Oh8HsJSli5W"
      },
      "outputs": [],
      "source": [
        "('0b110', '0o56', '0xac')"
      ]
    },
    {
      "cell_type": "code",
      "execution_count": null,
      "metadata": {
        "colab": {
          "base_uri": "https://localhost:8080/"
        },
        "id": "se3ID9lulmg9",
        "outputId": "971b81bb-6c05-4b6d-a72d-6654e11622bd"
      },
      "outputs": [
        {
          "data": {
            "text/plain": [
              "6"
            ]
          },
          "execution_count": 50,
          "metadata": {},
          "output_type": "execute_result"
        }
      ],
      "source": [
        "int('0b110', 2)\n",
        "int('110', 2)"
      ]
    },
    {
      "cell_type": "code",
      "execution_count": null,
      "metadata": {
        "colab": {
          "base_uri": "https://localhost:8080/"
        },
        "id": "0BtghIfzlsDd",
        "outputId": "a00adab2-4fc0-4bc6-92e0-6c73feb05d27"
      },
      "outputs": [
        {
          "data": {
            "text/plain": [
              "46"
            ]
          },
          "execution_count": 51,
          "metadata": {},
          "output_type": "execute_result"
        }
      ],
      "source": [
        "int('0o56', 8)\n",
        "int('56', 8)"
      ]
    },
    {
      "cell_type": "code",
      "execution_count": null,
      "metadata": {
        "colab": {
          "base_uri": "https://localhost:8080/"
        },
        "id": "bhyopSu0lxbc",
        "outputId": "3571f42e-acf9-4955-948e-f43c3cdf50ab"
      },
      "outputs": [
        {
          "data": {
            "text/plain": [
              "172"
            ]
          },
          "execution_count": 52,
          "metadata": {},
          "output_type": "execute_result"
        }
      ],
      "source": [
        "int('0xac', 16)\n",
        "int('ac', 16)"
      ]
    },
    {
      "cell_type": "code",
      "source": [
        "print(type(10) == int)\n",
        "print(isinstance(10, int))"
      ],
      "metadata": {
        "colab": {
          "base_uri": "https://localhost:8080/"
        },
        "id": "eJIgrl-EDUV3",
        "outputId": "194d9811-e271-4602-e91e-ada6627bcb0f"
      },
      "execution_count": null,
      "outputs": [
        {
          "output_type": "stream",
          "name": "stdout",
          "text": [
            "True\n",
            "True\n"
          ]
        }
      ]
    },
    {
      "cell_type": "code",
      "source": [
        "class int(int):\n",
        "    def 제곱(self, 승수):\n",
        "        return self ** 승수\n",
        "\n",
        "s = int('10')\n",
        "s.제곱(3)"
      ],
      "metadata": {
        "colab": {
          "base_uri": "https://localhost:8080/"
        },
        "id": "ZFEab8bYF-mx",
        "outputId": "137dbd45-e019-4e70-924f-0758237d660b"
      },
      "execution_count": null,
      "outputs": [
        {
          "output_type": "execute_result",
          "data": {
            "text/plain": [
              "1000"
            ]
          },
          "metadata": {},
          "execution_count": 22
        }
      ]
    },
    {
      "cell_type": "markdown",
      "metadata": {
        "id": "vGr6y7FRFCdR"
      },
      "source": [
        "## float (실수)"
      ]
    },
    {
      "cell_type": "code",
      "execution_count": null,
      "metadata": {
        "colab": {
          "base_uri": "https://localhost:8080/"
        },
        "id": "WgbSmwxdFGDy",
        "outputId": "60aeaff6-819e-42a8-c0df-a4b1400d67aa"
      },
      "outputs": [
        {
          "data": {
            "text/plain": [
              "float"
            ]
          },
          "execution_count": 1,
          "metadata": {},
          "output_type": "execute_result"
        }
      ],
      "source": [
        "a = 10.1\n",
        "\n",
        "type(a)"
      ]
    },
    {
      "cell_type": "code",
      "execution_count": null,
      "metadata": {
        "colab": {
          "base_uri": "https://localhost:8080/"
        },
        "id": "3NhBx-ShFU2K",
        "outputId": "9339cbfd-ab28-4abb-aa37-82b9d7889407"
      },
      "outputs": [
        {
          "data": {
            "text/plain": [
              "['__abs__',\n",
              " '__add__',\n",
              " '__bool__',\n",
              " '__ceil__',\n",
              " '__class__',\n",
              " '__delattr__',\n",
              " '__dir__',\n",
              " '__divmod__',\n",
              " '__doc__',\n",
              " '__eq__',\n",
              " '__float__',\n",
              " '__floor__',\n",
              " '__floordiv__',\n",
              " '__format__',\n",
              " '__ge__',\n",
              " '__getattribute__',\n",
              " '__getformat__',\n",
              " '__getnewargs__',\n",
              " '__gt__',\n",
              " '__hash__',\n",
              " '__init__',\n",
              " '__init_subclass__',\n",
              " '__int__',\n",
              " '__le__',\n",
              " '__lt__',\n",
              " '__mod__',\n",
              " '__mul__',\n",
              " '__ne__',\n",
              " '__neg__',\n",
              " '__new__',\n",
              " '__pos__',\n",
              " '__pow__',\n",
              " '__radd__',\n",
              " '__rdivmod__',\n",
              " '__reduce__',\n",
              " '__reduce_ex__',\n",
              " '__repr__',\n",
              " '__rfloordiv__',\n",
              " '__rmod__',\n",
              " '__rmul__',\n",
              " '__round__',\n",
              " '__rpow__',\n",
              " '__rsub__',\n",
              " '__rtruediv__',\n",
              " '__setattr__',\n",
              " '__setformat__',\n",
              " '__sizeof__',\n",
              " '__str__',\n",
              " '__sub__',\n",
              " '__subclasshook__',\n",
              " '__truediv__',\n",
              " '__trunc__',\n",
              " 'as_integer_ratio',\n",
              " 'conjugate',\n",
              " 'fromhex',\n",
              " 'hex',\n",
              " 'imag',\n",
              " 'is_integer',\n",
              " 'real']"
            ]
          },
          "execution_count": 2,
          "metadata": {},
          "output_type": "execute_result"
        }
      ],
      "source": [
        "dir(a)"
      ]
    },
    {
      "cell_type": "code",
      "execution_count": null,
      "metadata": {
        "colab": {
          "base_uri": "https://localhost:8080/"
        },
        "id": "Q4x8txgeFXOY",
        "outputId": "52d31bed-8cb5-47b8-9908-a975798a631c"
      },
      "outputs": [
        {
          "data": {
            "text/plain": [
              "float"
            ]
          },
          "execution_count": 4,
          "metadata": {},
          "output_type": "execute_result"
        }
      ],
      "source": [
        "a = 10\n",
        "b = 10.1\n",
        "\n",
        "type(a + b) # 다른 언어는 error....."
      ]
    },
    {
      "cell_type": "markdown",
      "metadata": {
        "id": "X-7zNXaOF7tT"
      },
      "source": [
        "## str (문자열)\n",
        "\n",
        "* 왜 문자'형'이 아니라 문자'열'일까요?"
      ]
    },
    {
      "cell_type": "code",
      "execution_count": null,
      "metadata": {
        "colab": {
          "base_uri": "https://localhost:8080/"
        },
        "id": "6jZePzFoFt3t",
        "outputId": "4b1d24ab-c703-4a9f-91b6-eaf65480def6"
      },
      "outputs": [
        {
          "data": {
            "text/plain": [
              "str"
            ]
          },
          "execution_count": 5,
          "metadata": {},
          "output_type": "execute_result"
        }
      ],
      "source": [
        "a = 'Hello World'\n",
        "\n",
        "type(a)"
      ]
    },
    {
      "cell_type": "code",
      "execution_count": null,
      "metadata": {
        "colab": {
          "base_uri": "https://localhost:8080/",
          "height": 35
        },
        "id": "Pm9p7RlHKPOL",
        "outputId": "0f1e3c0f-84ce-425d-9c15-051f6e4cec50"
      },
      "outputs": [
        {
          "data": {
            "application/vnd.google.colaboratory.intrinsic+json": {
              "type": "string"
            },
            "text/plain": [
              "'a'"
            ]
          },
          "execution_count": 26,
          "metadata": {},
          "output_type": "execute_result"
        }
      ],
      "source": [
        "b = 'paullab CEO leehojun'\n",
        "\n",
        "b[0] # 대괄호 안에 들어값을 index라고 하고, 이렇게 index로 값을 호출하는 방법을 indexing이라고 합니다.\n",
        "b[1]"
      ]
    },
    {
      "cell_type": "code",
      "execution_count": null,
      "metadata": {
        "id": "5cyihLL_GYmu"
      },
      "outputs": [],
      "source": [
        "dir(a)"
      ]
    },
    {
      "cell_type": "code",
      "execution_count": null,
      "metadata": {
        "id": "mLei_n2VGZ-m"
      },
      "outputs": [],
      "source": [
        "'capitalize','casefold','center','count','encode','endswith','expandtabs',\n",
        "'find','format','format_map','index','isalnum','isalpha','isascii','isdecimal',\n",
        "'isdigit','isidentifier','islower','isnumeric','isprintable','isspace','istitle',\n",
        "'isupper','join','ljust','lower','lstrip','maketrans','partition','removeprefix',\n",
        "'removesuffix','replace','rfind','rindex','rjust','rpartition','rsplit','rstrip',\n",
        "'split','splitlines','startswith','strip','swapcase','title','translate','upper','zfill'"
      ]
    },
    {
      "cell_type": "markdown",
      "metadata": {
        "id": "HpkwfGygGx-y"
      },
      "source": [
        "* 모든 Line은 79자 (Characters)로 제한하시기를 권고합니다."
      ]
    },
    {
      "cell_type": "code",
      "execution_count": null,
      "metadata": {
        "id": "ZtNr_VqPG0PF"
      },
      "outputs": [],
      "source": [
        "# aaaaaaaaaaaaaaaaaaaaaaaaaaaaaaaaaaaaaaaaaaaaaaaaaaaaaaaaaaaaaaaaaaaaaaaaaaaaaaaa => 80자\n",
        "# 아아아아아아아아아아아아아아아아아아아아아아아아아아아아아아아아아아아아아아아아아아 => 42자면 한글 넘어갑니다.\n",
        "# line에 딱 맞춰 들어간 것을 볼 수 있습니다. \n",
        "# 강제사항은 아닙니다.\n",
        "# 띄어쓰기 4번도 강제사항은 아닙니다.\n",
        "# pep8, pep 20에 기술되어 있습니다. => pep(Python Enhancement Proposal)란 무엇인가요? 8이란 무엇인가요?\n",
        "# pep8 : Style Guide for Python Code\n",
        "# pep20 : The Zen of Python\n",
        "# https://peps.python.org/"
      ]
    },
    {
      "cell_type": "code",
      "execution_count": null,
      "metadata": {
        "id": "4ZVp4JWoHIpb"
      },
      "outputs": [],
      "source": [
        "for i in range(10):\n",
        "        print(i)\n",
        "        print(i + i)"
      ]
    },
    {
      "cell_type": "code",
      "execution_count": null,
      "metadata": {
        "colab": {
          "base_uri": "https://localhost:8080/",
          "height": 35
        },
        "id": "1K4B70rmIif4",
        "outputId": "9b517e65-79ac-43a9-ab0e-5e06a72df0b7"
      },
      "outputs": [
        {
          "data": {
            "application/vnd.google.colaboratory.intrinsic+json": {
              "type": "string"
            },
            "text/plain": [
              "'Hello World'"
            ]
          },
          "execution_count": 12,
          "metadata": {},
          "output_type": "execute_result"
        }
      ],
      "source": [
        "a"
      ]
    },
    {
      "cell_type": "code",
      "execution_count": null,
      "metadata": {
        "colab": {
          "base_uri": "https://localhost:8080/",
          "height": 35
        },
        "id": "1PdiQ2oyIq02",
        "outputId": "cec6fcd9-a001-4f8b-adae-57b1de3b88ac"
      },
      "outputs": [
        {
          "data": {
            "application/vnd.google.colaboratory.intrinsic+json": {
              "type": "string"
            },
            "text/plain": [
              "'hello world'"
            ]
          },
          "execution_count": 13,
          "metadata": {},
          "output_type": "execute_result"
        }
      ],
      "source": [
        "a.lower()"
      ]
    },
    {
      "cell_type": "code",
      "execution_count": null,
      "metadata": {
        "colab": {
          "base_uri": "https://localhost:8080/",
          "height": 35
        },
        "id": "l-5K9IheItGN",
        "outputId": "d70b6d6f-c957-4092-b863-c042c4db8463"
      },
      "outputs": [
        {
          "data": {
            "application/vnd.google.colaboratory.intrinsic+json": {
              "type": "string"
            },
            "text/plain": [
              "'HELLO WORLD'"
            ]
          },
          "execution_count": 14,
          "metadata": {},
          "output_type": "execute_result"
        }
      ],
      "source": [
        "a.upper()"
      ]
    },
    {
      "cell_type": "code",
      "execution_count": null,
      "metadata": {
        "colab": {
          "base_uri": "https://localhost:8080/"
        },
        "id": "TMkW0FoVIup3",
        "outputId": "fbfca53a-2195-4d3c-b3ac-9e688bfc9b52"
      },
      "outputs": [
        {
          "data": {
            "text/plain": [
              "False"
            ]
          },
          "execution_count": 15,
          "metadata": {},
          "output_type": "execute_result"
        }
      ],
      "source": [
        "a.islower() # 전부다 소문자로 이뤄져 있는가?"
      ]
    },
    {
      "cell_type": "code",
      "execution_count": null,
      "metadata": {
        "colab": {
          "base_uri": "https://localhost:8080/"
        },
        "id": "yokUSvwHI2Qc",
        "outputId": "73da27f1-69de-48f9-8b49-1f5b10c034fb"
      },
      "outputs": [
        {
          "data": {
            "text/plain": [
              "True"
            ]
          },
          "execution_count": 16,
          "metadata": {},
          "output_type": "execute_result"
        }
      ],
      "source": [
        "'hello'.islower() # 전부다 소문자로 이뤄져 있는가?"
      ]
    },
    {
      "cell_type": "code",
      "execution_count": null,
      "metadata": {
        "colab": {
          "base_uri": "https://localhost:8080/"
        },
        "id": "6BFf1K1kI_DU",
        "outputId": "d49303dd-abf7-411a-cdfa-429dc30f64a4"
      },
      "outputs": [
        {
          "data": {
            "text/plain": [
              "False"
            ]
          },
          "execution_count": 19,
          "metadata": {},
          "output_type": "execute_result"
        }
      ],
      "source": [
        "'hello'.isupper()"
      ]
    },
    {
      "cell_type": "code",
      "execution_count": null,
      "metadata": {
        "colab": {
          "base_uri": "https://localhost:8080/"
        },
        "id": "mM38o028JBjs",
        "outputId": "c6d1e558-1660-4eec-a1e9-da701f962cb0"
      },
      "outputs": [
        {
          "data": {
            "text/plain": [
              "True"
            ]
          },
          "execution_count": 20,
          "metadata": {},
          "output_type": "execute_result"
        }
      ],
      "source": [
        "'HELLO'.isupper()"
      ]
    },
    {
      "cell_type": "code",
      "execution_count": null,
      "metadata": {
        "colab": {
          "base_uri": "https://localhost:8080/"
        },
        "id": "xkJFnIZNJL5Y",
        "outputId": "ce8eae64-2ee9-47da-a64f-2cc80cfb5f67"
      },
      "outputs": [
        {
          "data": {
            "text/plain": [
              "True"
            ]
          },
          "execution_count": 21,
          "metadata": {},
          "output_type": "execute_result"
        }
      ],
      "source": [
        "'123'.isdigit() # 숫자인가?"
      ]
    },
    {
      "cell_type": "code",
      "execution_count": null,
      "metadata": {
        "colab": {
          "base_uri": "https://localhost:8080/"
        },
        "id": "FSQk_q-pJZKv",
        "outputId": "15d5a9ab-2bc3-4f7d-df2c-ddde3c143ef9"
      },
      "outputs": [
        {
          "data": {
            "text/plain": [
              "False"
            ]
          },
          "execution_count": 22,
          "metadata": {},
          "output_type": "execute_result"
        }
      ],
      "source": [
        "'123'.isalpha()"
      ]
    },
    {
      "cell_type": "code",
      "execution_count": null,
      "metadata": {
        "colab": {
          "base_uri": "https://localhost:8080/"
        },
        "id": "SXGnvVEUJd31",
        "outputId": "5f4b0007-7024-4c7c-8b89-b5311a14614e"
      },
      "outputs": [
        {
          "data": {
            "text/plain": [
              "60"
            ]
          },
          "execution_count": 24,
          "metadata": {},
          "output_type": "execute_result"
        }
      ],
      "source": [
        "# 배우지 않은 문법을 이해하려 노력하지는 마세요.\n",
        "# i.isdigit() 이것만 집중해서 보시면 됩니다.\n",
        "# 아래 문자열 중 숫자만 다 더해라\n",
        "s = 0\n",
        "for i in '123abc7584739203lsdlfei123ndsdf':\n",
        "    if i.isdigit():\n",
        "        s = s + int(i)\n",
        "s"
      ]
    },
    {
      "cell_type": "code",
      "execution_count": null,
      "metadata": {
        "colab": {
          "base_uri": "https://localhost:8080/"
        },
        "id": "8iM_uQhKJ6pU",
        "outputId": "bfc8d34a-0ebf-4ce6-f6e4-1bda5f692e0e"
      },
      "outputs": [
        {
          "data": {
            "text/plain": [
              "False"
            ]
          },
          "execution_count": 27,
          "metadata": {},
          "output_type": "execute_result"
        }
      ],
      "source": [
        "' '.isalpha()"
      ]
    },
    {
      "cell_type": "code",
      "execution_count": null,
      "metadata": {
        "colab": {
          "base_uri": "https://localhost:8080/"
        },
        "id": "8edB5lFyKsoB",
        "outputId": "6ccfe5c6-7038-49ee-aec2-d816b4f4be67"
      },
      "outputs": [
        {
          "data": {
            "text/plain": [
              "False"
            ]
          },
          "execution_count": 28,
          "metadata": {},
          "output_type": "execute_result"
        }
      ],
      "source": [
        "'hello world'.isalpha()"
      ]
    },
    {
      "cell_type": "code",
      "execution_count": null,
      "metadata": {
        "colab": {
          "base_uri": "https://localhost:8080/"
        },
        "id": "0WDzdGLz-IgP",
        "outputId": "5b0a0199-cdef-4efa-be23-7615bef26fb9"
      },
      "outputs": [
        {
          "data": {
            "text/plain": [
              "False"
            ]
          },
          "execution_count": 14,
          "metadata": {},
          "output_type": "execute_result"
        }
      ],
      "source": [
        "'hello world'.isalnum()\n",
        "'hello'.isalnum()\n",
        "'123hello'.isalnum()\n",
        "'안녕하세요'.isalnum()"
      ]
    },
    {
      "cell_type": "code",
      "execution_count": null,
      "metadata": {
        "colab": {
          "base_uri": "https://localhost:8080/"
        },
        "id": "0aI92imOL5QU",
        "outputId": "31c5f6fc-a33b-43e5-a753-204247930c15"
      },
      "outputs": [
        {
          "data": {
            "text/plain": [
              "3"
            ]
          },
          "execution_count": 29,
          "metadata": {},
          "output_type": "execute_result"
        }
      ],
      "source": [
        "'hello world'.count('l')"
      ]
    },
    {
      "cell_type": "code",
      "execution_count": null,
      "metadata": {
        "colab": {
          "base_uri": "https://localhost:8080/"
        },
        "id": "RdSPpOTwMBun",
        "outputId": "942bf732-0f08-4d10-8483-91cfdbffa7c4"
      },
      "outputs": [
        {
          "data": {
            "text/plain": [
              "20"
            ]
          },
          "execution_count": 34,
          "metadata": {},
          "output_type": "execute_result"
        }
      ],
      "source": [
        "# 1부터 10000까지 8의 갯수를 모두 세어라.\n",
        "'[1, 2, 3, 4, 5]'.count(',')\n",
        "str(list(range(101))).count('8')"
      ]
    },
    {
      "cell_type": "code",
      "execution_count": null,
      "metadata": {
        "colab": {
          "base_uri": "https://localhost:8080/",
          "height": 35
        },
        "id": "fDwOA3vKPaZ7",
        "outputId": "92fa8de2-7148-474d-aa14-d7649ed385a7"
      },
      "outputs": [
        {
          "data": {
            "application/vnd.google.colaboratory.intrinsic+json": {
              "type": "string"
            },
            "text/plain": [
              "'------leehojun------'"
            ]
          },
          "execution_count": 39,
          "metadata": {},
          "output_type": "execute_result"
        }
      ],
      "source": [
        "'leehojun'.center(10)\n",
        "'leehojun'.center(20)\n",
        "'leehojun'.center(20, '!')\n",
        "'leehojun'.center(20, '-')"
      ]
    },
    {
      "cell_type": "code",
      "execution_count": null,
      "metadata": {
        "colab": {
          "base_uri": "https://localhost:8080/",
          "height": 35
        },
        "id": "G4sxNo9l8gPo",
        "outputId": "25c1f871-985e-4661-b24d-a3a153ff94de"
      },
      "outputs": [
        {
          "data": {
            "application/vnd.google.colaboratory.intrinsic+json": {
              "type": "string"
            },
            "text/plain": [
              "'          paullab CEO leehojun'"
            ]
          },
          "execution_count": 143,
          "metadata": {},
          "output_type": "execute_result"
        }
      ],
      "source": [
        "'paullab CEO leehojun'.rjust(30) #오른쪽 정렬\n",
        "# 'paullab CEO leehojun'.ljust(30) #왼쪽 정렬\n",
        "# 'paullab CEO leehojun'.center(30)#가운데 정렬"
      ]
    },
    {
      "cell_type": "code",
      "execution_count": null,
      "metadata": {
        "id": "rW3Uq_reP-Zz"
      },
      "outputs": [],
      "source": [
        "'leehojun'.index('h')\n",
        "# 'leehojun'.index('z') # 못찾으면 error"
      ]
    },
    {
      "cell_type": "code",
      "execution_count": null,
      "metadata": {
        "colab": {
          "base_uri": "https://localhost:8080/"
        },
        "id": "yG2Rwf6tQBuH",
        "outputId": "13096447-05e1-4acd-a264-acc297f5579f"
      },
      "outputs": [
        {
          "data": {
            "text/plain": [
              "-1"
            ]
          },
          "execution_count": 43,
          "metadata": {},
          "output_type": "execute_result"
        }
      ],
      "source": [
        "'leehojun'.find('h')\n",
        "'leehojun'.find('z') # 못찾으면 -1"
      ]
    },
    {
      "cell_type": "code",
      "execution_count": null,
      "metadata": {
        "id": "_lYbIwGqQVKo"
      },
      "outputs": [],
      "source": [
        "# 그러면 어떤 코드가 더 좋은가요?\n",
        "# 정답은 없습니다. 여러분 코드에 의도에 맞게 코딩하실 필요가 있습니다."
      ]
    },
    {
      "cell_type": "code",
      "execution_count": null,
      "metadata": {
        "colab": {
          "base_uri": "https://localhost:8080/"
        },
        "id": "VNiT0RQUQpf7",
        "outputId": "eec7e311-e3e9-4eba-82c2-78bbf9616dd9"
      },
      "outputs": [
        {
          "data": {
            "text/plain": [
              "6"
            ]
          },
          "execution_count": 44,
          "metadata": {},
          "output_type": "execute_result"
        }
      ],
      "source": [
        "'hello'.count('') # 제가 해본 코드는 아닙니다."
      ]
    },
    {
      "cell_type": "code",
      "execution_count": null,
      "metadata": {
        "colab": {
          "base_uri": "https://localhost:8080/"
        },
        "id": "RCUY-d1hQ3CI",
        "outputId": "6e83011d-5fce-46a4-a0c1-e0d62e9fd501"
      },
      "outputs": [
        {
          "data": {
            "text/plain": [
              "['hello']"
            ]
          },
          "execution_count": 47,
          "metadata": {},
          "output_type": "execute_result"
        }
      ],
      "source": [
        "'hello'"
      ]
    },
    {
      "cell_type": "code",
      "execution_count": null,
      "metadata": {
        "colab": {
          "base_uri": "https://localhost:8080/"
        },
        "id": "rTucl2YtRd7-",
        "outputId": "f878a7dd-7727-4ab2-976c-e748ac2e92ad"
      },
      "outputs": [
        {
          "data": {
            "text/plain": [
              "6"
            ]
          },
          "execution_count": 48,
          "metadata": {},
          "output_type": "execute_result"
        }
      ],
      "source": [
        "a = ''\n",
        "\n",
        "'hello'.count(a)"
      ]
    },
    {
      "cell_type": "code",
      "execution_count": null,
      "metadata": {
        "colab": {
          "base_uri": "https://localhost:8080/"
        },
        "id": "xiEd4LABciH-",
        "outputId": "d9fe9876-72db-453e-a4fa-dfd598030f5a"
      },
      "outputs": [
        {
          "name": "stdout",
          "output_type": "stream",
          "text": [
            "0\n",
            "1\n"
          ]
        }
      ],
      "source": [
        "# https://stackoverflow.com/questions/40192449/why-are-str-count-and-lenstr-giving-different-output\n",
        "a = ''\n",
        "print(len(a))\n",
        "print(a.count(''))\n",
        "# ' t e s t ' => 빈 문자가 5번 카운팅"
      ]
    },
    {
      "cell_type": "code",
      "execution_count": null,
      "metadata": {
        "colab": {
          "base_uri": "https://localhost:8080/"
        },
        "id": "Ahleg4lxc8Xh",
        "outputId": "4efff672-f0f1-4db7-fc85-2ccd4ab9e54c"
      },
      "outputs": [
        {
          "name": "stdout",
          "output_type": "stream",
          "text": [
            "1\n",
            "2\n"
          ]
        }
      ],
      "source": [
        "a = 'a'\n",
        "print(len(a))\n",
        "print(a.count(''))\n",
        "# ' t e s t ' => 빈 문자가 5번 카운팅"
      ]
    },
    {
      "cell_type": "code",
      "execution_count": null,
      "metadata": {
        "colab": {
          "base_uri": "https://localhost:8080/",
          "height": 35
        },
        "id": "E57GSRGQ7AwO",
        "outputId": "659e4fa9-fe50-4714-8d74-bbe069f77bb1"
      },
      "outputs": [
        {
          "data": {
            "application/vnd.google.colaboratory.intrinsic+json": {
              "type": "string"
            },
            "text/plain": [
              "''"
            ]
          },
          "execution_count": 140,
          "metadata": {},
          "output_type": "execute_result"
        }
      ],
      "source": [
        "'' + ''"
      ]
    },
    {
      "cell_type": "code",
      "execution_count": null,
      "metadata": {
        "id": "SGhfhl3H7Kgt"
      },
      "outputs": [],
      "source": [
        "a = ''\n",
        "print(a.count(''))"
      ]
    },
    {
      "cell_type": "code",
      "execution_count": null,
      "metadata": {
        "colab": {
          "base_uri": "https://localhost:8080/"
        },
        "id": "G5BUykdgRl4Q",
        "outputId": "3e0c6c14-3236-47f7-fa1f-2ed13243025a"
      },
      "outputs": [
        {
          "data": {
            "text/plain": [
              "True"
            ]
          },
          "execution_count": 49,
          "metadata": {},
          "output_type": "execute_result"
        }
      ],
      "source": [
        "# 중요하진 않습니다.\n",
        "'paullab CEO leehojun.'.endswith('.') # 마침표로 끝났느냐?"
      ]
    },
    {
      "cell_type": "code",
      "execution_count": null,
      "metadata": {
        "colab": {
          "base_uri": "https://localhost:8080/"
        },
        "id": "eroVN0CFRryC",
        "outputId": "884eb676-da65-4146-ae68-77e72c98e60e"
      },
      "outputs": [
        {
          "data": {
            "text/plain": [
              "False"
            ]
          },
          "execution_count": 50,
          "metadata": {},
          "output_type": "execute_result"
        }
      ],
      "source": [
        "'paullab CEO leehojun.'.endswith('!') # 느낌표로 끝났느냐?"
      ]
    },
    {
      "cell_type": "code",
      "execution_count": null,
      "metadata": {
        "colab": {
          "base_uri": "https://localhost:8080/"
        },
        "id": "LuQ2FNZ0SIM8",
        "outputId": "859e8f41-6a52-4d5f-e354-a42529b54578"
      },
      "outputs": [
        {
          "data": {
            "text/plain": [
              "False"
            ]
          },
          "execution_count": 52,
          "metadata": {},
          "output_type": "execute_result"
        }
      ],
      "source": [
        "'paullab CEO leehojun.'[-1] == '.'\n",
        "'paullab CEO leehojun.'[-1] == '!'"
      ]
    },
    {
      "cell_type": "code",
      "execution_count": null,
      "metadata": {
        "colab": {
          "base_uri": "https://localhost:8080/",
          "height": 35
        },
        "id": "3Z8X1W-SSQg-",
        "outputId": "70f4853f-3e18-48b8-da3e-9063e958fd96"
      },
      "outputs": [
        {
          "data": {
            "application/vnd.google.colaboratory.intrinsic+json": {
              "type": "string"
            },
            "text/plain": [
              "'010-5044-2903'"
            ]
          },
          "execution_count": 58,
          "metadata": {},
          "output_type": "execute_result"
        }
      ],
      "source": [
        "''.join(['hello', 'world', 'hojun'])\n",
        "'!'.join(['hello', 'world', 'hojun'])\n",
        "'-'.join(['010', '5044', '2903'])\n",
        "# '-'.join([10, 5044, 2903]) # join하려면 string 형이어야 합니다."
      ]
    },
    {
      "cell_type": "code",
      "execution_count": null,
      "metadata": {
        "id": "YaE9CG1aUb0s"
      },
      "outputs": [],
      "source": [
        "# %용법이 최초에 있었습니다. 안써요. 기억하시지 않으셔도 됩니다.\n",
        "name = 'hojun'\n",
        "age = 11\n",
        "print('name %s'%name)\n",
        "print('name %s age %d'%(name, age))"
      ]
    },
    {
      "cell_type": "code",
      "execution_count": null,
      "metadata": {
        "colab": {
          "base_uri": "https://localhost:8080/"
        },
        "id": "sR_qnaOQSu1T",
        "outputId": "fe0bb8aa-1572-4764-ab70-74686f1f971a"
      },
      "outputs": [
        {
          "name": "stdout",
          "output_type": "stream",
          "text": [
            "name hojun age 11\n",
            "name hojun age 11\n",
            "name 11 age 11\n",
            "name hojun age 11\n"
          ]
        }
      ],
      "source": [
        "# format 용법이 생겼습니다.\n",
        "# format 용법만 별도 정리 해드리겠습니다. (1시간 정도)\n",
        "name = 'hojun'\n",
        "age = 11\n",
        "txt = 'name {} age {}'\n",
        "print('name {} age {}'.format(name, age))\n",
        "print('name {0} age {1}'.format(name, age))\n",
        "print('name {1} age {1}'.format(name, age))\n",
        "print(txt.format(name, age))"
      ]
    },
    {
      "cell_type": "code",
      "execution_count": null,
      "metadata": {
        "colab": {
          "base_uri": "https://localhost:8080/"
        },
        "id": "NPal0E61Ud0Y",
        "outputId": "fa212fec-2435-45d1-e563-ec32ac9dcc45"
      },
      "outputs": [
        {
          "name": "stdout",
          "output_type": "stream",
          "text": [
            "name: hojun age: 11\n"
          ]
        }
      ],
      "source": [
        "# f-string 용법이 생겼습니다.(3.6 version에서 새로 나옴)\n",
        "name = 'hojun'\n",
        "age = 11\n",
        "print(f'name: {name} age: {age}')"
      ]
    },
    {
      "cell_type": "code",
      "execution_count": null,
      "metadata": {
        "colab": {
          "base_uri": "https://localhost:8080/"
        },
        "id": "9ImNoYYeVzAP",
        "outputId": "5817f88c-050f-4b70-e532-eb4c8c2383ac"
      },
      "outputs": [
        {
          "data": {
            "text/plain": [
              "9"
            ]
          },
          "execution_count": 82,
          "metadata": {},
          "output_type": "execute_result"
        }
      ],
      "source": [
        "'hello world'.find('l')\n",
        "'hello world'.rfind('l')\n",
        "'hello world'.rindex('l')"
      ]
    },
    {
      "cell_type": "code",
      "execution_count": null,
      "metadata": {
        "colab": {
          "base_uri": "https://localhost:8080/",
          "height": 35
        },
        "id": "cdCu1OBNWV9r",
        "outputId": "fc769cc8-2131-4bee-f6b6-b2f87a25f12b"
      },
      "outputs": [
        {
          "data": {
            "application/vnd.google.colaboratory.intrinsic+json": {
              "type": "string"
            },
            "text/plain": [
              "'hello world'"
            ]
          },
          "execution_count": 83,
          "metadata": {},
          "output_type": "execute_result"
        }
      ],
      "source": [
        "'        hello world         '.strip() #rstrip, lstrip"
      ]
    },
    {
      "cell_type": "code",
      "execution_count": null,
      "metadata": {
        "colab": {
          "base_uri": "https://localhost:8080/",
          "height": 35
        },
        "id": "t0Wk2kSPWfr_",
        "outputId": "58a786fe-461c-43aa-f8bc-1c9c4b14a9c4"
      },
      "outputs": [
        {
          "data": {
            "application/vnd.google.colaboratory.intrinsic+json": {
              "type": "string"
            },
            "text/plain": [
              "'0000000100'"
            ]
          },
          "execution_count": 84,
          "metadata": {},
          "output_type": "execute_result"
        }
      ],
      "source": [
        "'100'.zfill(10) # 10자리를 채웁니다."
      ]
    },
    {
      "cell_type": "code",
      "execution_count": null,
      "metadata": {
        "colab": {
          "base_uri": "https://localhost:8080/"
        },
        "id": "Z9s8bqtbWwxs",
        "outputId": "41a25fc8-57c7-4693-c774-b546d016632d"
      },
      "outputs": [
        {
          "data": {
            "text/plain": [
              "['010-00', '00-00', '00']"
            ]
          },
          "execution_count": 86,
          "metadata": {},
          "output_type": "execute_result"
        }
      ],
      "source": [
        "'010-0000-0000'.split('-')\n",
        "'010-00!00-00!00'.split('!')"
      ]
    },
    {
      "cell_type": "code",
      "execution_count": null,
      "metadata": {
        "colab": {
          "base_uri": "https://localhost:8080/",
          "height": 35
        },
        "id": "3psfjAFFXTvS",
        "outputId": "732a6c66-7943-4603-cc72-88532b135a5e"
      },
      "outputs": [
        {
          "data": {
            "application/vnd.google.colaboratory.intrinsic+json": {
              "type": "string"
            },
            "text/plain": [
              "'paullab CTO leehojun'"
            ]
          },
          "execution_count": 88,
          "metadata": {},
          "output_type": "execute_result"
        }
      ],
      "source": [
        "'paullab CEO leehojun'.replace('CEO', 'CTO') # string이 나와야 string 메서드 체이닝을 할 수 있습니다."
      ]
    },
    {
      "cell_type": "code",
      "execution_count": null,
      "metadata": {
        "colab": {
          "base_uri": "https://localhost:8080/",
          "height": 35
        },
        "id": "TJLERaX3KvUB",
        "outputId": "d41aad30-f9eb-4131-aa8b-cbcacba10f5a"
      },
      "outputs": [
        {
          "data": {
            "application/vnd.google.colaboratory.intrinsic+json": {
              "type": "string"
            },
            "text/plain": [
              "'paullab CTO leegildong'"
            ]
          },
          "execution_count": 87,
          "metadata": {},
          "output_type": "execute_result"
        }
      ],
      "source": [
        "'paullab CEO leehojun'.replace('CEO', 'CTO').replace('hojun', 'gildong') #메서드 체이닝"
      ]
    },
    {
      "cell_type": "code",
      "execution_count": null,
      "metadata": {
        "id": "fS0hSlOoX_hB"
      },
      "outputs": [],
      "source": [
        "'paullab CEO leehojun'.replace('CEO', 'CTO').replace('hojun', 'gildong') #메서드 체이닝"
      ]
    },
    {
      "cell_type": "code",
      "execution_count": null,
      "metadata": {
        "colab": {
          "base_uri": "https://localhost:8080/",
          "height": 106
        },
        "id": "qfXgaH2ZYcJV",
        "outputId": "43e3d125-a168-470f-a410-9699f6ad3a73"
      },
      "outputs": [
        {
          "name": "stdout",
          "output_type": "stream",
          "text": [
            "  + +-+ -+-  \n",
            "  ++ -- +-+  \n",
            "  ++-+ -+ -  \n",
            "  + ++-+ -+  \n"
          ]
        },
        {
          "data": {
            "application/vnd.google.colaboratory.intrinsic+json": {
              "type": "string"
            },
            "text/plain": [
              "'  + +-+ -+-  '"
            ]
          },
          "execution_count": 95,
          "metadata": {},
          "output_type": "execute_result"
        }
      ],
      "source": [
        "암호 = '''  + +-+ -+-  \n",
        "  ++ -- +-+  \n",
        "  ++-+ -+ -  \n",
        "  + ++-+ -+  '''\n",
        "\n",
        "print(암호)\n",
        "암호.split('\\n')[0]"
      ]
    },
    {
      "cell_type": "code",
      "execution_count": null,
      "metadata": {
        "colab": {
          "base_uri": "https://localhost:8080/",
          "height": 35
        },
        "id": "v-bwiuGuY_4j",
        "outputId": "58a987da-be52-4343-940d-bd3e3a92bee9"
      },
      "outputs": [
        {
          "data": {
            "application/vnd.google.colaboratory.intrinsic+json": {
              "type": "string"
            },
            "text/plain": [
              "'j'"
            ]
          },
          "execution_count": 102,
          "metadata": {},
          "output_type": "execute_result"
        }
      ],
      "source": [
        "# 지금 이 코드에서는 strip을 할 이유가 없지만 앞 뒤 공백만 제거해야 할 때가 있습니다.\n",
        "이진수 = 암호.split('\\n')[0].strip().replace(' ', '').replace('+', '1').replace('-', '0')\n",
        "int(이진수, 2)"
      ]
    },
    {
      "cell_type": "code",
      "execution_count": null,
      "metadata": {
        "colab": {
          "base_uri": "https://localhost:8080/"
        },
        "id": "tC97Q_FkZpHP",
        "outputId": "1d23b9dd-aaeb-457b-d328-e47fcc9d0d73"
      },
      "outputs": [
        {
          "data": {
            "text/plain": [
              "106"
            ]
          },
          "execution_count": 104,
          "metadata": {},
          "output_type": "execute_result"
        }
      ],
      "source": [
        "chr(106) # 유니코드표에서 숫자로 문자 출력\n",
        "ord('j') # 유니코드표에서 문자를 숫자로 출력"
      ]
    },
    {
      "cell_type": "code",
      "execution_count": null,
      "metadata": {
        "colab": {
          "base_uri": "https://localhost:8080/"
        },
        "id": "c_JHnWaQXbsL",
        "outputId": "2d76a484-5db7-429f-8473-0ce28a95d849"
      },
      "outputs": [
        {
          "data": {
            "text/plain": [
              "2"
            ]
          },
          "execution_count": 89,
          "metadata": {},
          "output_type": "execute_result"
        }
      ],
      "source": [
        "# '010-0000-0000'.split('-').zfill(10) # error 앞에서 진행한 split이 list를 반환하기 때문에 zfill을 사용할 수 없습니다.\n",
        "'010-0000-0000'.split('-').count('0000') # 이건 가능합니다. count는 str에도 있지만 list에도 있어요."
      ]
    },
    {
      "cell_type": "code",
      "execution_count": null,
      "metadata": {
        "colab": {
          "base_uri": "https://localhost:8080/",
          "height": 35
        },
        "id": "mlHrHKXDdyPu",
        "outputId": "986a8517-51a4-4cae-ad30-9e28dd02bcaf"
      },
      "outputs": [
        {
          "data": {
            "application/vnd.google.colaboratory.intrinsic+json": {
              "type": "string"
            },
            "text/plain": [
              "'hello world'"
            ]
          },
          "execution_count": 108,
          "metadata": {},
          "output_type": "execute_result"
        }
      ],
      "source": [
        "# 아래 3개는 모두 string 입니다.\n",
        "\n",
        "a = 10\n",
        "\n",
        "'hello world {}'.format(a)\n",
        "f'hello world {a}'\n",
        "r'hello world'"
      ]
    },
    {
      "cell_type": "code",
      "execution_count": null,
      "metadata": {
        "id": "nDNmkFFReGOg"
      },
      "outputs": [],
      "source": [
        "r'hello world' # raw : 날것의\n",
        "'hello world'"
      ]
    },
    {
      "cell_type": "code",
      "execution_count": null,
      "metadata": {
        "colab": {
          "base_uri": "https://localhost:8080/"
        },
        "id": "I_vtukfMeJ4n",
        "outputId": "7f1595a5-13c9-4236-ff60-2d5e49c62ffa"
      },
      "outputs": [
        {
          "name": "stdout",
          "output_type": "stream",
          "text": [
            "hello \\n world\n"
          ]
        }
      ],
      "source": [
        "print(r'hello \\n world')"
      ]
    },
    {
      "cell_type": "code",
      "execution_count": null,
      "metadata": {
        "colab": {
          "base_uri": "https://localhost:8080/"
        },
        "id": "NOqpflIIeOQJ",
        "outputId": "4ad26e89-f5ef-4aca-8cf3-1d3c9d974df7"
      },
      "outputs": [
        {
          "name": "stdout",
          "output_type": "stream",
          "text": [
            "hello \n",
            " world\n"
          ]
        }
      ],
      "source": [
        "print('hello \\n world')"
      ]
    },
    {
      "cell_type": "code",
      "execution_count": null,
      "metadata": {
        "colab": {
          "base_uri": "https://localhost:8080/",
          "height": 35
        },
        "id": "7CY4DfZdjuLY",
        "outputId": "f000dd40-77d5-4898-9723-d92afa64eef2"
      },
      "outputs": [
        {
          "data": {
            "application/vnd.google.colaboratory.intrinsic+json": {
              "type": "string"
            },
            "text/plain": [
              "'hello world 10 20 30'"
            ]
          },
          "execution_count": 130,
          "metadata": {},
          "output_type": "execute_result"
        }
      ],
      "source": [
        "a = 10\n",
        "b = 20\n",
        "c = 30\n",
        "txt = 'hello world {}'\n",
        "\n",
        "'hello world {} {} {}'.format(a, b, c)\n",
        "# txt.format(a)\n",
        "# f'hello world {a}'\n",
        "# r'hello world'"
      ]
    },
    {
      "cell_type": "code",
      "execution_count": null,
      "metadata": {
        "colab": {
          "base_uri": "https://localhost:8080/",
          "height": 35
        },
        "id": "UKben1S2kMUz",
        "outputId": "893ad692-c42c-4bd5-fec1-3fcab3db290e"
      },
      "outputs": [
        {
          "data": {
            "application/vnd.google.colaboratory.intrinsic+json": {
              "type": "string"
            },
            "text/plain": [
              "'hello world 10 20 30'"
            ]
          },
          "execution_count": 132,
          "metadata": {},
          "output_type": "execute_result"
        }
      ],
      "source": [
        "type(f'hello world')\n",
        "f'hello world {a} {b} {c}'"
      ]
    },
    {
      "cell_type": "code",
      "execution_count": null,
      "metadata": {
        "colab": {
          "base_uri": "https://localhost:8080/"
        },
        "id": "H-nAF83-k7Ya",
        "outputId": "fa93de51-4c48-4d11-c57b-5436c17a2c9b"
      },
      "outputs": [
        {
          "data": {
            "text/plain": [
              "str"
            ]
          },
          "execution_count": 133,
          "metadata": {},
          "output_type": "execute_result"
        }
      ],
      "source": [
        "type(r'hello world')"
      ]
    },
    {
      "cell_type": "code",
      "execution_count": null,
      "metadata": {
        "colab": {
          "base_uri": "https://localhost:8080/"
        },
        "id": "mLZITsefk_N0",
        "outputId": "32f313fb-7bd9-4f04-c1f1-b47885f2493b"
      },
      "outputs": [
        {
          "name": "stdout",
          "output_type": "stream",
          "text": [
            "hello \\n world \\t hello\n",
            "hello \n",
            " world \t hello\n"
          ]
        }
      ],
      "source": [
        "print(r'hello \\n world \\t hello')\n",
        "print('hello \\n world \\t hello')"
      ]
    },
    {
      "cell_type": "code",
      "execution_count": null,
      "metadata": {
        "colab": {
          "base_uri": "https://localhost:8080/"
        },
        "id": "rDczQgJPj6cH",
        "outputId": "1d0649ca-e103-4969-8186-ec7d423a816e"
      },
      "outputs": [
        {
          "data": {
            "text/plain": [
              "['__add__',\n",
              " '__class__',\n",
              " '__contains__',\n",
              " '__delattr__',\n",
              " '__dir__',\n",
              " '__doc__',\n",
              " '__eq__',\n",
              " '__format__',\n",
              " '__ge__',\n",
              " '__getattribute__',\n",
              " '__getitem__',\n",
              " '__getnewargs__',\n",
              " '__gt__',\n",
              " '__hash__',\n",
              " '__init__',\n",
              " '__init_subclass__',\n",
              " '__iter__',\n",
              " '__le__',\n",
              " '__len__',\n",
              " '__lt__',\n",
              " '__mod__',\n",
              " '__mul__',\n",
              " '__ne__',\n",
              " '__new__',\n",
              " '__reduce__',\n",
              " '__reduce_ex__',\n",
              " '__repr__',\n",
              " '__rmod__',\n",
              " '__rmul__',\n",
              " '__setattr__',\n",
              " '__sizeof__',\n",
              " '__str__',\n",
              " '__subclasshook__',\n",
              " 'capitalize',\n",
              " 'casefold',\n",
              " 'center',\n",
              " 'count',\n",
              " 'encode',\n",
              " 'endswith',\n",
              " 'expandtabs',\n",
              " 'find',\n",
              " 'format',\n",
              " 'format_map',\n",
              " 'index',\n",
              " 'isalnum',\n",
              " 'isalpha',\n",
              " 'isascii',\n",
              " 'isdecimal',\n",
              " 'isdigit',\n",
              " 'isidentifier',\n",
              " 'islower',\n",
              " 'isnumeric',\n",
              " 'isprintable',\n",
              " 'isspace',\n",
              " 'istitle',\n",
              " 'isupper',\n",
              " 'join',\n",
              " 'ljust',\n",
              " 'lower',\n",
              " 'lstrip',\n",
              " 'maketrans',\n",
              " 'partition',\n",
              " 'removeprefix',\n",
              " 'removesuffix',\n",
              " 'replace',\n",
              " 'rfind',\n",
              " 'rindex',\n",
              " 'rjust',\n",
              " 'rpartition',\n",
              " 'rsplit',\n",
              " 'rstrip',\n",
              " 'split',\n",
              " 'splitlines',\n",
              " 'startswith',\n",
              " 'strip',\n",
              " 'swapcase',\n",
              " 'title',\n",
              " 'translate',\n",
              " 'upper',\n",
              " 'zfill']"
            ]
          },
          "execution_count": 128,
          "metadata": {},
          "output_type": "execute_result"
        }
      ],
      "source": [
        "dir('hello world {}')"
      ]
    },
    {
      "cell_type": "code",
      "execution_count": null,
      "metadata": {
        "colab": {
          "base_uri": "https://localhost:8080/",
          "height": 35
        },
        "id": "Dk_38u7mmGxH",
        "outputId": "1ffffb28-6cd0-4c59-e570-975145059683"
      },
      "outputs": [
        {
          "data": {
            "application/vnd.google.colaboratory.intrinsic+json": {
              "type": "string"
            },
            "text/plain": [
              "'1234'"
            ]
          },
          "execution_count": 138,
          "metadata": {},
          "output_type": "execute_result"
        }
      ],
      "source": [
        "# ''.join([1, 2, 3, 4])\n",
        "''.join(['1', '2', '3', '4'])"
      ]
    },
    {
      "cell_type": "code",
      "execution_count": null,
      "metadata": {
        "colab": {
          "base_uri": "https://localhost:8080/",
          "height": 35
        },
        "id": "qM8z5q97mZ09",
        "outputId": "760bbbbc-ed77-4900-e5bd-f582fb767281"
      },
      "outputs": [
        {
          "data": {
            "application/vnd.google.colaboratory.intrinsic+json": {
              "type": "string"
            },
            "text/plain": [
              "'10'"
            ]
          },
          "execution_count": 139,
          "metadata": {},
          "output_type": "execute_result"
        }
      ],
      "source": [
        "str(10)"
      ]
    },
    {
      "cell_type": "code",
      "execution_count": null,
      "metadata": {
        "colab": {
          "base_uri": "https://localhost:8080/",
          "height": 35
        },
        "id": "PkUOZcc39BhU",
        "outputId": "8adfbadd-8fd2-4cf3-fa40-451ece4f9aa4"
      },
      "outputs": [
        {
          "data": {
            "application/vnd.google.colaboratory.intrinsic+json": {
              "type": "string"
            },
            "text/plain": [
              "'pau11ab CEO 122hogun'"
            ]
          },
          "execution_count": 144,
          "metadata": {},
          "output_type": "execute_result"
        }
      ],
      "source": [
        "규칙테이블 = str.maketrans('le','12')\n",
        "'paullab CEO leehogun'.translate(규칙테이블) #어떤 규칙을 정하는것"
      ]
    },
    {
      "cell_type": "code",
      "execution_count": null,
      "metadata": {
        "colab": {
          "base_uri": "https://localhost:8080/",
          "height": 35
        },
        "id": "xM4EOQyh9C7u",
        "outputId": "ad29d076-1c99-44f8-ce20-44ae1baba525"
      },
      "outputs": [
        {
          "data": {
            "application/vnd.google.colaboratory.intrinsic+json": {
              "type": "string"
            },
            "text/plain": [
              "'weni3 he445 w5r4d'"
            ]
          },
          "execution_count": 145,
          "metadata": {},
          "output_type": "execute_result"
        }
      ],
      "source": [
        "규칙테이블 = str.maketrans('vlo','345')\n",
        "'weniv hello world'.translate(규칙테이블) #어떤 규칙을 정하는것"
      ]
    },
    {
      "cell_type": "code",
      "execution_count": null,
      "metadata": {
        "colab": {
          "base_uri": "https://localhost:8080/",
          "height": 35
        },
        "id": "niCyNxhI9UpE",
        "outputId": "f573f746-724a-472a-dc83-d5132eb0b1fa"
      },
      "outputs": [
        {
          "data": {
            "application/vnd.google.colaboratory.intrinsic+json": {
              "type": "string"
            },
            "text/plain": [
              "'paullab CTO leehojun'"
            ]
          },
          "execution_count": 147,
          "metadata": {},
          "output_type": "execute_result"
        }
      ],
      "source": [
        "# 참고만 해주세요.\n",
        "규칙테이블 = str.maketrans('CEO','CTO')\n",
        "'paullab CEO leehojun'.translate(규칙테이블) #어떤 규칙을 정하는것"
      ]
    },
    {
      "cell_type": "code",
      "execution_count": null,
      "metadata": {
        "colab": {
          "base_uri": "https://localhost:8080/",
          "height": 35
        },
        "id": "GZ41t1yDFuS_",
        "outputId": "f0e5a319-23f3-4e01-f99c-e62f4ceae439"
      },
      "outputs": [
        {
          "data": {
            "application/vnd.google.colaboratory.intrinsic+json": {
              "type": "string"
            },
            "text/plain": [
              "'paullab  CEO  leehogun'"
            ]
          },
          "execution_count": 41,
          "metadata": {},
          "output_type": "execute_result"
        }
      ],
      "source": [
        "규칙테이블 = str.maketrans({'\\n':'', '\\t':''})\n",
        "'paullab \\n\\n\\n CEO \\t\\t\\t leehogun'.translate(규칙테이블)"
      ]
    },
    {
      "cell_type": "code",
      "execution_count": null,
      "metadata": {
        "colab": {
          "base_uri": "https://localhost:8080/",
          "height": 35
        },
        "id": "dOBHgjYjFumy",
        "outputId": "7782c9f9-0bbf-4001-ca2b-db3be8150428"
      },
      "outputs": [
        {
          "data": {
            "application/vnd.google.colaboratory.intrinsic+json": {
              "type": "string"
            },
            "text/plain": [
              "'paullab     CEO     leehogun'"
            ]
          },
          "execution_count": 17,
          "metadata": {},
          "output_type": "execute_result"
        }
      ],
      "source": [
        "규칙테이블 = str.maketrans('\\n\\t', '  ') # 똑같은 길이를 가지고 있어야 함\n",
        "'paullab \\n\\n\\n CEO \\t\\t\\t leehogun'.translate(규칙테이블)"
      ]
    },
    {
      "cell_type": "code",
      "execution_count": null,
      "metadata": {
        "colab": {
          "base_uri": "https://localhost:8080/"
        },
        "id": "3paIYyV1RD81",
        "outputId": "228a93db-406a-4cac-fe69-120f7896ef4f"
      },
      "outputs": [
        {
          "name": "stdout",
          "output_type": "stream",
          "text": [
            "hello world \n",
            " helo world1\n",
            "hello world \t helo world2\n",
            "hello world ' helo world3\n",
            "hello world \" helo world4\n",
            "hello world \\ helo world5\n"
          ]
        }
      ],
      "source": [
        "# 이스케이프 문자\n",
        "print('hello world \\n helo world1')\n",
        "print('hello world \\t helo world2')\n",
        "print('hello world \\' helo world3')\n",
        "print('hello world \\\" helo world4')\n",
        "print('hello world \\\\ helo world5')"
      ]
    },
    {
      "cell_type": "markdown",
      "metadata": {
        "id": "93tN1gIc9qZ2"
      },
      "source": [
        "## 문자열의 활용"
      ]
    },
    {
      "cell_type": "code",
      "execution_count": null,
      "metadata": {
        "colab": {
          "base_uri": "https://localhost:8080/"
        },
        "id": "9EjO4Y5k9r5z",
        "outputId": "ac97ddda-0687-4dd3-ec8c-9297021ebd9c"
      },
      "outputs": [
        {
          "name": "stdout",
          "output_type": "stream",
          "text": [
            "G\n",
            "u\n",
            "i\n"
          ]
        }
      ],
      "source": [
        "name = 'Guido van Rossum'\n",
        "print(name[0])\n",
        "print(name[1])\n",
        "print(name[2])"
      ]
    },
    {
      "cell_type": "code",
      "execution_count": null,
      "metadata": {
        "colab": {
          "base_uri": "https://localhost:8080/",
          "height": 35
        },
        "id": "FO2RkV5A9tAj",
        "outputId": "b1dd3e9d-c19a-4b6d-a439-11d0d8cf2845"
      },
      "outputs": [
        {
          "data": {
            "application/vnd.google.colaboratory.intrinsic+json": {
              "type": "string"
            },
            "text/plain": [
              "'...게가선생 는있 고살 에각외 드월 브니위'"
            ]
          },
          "execution_count": 161,
          "metadata": {},
          "output_type": "execute_result"
        }
      ],
      "source": [
        "s = '위니브 월드 외각에 살고 있는 생선가게...'\n",
        "# s[start:stop:step]\n",
        "s[0:6]\n",
        "s[:6]\n",
        "s[4:6]\n",
        "s[7:9]\n",
        "s[s.find('외각'):s.find('외각')+2]\n",
        "s[-1]\n",
        "s[:-5]\n",
        "s[:-1] # 많이 사용합니다.\n",
        "s[-7:-1] # 많이 안씁니다.\n",
        "s[::2]\n",
        "s[::-1]"
      ]
    },
    {
      "cell_type": "code",
      "execution_count": null,
      "metadata": {
        "id": "x0dAU71E_oi9"
      },
      "outputs": [],
      "source": [
        "s = 'leehojun'\n",
        "\n",
        "s + s\n",
        "s * 3\n",
        "# s/s  # error \n",
        "# s//s # error \n",
        "# s-s  # error "
      ]
    },
    {
      "cell_type": "markdown",
      "metadata": {
        "id": "E5mtCgxGAdkK"
      },
      "source": [
        "## 형변환"
      ]
    },
    {
      "cell_type": "code",
      "execution_count": null,
      "metadata": {
        "colab": {
          "base_uri": "https://localhost:8080/"
        },
        "id": "ZeUQ0mreAezL",
        "outputId": "517fd7f9-3c3d-4ede-90fd-93b44a079159"
      },
      "outputs": [
        {
          "name": "stdout",
          "output_type": "stream",
          "text": [
            "<class 'int'>\n",
            "3\n",
            "<class 'float'>\n",
            "3.0\n",
            "<class 'str'>\n",
            "3\n"
          ]
        }
      ],
      "source": [
        "print(type(int(3.5)))\n",
        "print(int(3.5))\n",
        "print(type(float(3)))\n",
        "print(float(3))\n",
        "print(type(str(3)))\n",
        "print(str(3))"
      ]
    },
    {
      "cell_type": "code",
      "execution_count": null,
      "metadata": {
        "id": "IPVPfh2lAk6Z"
      },
      "outputs": [],
      "source": [
        "x = input('Insert the number.')\n",
        "y = input('Insert the number.')\n",
        "print(x + y)\n",
        "print(type(x))\n",
        "print(type(y))"
      ]
    },
    {
      "cell_type": "code",
      "execution_count": null,
      "metadata": {
        "colab": {
          "base_uri": "https://localhost:8080/"
        },
        "id": "i0qjpegDBcQu",
        "outputId": "138366fc-ab25-4b51-a84a-d81029ebf1e4"
      },
      "outputs": [
        {
          "data": {
            "text/plain": [
              "5"
            ]
          },
          "execution_count": 176,
          "metadata": {},
          "output_type": "execute_result"
        }
      ],
      "source": [
        "# [10, 20, 15, 17, '철수'] # 감기가 걸려스\n",
        "l = [10, 20, 15, 17, None]\n",
        "len(l)"
      ]
    },
    {
      "cell_type": "code",
      "execution_count": null,
      "metadata": {
        "colab": {
          "base_uri": "https://localhost:8080/"
        },
        "id": "cAV0fjQeB938",
        "outputId": "6126fd88-f8c7-418a-f74a-9f6080d36ddb"
      },
      "outputs": [
        {
          "data": {
            "text/plain": [
              "[1, 2, 3, 4, 5, 6, 7, 8, 9]"
            ]
          },
          "execution_count": 180,
          "metadata": {},
          "output_type": "execute_result"
        }
      ],
      "source": [
        "sum([10, 20, 30, 40], 0)\n",
        "sum([10, 20, 30, 40], 100)\n",
        "sum([[1, 2, 3], [4, 5, 6], [7, 8, 9]], [])"
      ]
    },
    {
      "cell_type": "code",
      "execution_count": null,
      "metadata": {
        "colab": {
          "base_uri": "https://localhost:8080/"
        },
        "id": "GJGGMi1IA5-X",
        "outputId": "ee5c1992-e92c-4a45-d19e-97726cc28891"
      },
      "outputs": [
        {
          "name": "stdout",
          "output_type": "stream",
          "text": [
            "bool('test') :  True\n",
            "bool(1) :  True\n",
            "bool(0) :  False\n",
            "bool(-1) :  True\n",
            "bool(' ') :  True\n",
            "bool('') :  False\n",
            "bool(None) :  False\n"
          ]
        }
      ],
      "source": [
        "# 숫자 : 0외에 다른 숫자는 다 참\n",
        "# 문자 : ''외에 다른 문자는 다 참\n",
        "# 리스트 : []외에 다른 리스트는 다 참\n",
        "# None : False\n",
        "print(\"bool('test') : \", bool('test'))\n",
        "print(\"bool(1) : \", bool(1))\n",
        "print(\"bool(0) : \", bool(0))\n",
        "print(\"bool(-1) : \", bool(-1))\n",
        "print(\"bool(' ') : \", bool(' '))\n",
        "print(\"bool('') : \", bool(''))\n",
        "print(\"bool(None) : \", bool(None))"
      ]
    },
    {
      "cell_type": "code",
      "execution_count": null,
      "metadata": {
        "colab": {
          "base_uri": "https://localhost:8080/"
        },
        "id": "pmDlSd16A1CT",
        "outputId": "a8e6af33-803f-401e-9549-0f8b7781df33"
      },
      "outputs": [
        {
          "data": {
            "text/plain": [
              "set"
            ]
          },
          "execution_count": 186,
          "metadata": {},
          "output_type": "execute_result"
        }
      ],
      "source": [
        "int()\n",
        "float()\n",
        "str()\n",
        "bool()\n",
        "list('leehojun')\n",
        "tuple()\n",
        "s = [('name','leehojun'),('age',10)]\n",
        "d = dict(s)\n",
        "d\n",
        "set('leehojun')"
      ]
    },
    {
      "cell_type": "code",
      "execution_count": null,
      "metadata": {
        "colab": {
          "base_uri": "https://localhost:8080/",
          "height": 35
        },
        "id": "DFWCPbbxGjDQ",
        "outputId": "05fec07d-e89b-4e50-c32e-48d525a41eff"
      },
      "outputs": [
        {
          "data": {
            "application/vnd.google.colaboratory.intrinsic+json": {
              "type": "string"
            },
            "text/plain": [
              "'drink'"
            ]
          },
          "execution_count": 188,
          "metadata": {},
          "output_type": "execute_result"
        }
      ],
      "source": [
        "#3번\n",
        "k = 100\n",
        "\n",
        "#5번\n",
        "a123 = 'abc'\n",
        "\n",
        "#6번\n",
        "_cola_ = 'drink'"
      ]
    },
    {
      "cell_type": "code",
      "execution_count": null,
      "metadata": {
        "id": "Zimut4VVG3OM"
      },
      "outputs": [],
      "source": [
        "a = input()\n",
        "a + a"
      ]
    },
    {
      "cell_type": "code",
      "execution_count": null,
      "metadata": {
        "colab": {
          "base_uri": "https://localhost:8080/",
          "height": 35
        },
        "id": "_MvLy7meG8sv",
        "outputId": "c5bce571-aa1a-46f3-9361-c77c3b562da3"
      },
      "outputs": [
        {
          "data": {
            "application/vnd.google.colaboratory.intrinsic+json": {
              "type": "string"
            },
            "text/plain": [
              "'4'"
            ]
          },
          "execution_count": 191,
          "metadata": {},
          "output_type": "execute_result"
        }
      ],
      "source": [
        "num = 1234567890\n",
        "list(str(num))[3]"
      ]
    },
    {
      "cell_type": "markdown",
      "metadata": {
        "id": "XhJAAN194IIA"
      },
      "source": [
        "## 산술연산자"
      ]
    },
    {
      "cell_type": "code",
      "execution_count": null,
      "metadata": {
        "colab": {
          "base_uri": "https://localhost:8080/"
        },
        "id": "9c5WZS6o4Hry",
        "outputId": "3e5b9698-0254-4450-e525-ac168cfb96ef"
      },
      "outputs": [
        {
          "name": "stdout",
          "output_type": "stream",
          "text": [
            "13\n",
            "7\n",
            "3.3333333333333335\n",
            "3\n",
            "30\n",
            "1000\n",
            "1\n"
          ]
        }
      ],
      "source": [
        "a = 10\n",
        "b = 3\n",
        "\n",
        "print(a + b)\n",
        "print(a - b)\n",
        "print(a / b) # float\n",
        "print(a // b) # int\n",
        "print(a * b)\n",
        "print(a ** b)\n",
        "print(a % b) # 나머지"
      ]
    },
    {
      "cell_type": "markdown",
      "metadata": {
        "id": "44yE7Ij9IYX_"
      },
      "source": [
        "## 비교연산자"
      ]
    },
    {
      "cell_type": "code",
      "execution_count": null,
      "metadata": {
        "colab": {
          "base_uri": "https://localhost:8080/"
        },
        "id": "a2PA0eRFIDQN",
        "outputId": "ed2ab8d0-01a0-4e5c-848e-a2e95b55b8ed"
      },
      "outputs": [
        {
          "name": "stdout",
          "output_type": "stream",
          "text": [
            "False\n",
            "True\n",
            "True\n",
            "True\n",
            "False\n",
            "False\n"
          ]
        }
      ],
      "source": [
        "a = 10\n",
        "b = 3\n",
        "\n",
        "print(a == b) # 같은가?\n",
        "print(a != b) # 다른가?\n",
        "print(a > b)\n",
        "print(a >= b)\n",
        "print(a < b)\n",
        "print(a <= b)"
      ]
    },
    {
      "cell_type": "markdown",
      "metadata": {
        "id": "Cs0q5zLcI3Hn"
      },
      "source": [
        "## 논리연산"
      ]
    },
    {
      "cell_type": "code",
      "execution_count": null,
      "metadata": {
        "id": "hSfT2S-aInI0"
      },
      "outputs": [],
      "source": [
        "# True : 1\n",
        "# False : 0\n",
        "# and : 논리곱\n",
        "# or : 논리합\n",
        "# not : 부정 "
      ]
    },
    {
      "cell_type": "code",
      "execution_count": null,
      "metadata": {
        "colab": {
          "base_uri": "https://localhost:8080/"
        },
        "id": "150s2DkoJPLs",
        "outputId": "9ea69369-44cc-4e10-8e29-6c891c794172"
      },
      "outputs": [
        {
          "name": "stdout",
          "output_type": "stream",
          "text": [
            "0\n",
            "15\n",
            "30\n",
            "45\n",
            "60\n",
            "75\n",
            "90\n"
          ]
        }
      ],
      "source": [
        "# True and False\n",
        "# 둘 중 하나라도 False라면 False\n",
        "# and는 위와 같은 속성 때문에 \n",
        "# 둘 다 만족해야하는 '조건'에 사용합니다.\n",
        "\n",
        "for i in range(101):\n",
        "    if i % 3 == 0 and i % 5 == 0:\n",
        "        print(i)\n",
        "\n",
        "# for i in range(101):\n",
        "#     if i % 3 == 0:\n",
        "#         if i % 5 == 0:\n",
        "#             print(i)"
      ]
    },
    {
      "cell_type": "code",
      "execution_count": null,
      "metadata": {
        "id": "IYzp8fKxKtkG"
      },
      "outputs": [],
      "source": [
        "# True or False\n",
        "# 둘 중 하나라도 True라면 True\n",
        "# and는 위와 같은 속성 때문에 \n",
        "# 둘 다 만족해야하는 '조건'에 사용합니다.\n",
        "\n",
        "for i in range(101):\n",
        "    if i % 3 == 0 or i % 5 == 0:\n",
        "        print(i)"
      ]
    },
    {
      "cell_type": "code",
      "execution_count": null,
      "metadata": {
        "id": "upDIG6wfKGoa"
      },
      "outputs": [],
      "source": [
        "for i in range(101):\n",
        "    if i % 3 == 0 and i % 5 == 0 or i % 2 == 0:\n",
        "        print(i)\n",
        "\n",
        "for i in range(101):\n",
        "    if (i % 3 == 0 and i % 5 == 0) or i % 2 == 0:\n",
        "        print(i)"
      ]
    },
    {
      "cell_type": "code",
      "execution_count": null,
      "metadata": {
        "id": "LTraJx0TKTbY"
      },
      "outputs": [],
      "source": [
        "for i in range(101):\n",
        "    if i % 3 == 0 or (i % 5 == 0 and i % 2 == 0):\n",
        "        print(i)\n",
        "\n",
        "for i in range(101):\n",
        "    if i % 3 == 0 or i % 5 == 0 and i % 2 == 0:\n",
        "        print(i)"
      ]
    },
    {
      "cell_type": "code",
      "execution_count": null,
      "metadata": {
        "colab": {
          "base_uri": "https://localhost:8080/"
        },
        "id": "26TJ6b3DMNcu",
        "outputId": "534a8b52-01be-4a9b-9e04-32f20030072a"
      },
      "outputs": [
        {
          "data": {
            "text/plain": [
              "20"
            ]
          },
          "execution_count": 205,
          "metadata": {},
          "output_type": "execute_result"
        }
      ],
      "source": [
        "10 and 20"
      ]
    },
    {
      "cell_type": "code",
      "execution_count": null,
      "metadata": {
        "id": "rgVD83rEMp8A"
      },
      "outputs": [],
      "source": [
        "10 and 20"
      ]
    },
    {
      "cell_type": "code",
      "execution_count": null,
      "metadata": {
        "colab": {
          "base_uri": "https://localhost:8080/"
        },
        "id": "adbWGFQgMUYh",
        "outputId": "33d88827-10ae-4621-b781-c62d952b9f81"
      },
      "outputs": [
        {
          "data": {
            "text/plain": [
              "0"
            ]
          },
          "execution_count": 208,
          "metadata": {},
          "output_type": "execute_result"
        }
      ],
      "source": [
        "0 and 20"
      ]
    },
    {
      "cell_type": "code",
      "execution_count": null,
      "metadata": {
        "colab": {
          "base_uri": "https://localhost:8080/",
          "height": 35
        },
        "id": "VmKqj0vrM7H4",
        "outputId": "09acff09-d5e2-4c87-e1dc-3f1d2113019d"
      },
      "outputs": [
        {
          "data": {
            "application/vnd.google.colaboratory.intrinsic+json": {
              "type": "string"
            },
            "text/plain": [
              "'minsu'"
            ]
          },
          "execution_count": 210,
          "metadata": {},
          "output_type": "execute_result"
        }
      ],
      "source": [
        "username = 'jaehyeok'\n",
        "\n",
        "username = username or 'leehojun'\n",
        "username"
      ]
    },
    {
      "cell_type": "code",
      "execution_count": null,
      "metadata": {
        "colab": {
          "base_uri": "https://localhost:8080/"
        },
        "id": "0_6Km3SDNd-4",
        "outputId": "a64cd804-ba43-4cf6-d603-26833e8df35b"
      },
      "outputs": [
        {
          "name": "stdout",
          "output_type": "stream",
          "text": [
            "20\n"
          ]
        }
      ],
      "source": [
        "a = 10 and 20\n",
        "print(a)"
      ]
    },
    {
      "cell_type": "code",
      "execution_count": null,
      "metadata": {
        "colab": {
          "base_uri": "https://localhost:8080/"
        },
        "id": "jkrw9P2wNq5v",
        "outputId": "b1420172-ec90-4144-87c2-2ba497996789"
      },
      "outputs": [
        {
          "name": "stdout",
          "output_type": "stream",
          "text": [
            "\n"
          ]
        }
      ],
      "source": [
        "a = '' and 'leehojun'\n",
        "print(a)"
      ]
    },
    {
      "cell_type": "code",
      "execution_count": null,
      "metadata": {
        "colab": {
          "base_uri": "https://localhost:8080/"
        },
        "id": "1GkKG672N66h",
        "outputId": "d2c44257-4973-42ac-e780-3e6a30438db9"
      },
      "outputs": [
        {
          "data": {
            "text/plain": [
              "False"
            ]
          },
          "execution_count": 213,
          "metadata": {},
          "output_type": "execute_result"
        }
      ],
      "source": [
        "not True"
      ]
    },
    {
      "cell_type": "code",
      "execution_count": null,
      "metadata": {
        "colab": {
          "base_uri": "https://localhost:8080/"
        },
        "id": "cfgZpGDoO2Kt",
        "outputId": "30020153-3332-4898-afcf-44139d948de3"
      },
      "outputs": [
        {
          "data": {
            "text/plain": [
              "True"
            ]
          },
          "execution_count": 214,
          "metadata": {},
          "output_type": "execute_result"
        }
      ],
      "source": [
        "not False"
      ]
    },
    {
      "cell_type": "code",
      "execution_count": null,
      "metadata": {
        "colab": {
          "base_uri": "https://localhost:8080/"
        },
        "id": "KGTCqbpzO4CC",
        "outputId": "95ef3b22-4958-4105-d8d5-751f99160c19"
      },
      "outputs": [
        {
          "data": {
            "text/plain": [
              "0"
            ]
          },
          "execution_count": 220,
          "metadata": {},
          "output_type": "execute_result"
        }
      ],
      "source": [
        "def err():\n",
        "    1/0\n",
        "\n",
        "test = 0 and err()\n",
        "test"
      ]
    },
    {
      "cell_type": "code",
      "execution_count": null,
      "metadata": {
        "colab": {
          "base_uri": "https://localhost:8080/"
        },
        "id": "EPIOtbfRPFLg",
        "outputId": "f73d40aa-5a5c-4916-e58d-5d2fb02c02cb"
      },
      "outputs": [
        {
          "data": {
            "text/plain": [
              "10"
            ]
          },
          "execution_count": 218,
          "metadata": {},
          "output_type": "execute_result"
        }
      ],
      "source": [
        "test = 10 or err()\n",
        "test"
      ]
    },
    {
      "cell_type": "code",
      "execution_count": null,
      "metadata": {
        "id": "AHxXVtE2PPbY"
      },
      "outputs": [],
      "source": [
        "# test = 10 and err() # error\n",
        "# test"
      ]
    },
    {
      "cell_type": "markdown",
      "metadata": {
        "id": "FsSkKlT2ToX5"
      },
      "source": [
        "## 비트연산 (중요도 하)"
      ]
    },
    {
      "cell_type": "code",
      "execution_count": null,
      "metadata": {
        "colab": {
          "base_uri": "https://localhost:8080/"
        },
        "id": "hUgb82soTr6f",
        "outputId": "14ee8036-6807-44a5-dd2c-2cd617ca082c"
      },
      "outputs": [
        {
          "data": {
            "text/plain": [
              "5"
            ]
          },
          "execution_count": 230,
          "metadata": {},
          "output_type": "execute_result"
        }
      ],
      "source": [
        "# Tip\n",
        "# 가장 가까운 2에 승수를 구합니다.\n",
        "# 거기에서 +-하시면 됩니다.\n",
        "\n",
        "7 & 5\n",
        "\n",
        "#  111\n",
        "#  101\n",
        "# ----\n",
        "#  101"
      ]
    },
    {
      "cell_type": "code",
      "execution_count": null,
      "metadata": {
        "colab": {
          "base_uri": "https://localhost:8080/"
        },
        "id": "yGMoClm0UlLg",
        "outputId": "e44b7a01-4ca9-45e3-a475-1c5454559f59"
      },
      "outputs": [
        {
          "data": {
            "text/plain": [
              "7"
            ]
          },
          "execution_count": 231,
          "metadata": {},
          "output_type": "execute_result"
        }
      ],
      "source": [
        "7 | 5\n",
        "\n",
        "#  111\n",
        "#  101\n",
        "# ----\n",
        "#  111"
      ]
    },
    {
      "cell_type": "code",
      "execution_count": null,
      "metadata": {
        "colab": {
          "base_uri": "https://localhost:8080/"
        },
        "id": "hhzOOIY7U3RV",
        "outputId": "5e7ba118-bc6b-4292-e7a7-4917b74451d4"
      },
      "outputs": [
        {
          "data": {
            "text/plain": [
              "15"
            ]
          },
          "execution_count": 233,
          "metadata": {},
          "output_type": "execute_result"
        }
      ],
      "source": [
        "# 문제\n",
        "14 | 7\n",
        "\n",
        "# 1110\n",
        "# 0111\n",
        "# ----\n",
        "# 1111"
      ]
    },
    {
      "cell_type": "code",
      "execution_count": null,
      "metadata": {
        "colab": {
          "base_uri": "https://localhost:8080/"
        },
        "id": "-0RjwE7SV7XG",
        "outputId": "8d1d7fc6-0f3b-4deb-a04f-6404da555d6f"
      },
      "outputs": [
        {
          "data": {
            "text/plain": [
              "9"
            ]
          },
          "execution_count": 236,
          "metadata": {},
          "output_type": "execute_result"
        }
      ],
      "source": [
        "# 8bit\n",
        "\n",
        "# 00000000\n",
        "# 11111111\n",
        "\n",
        "# 256개\n",
        "# 0 ~ 255까지 사용? 음수사용 불가!\n",
        "# 그래서 부호비트를 사용하는데\n",
        "# ~는 비트단위로 전환을 하는 것입니다.\n",
        "\n",
        "# 00001010 (10) -> not을 취하게 되면\n",
        "# 11110110 (-10)-> 위와 숫자를 더하게 되면\n",
        "# 00000000\n",
        "\n",
        "~-10"
      ]
    },
    {
      "cell_type": "code",
      "execution_count": null,
      "metadata": {
        "colab": {
          "base_uri": "https://localhost:8080/"
        },
        "id": "HHXLO6KOXHgb",
        "outputId": "46453199-010d-4a8d-c735-b216f784b94f"
      },
      "outputs": [
        {
          "data": {
            "text/plain": [
              "-11"
            ]
          },
          "execution_count": 241,
          "metadata": {},
          "output_type": "execute_result"
        }
      ],
      "source": [
        "~10"
      ]
    },
    {
      "cell_type": "code",
      "execution_count": null,
      "metadata": {
        "colab": {
          "base_uri": "https://localhost:8080/"
        },
        "id": "W3jGH4WRWsIy",
        "outputId": "11b46205-4aab-4086-c148-beb3efb0803b"
      },
      "outputs": [
        {
          "data": {
            "text/plain": [
              "-10"
            ]
          },
          "execution_count": 237,
          "metadata": {},
          "output_type": "execute_result"
        }
      ],
      "source": [
        "~~-10"
      ]
    },
    {
      "cell_type": "code",
      "execution_count": null,
      "metadata": {
        "id": "Iua9phIaWuWD"
      },
      "outputs": [],
      "source": [
        "# 모르셔도 괜찮습니다.\n",
        "# Python에서는 error\n",
        "~~10.1 # 이렇게 했을 경우에 10이 출력되는 언어도 있습니다."
      ]
    },
    {
      "cell_type": "code",
      "execution_count": null,
      "metadata": {
        "colab": {
          "base_uri": "https://localhost:8080/"
        },
        "id": "MTqEzJ5qYbGM",
        "outputId": "53e5312c-8de1-4e98-dae1-babdd35b52e8"
      },
      "outputs": [
        {
          "name": "stdout",
          "output_type": "stream",
          "text": [
            "28\n"
          ]
        }
      ],
      "source": [
        "a = 7\n",
        "b = 2\n",
        "\n",
        "print(a << b)"
      ]
    },
    {
      "cell_type": "code",
      "execution_count": null,
      "metadata": {
        "colab": {
          "base_uri": "https://localhost:8080/"
        },
        "id": "gXKCIr7ZZFBj",
        "outputId": "5b008b73-0fc6-41d5-e980-a0f7fa7b9db9"
      },
      "outputs": [
        {
          "name": "stdout",
          "output_type": "stream",
          "text": [
            "3\n"
          ]
        }
      ],
      "source": [
        "a = 7\n",
        "b = 1\n",
        "\n",
        "print(a >> b)"
      ]
    },
    {
      "cell_type": "markdown",
      "metadata": {
        "id": "HDM5wd1cZ8us"
      },
      "source": [
        "## 아름다운 코드\n",
        "\n",
        "* 잠 깨는 시간입니다. 참고삼아서만 보시고 나중에 이러한 코드들을 많이 하겠습니다."
      ]
    },
    {
      "cell_type": "code",
      "execution_count": null,
      "metadata": {
        "colab": {
          "base_uri": "https://localhost:8080/"
        },
        "id": "grxp59crZgsM",
        "outputId": "266388df-9007-4750-cc3e-162b119421cb"
      },
      "outputs": [
        {
          "name": "stdout",
          "output_type": "stream",
          "text": [
            "3.0\n",
            "3.0\n",
            "3.0\n"
          ]
        }
      ],
      "source": [
        "#데이터 분석에서 쓰일만한 데코레이터\n",
        "def 숫자로변환(func):\n",
        "    def new_func(l):\n",
        "        print(func(list(map(int, l))))\n",
        "    return new_func\n",
        "\n",
        "@숫자로변환\n",
        "def 평균(l):\n",
        "    return sum(l) / len(l)\n",
        "\n",
        "평균([1, 2, 3, 4, 5])\n",
        "평균(['1', '2', '3', 4, 5])\n",
        "평균(['1', '2', '3', '4', '5'])"
      ]
    },
    {
      "cell_type": "code",
      "execution_count": null,
      "metadata": {
        "colab": {
          "base_uri": "https://localhost:8080/",
          "height": 35
        },
        "id": "bGT8HRCrhO-i",
        "outputId": "b32b30cf-50d8-452f-b7ac-99706c7c8a64"
      },
      "outputs": [
        {
          "data": {
            "application/vnd.google.colaboratory.intrinsic+json": {
              "type": "string"
            },
            "text/plain": [
              "'three'"
            ]
          },
          "execution_count": 272,
          "metadata": {},
          "output_type": "execute_result"
        }
      ],
      "source": [
        "d = {'one':10, 'two':20, 'three':30}\n",
        "d.values()\n",
        "max(d.values())\n",
        "max(d, key=d.get)"
      ]
    },
    {
      "cell_type": "markdown",
      "metadata": {
        "id": "h7TEuMmXZeh6"
      },
      "source": [
        "## 할당연산"
      ]
    },
    {
      "cell_type": "code",
      "execution_count": null,
      "metadata": {
        "colab": {
          "base_uri": "https://localhost:8080/"
        },
        "id": "GVpZktO8bqmg",
        "outputId": "05db6b00-0231-4577-c748-ffaa68a6c1df"
      },
      "outputs": [
        {
          "data": {
            "text/plain": [
              "20"
            ]
          },
          "execution_count": 248,
          "metadata": {},
          "output_type": "execute_result"
        }
      ],
      "source": [
        "a = 10\n",
        "a = a + 10\n",
        "a"
      ]
    },
    {
      "cell_type": "code",
      "execution_count": null,
      "metadata": {
        "colab": {
          "base_uri": "https://localhost:8080/"
        },
        "id": "Wf0jHcRab1tn",
        "outputId": "337c0791-6c7d-4426-9907-cf6ca3295d97"
      },
      "outputs": [
        {
          "data": {
            "text/plain": [
              "10"
            ]
          },
          "execution_count": 250,
          "metadata": {},
          "output_type": "execute_result"
        }
      ],
      "source": [
        "a = 10\n",
        "a = + 10\n",
        "a"
      ]
    },
    {
      "cell_type": "code",
      "execution_count": null,
      "metadata": {
        "colab": {
          "base_uri": "https://localhost:8080/"
        },
        "id": "F2kZZmZhb8mL",
        "outputId": "22c95a31-6028-4f57-fb5a-6643f46160a0"
      },
      "outputs": [
        {
          "data": {
            "text/plain": [
              "20"
            ]
          },
          "execution_count": 251,
          "metadata": {},
          "output_type": "execute_result"
        }
      ],
      "source": [
        "a = 10\n",
        "a += 10\n",
        "a"
      ]
    },
    {
      "cell_type": "markdown",
      "metadata": {
        "id": "NTD1pPxWcQcV"
      },
      "source": [
        "## 식별연산"
      ]
    },
    {
      "cell_type": "code",
      "execution_count": null,
      "metadata": {
        "colab": {
          "base_uri": "https://localhost:8080/"
        },
        "id": "fwOlYxV5cSJK",
        "outputId": "0df7aca8-cb0e-4af5-971f-e14ddfed37b3"
      },
      "outputs": [
        {
          "name": "stdout",
          "output_type": "stream",
          "text": [
            "140681353796176 140681353796176\n"
          ]
        },
        {
          "data": {
            "text/plain": [
              "True"
            ]
          },
          "execution_count": 254,
          "metadata": {},
          "output_type": "execute_result"
        }
      ],
      "source": [
        "a = 10\n",
        "b = 10\n",
        "print(id(a), id(b))\n",
        "\n",
        "a is b"
      ]
    },
    {
      "cell_type": "code",
      "execution_count": null,
      "metadata": {
        "colab": {
          "base_uri": "https://localhost:8080/"
        },
        "id": "IJ5qKAcPcZ76",
        "outputId": "95f287e1-280d-41f2-d3ec-7b2f6eba4590"
      },
      "outputs": [
        {
          "name": "stdout",
          "output_type": "stream",
          "text": [
            "140680087039536 140680086582224\n"
          ]
        },
        {
          "data": {
            "text/plain": [
              "False"
            ]
          },
          "execution_count": 255,
          "metadata": {},
          "output_type": "execute_result"
        }
      ],
      "source": [
        "a = 999\n",
        "b = 999\n",
        "print(id(a), id(b))\n",
        "\n",
        "a is b"
      ]
    },
    {
      "cell_type": "code",
      "execution_count": null,
      "metadata": {
        "colab": {
          "base_uri": "https://localhost:8080/"
        },
        "id": "gk8dUpCsclCZ",
        "outputId": "d2ca2908-12f7-4138-b541-602d65dd3270"
      },
      "outputs": [
        {
          "name": "stdout",
          "output_type": "stream",
          "text": [
            "140680086634048 140680086630592\n"
          ]
        },
        {
          "data": {
            "text/plain": [
              "(False, True)"
            ]
          },
          "execution_count": 261,
          "metadata": {},
          "output_type": "execute_result"
        }
      ],
      "source": [
        "a = [1, 2, 3]\n",
        "b = [1, 2, 3]\n",
        "\n",
        "print(id(a), id(b))\n",
        "\n",
        "a is b, a is not b"
      ]
    },
    {
      "cell_type": "code",
      "execution_count": null,
      "metadata": {
        "colab": {
          "base_uri": "https://localhost:8080/"
        },
        "id": "4zSYrNUecsh7",
        "outputId": "e4be9dbe-a03d-4805-a240-944ae5bb6458"
      },
      "outputs": [
        {
          "data": {
            "text/plain": [
              "True"
            ]
          },
          "execution_count": 258,
          "metadata": {},
          "output_type": "execute_result"
        }
      ],
      "source": [
        "a == b # 메모리 주소가 아니라 값만 비교하게 됩니다."
      ]
    },
    {
      "cell_type": "code",
      "execution_count": null,
      "metadata": {
        "colab": {
          "base_uri": "https://localhost:8080/"
        },
        "id": "C7ns8aFtdhjh",
        "outputId": "e393dfd5-8e1c-4cc2-8ce1-8e1920d6fc8f"
      },
      "outputs": [
        {
          "name": "stdout",
          "output_type": "stream",
          "text": [
            "True\n",
            "True\n"
          ]
        }
      ],
      "source": [
        "coffee = \"Brand\"\n",
        "orange = \"Brand\"\n",
        "\n",
        "print(coffee is orange)\n",
        "print(coffee == orange)"
      ]
    },
    {
      "cell_type": "markdown",
      "metadata": {
        "id": "VfG_vYpleGU3"
      },
      "source": [
        "## 멤버연산"
      ]
    },
    {
      "cell_type": "code",
      "execution_count": null,
      "metadata": {
        "colab": {
          "base_uri": "https://localhost:8080/"
        },
        "id": "Mc9XZLZ4eIzq",
        "outputId": "e77f3abb-c2e2-453c-91e4-4c40443a1578"
      },
      "outputs": [
        {
          "data": {
            "text/plain": [
              "False"
            ]
          },
          "execution_count": 262,
          "metadata": {},
          "output_type": "execute_result"
        }
      ],
      "source": [
        "10 in [1, 2, 3]"
      ]
    },
    {
      "cell_type": "code",
      "execution_count": null,
      "metadata": {
        "colab": {
          "base_uri": "https://localhost:8080/"
        },
        "id": "9eVoJHbzeMlQ",
        "outputId": "5604c321-3277-4aad-f1ef-3d258ae5c3e4"
      },
      "outputs": [
        {
          "data": {
            "text/plain": [
              "True"
            ]
          },
          "execution_count": 263,
          "metadata": {},
          "output_type": "execute_result"
        }
      ],
      "source": [
        "10 in [1, 2, 3, 10]"
      ]
    },
    {
      "cell_type": "code",
      "execution_count": null,
      "metadata": {
        "colab": {
          "base_uri": "https://localhost:8080/"
        },
        "id": "vAWUqwb5eOeR",
        "outputId": "08eeca6f-6254-4b45-c6b0-2e9e4fb320bb"
      },
      "outputs": [
        {
          "data": {
            "text/plain": [
              "True"
            ]
          },
          "execution_count": 264,
          "metadata": {},
          "output_type": "execute_result"
        }
      ],
      "source": [
        "'one' in {'one':10, 'two':20}"
      ]
    },
    {
      "cell_type": "code",
      "execution_count": null,
      "metadata": {
        "colab": {
          "base_uri": "https://localhost:8080/"
        },
        "id": "pp0COiKUeY9p",
        "outputId": "4550dea1-6c78-4ae9-e736-b12b72545e8f"
      },
      "outputs": [
        {
          "data": {
            "text/plain": [
              "False"
            ]
          },
          "execution_count": 265,
          "metadata": {},
          "output_type": "execute_result"
        }
      ],
      "source": [
        "20 in {'one':10, 'two':20}"
      ]
    },
    {
      "cell_type": "code",
      "execution_count": null,
      "metadata": {
        "colab": {
          "base_uri": "https://localhost:8080/"
        },
        "id": "edDRiDgBg6dk",
        "outputId": "9f092c6c-f3b6-4ae1-d664-ccc6b6121daa"
      },
      "outputs": [
        {
          "data": {
            "text/plain": [
              "True"
            ]
          },
          "execution_count": 266,
          "metadata": {},
          "output_type": "execute_result"
        }
      ],
      "source": [
        "'l' in 'hello'"
      ]
    },
    {
      "cell_type": "code",
      "execution_count": null,
      "metadata": {
        "colab": {
          "base_uri": "https://localhost:8080/"
        },
        "id": "MBE0BE-tg_pz",
        "outputId": "a91a14fe-5e3f-4a7a-e8f8-191e2b0bb9de"
      },
      "outputs": [
        {
          "data": {
            "text/plain": [
              "True"
            ]
          },
          "execution_count": 273,
          "metadata": {},
          "output_type": "execute_result"
        }
      ],
      "source": [
        "10 in {10, 20, 30}"
      ]
    },
    {
      "cell_type": "code",
      "execution_count": null,
      "metadata": {
        "colab": {
          "base_uri": "https://localhost:8080/"
        },
        "id": "nRGQwQ9eiVN3",
        "outputId": "a7097891-39a9-4da0-c424-b8603310a8cc"
      },
      "outputs": [
        {
          "data": {
            "text/plain": [
              "False"
            ]
          },
          "execution_count": 274,
          "metadata": {},
          "output_type": "execute_result"
        }
      ],
      "source": [
        "{10} in {10, 20, 30}"
      ]
    },
    {
      "cell_type": "code",
      "execution_count": null,
      "metadata": {
        "colab": {
          "base_uri": "https://localhost:8080/"
        },
        "id": "igP7riVRimVO",
        "outputId": "4df99d5a-f70c-4cfb-c565-2796b792d7e1"
      },
      "outputs": [
        {
          "data": {
            "text/plain": [
              "False"
            ]
          },
          "execution_count": 275,
          "metadata": {},
          "output_type": "execute_result"
        }
      ],
      "source": [
        "{10, 20} in {10, 20, 30} "
      ]
    },
    {
      "cell_type": "code",
      "execution_count": null,
      "metadata": {
        "colab": {
          "base_uri": "https://localhost:8080/"
        },
        "id": "COSWvXhbqaGn",
        "outputId": "efbdbbc9-2541-4c6e-a718-0591a5939fa0"
      },
      "outputs": [
        {
          "data": {
            "text/plain": [
              "True"
            ]
          },
          "execution_count": 301,
          "metadata": {},
          "output_type": "execute_result"
        }
      ],
      "source": [
        "{10, 20}.issubset({10, 20, 30})\n",
        "{10, 20, 30}.issubset({10, 20, 30})\n",
        "\n",
        "{10, 20, 30} in {10, 20 ,30}\n",
        "[10, 20, 30] in [[10, 20, 30], 20, 30]"
      ]
    },
    {
      "cell_type": "code",
      "execution_count": null,
      "metadata": {
        "colab": {
          "base_uri": "https://localhost:8080/"
        },
        "id": "IoYFmo5FrBXD",
        "outputId": "0ec86ffc-d4aa-4e2e-d17d-9cf57c5901b9"
      },
      "outputs": [
        {
          "data": {
            "text/plain": [
              "True"
            ]
          },
          "execution_count": 302,
          "metadata": {},
          "output_type": "execute_result"
        }
      ],
      "source": [
        "{10, 20, 30}.issubset({10, 20, 30})"
      ]
    },
    {
      "cell_type": "code",
      "execution_count": null,
      "metadata": {
        "colab": {
          "base_uri": "https://localhost:8080/"
        },
        "id": "H0yD9fXpivR5",
        "outputId": "dbea6647-7d2c-4ee5-f5fe-ea30d3009867"
      },
      "outputs": [
        {
          "data": {
            "text/plain": [
              "True"
            ]
          },
          "execution_count": 279,
          "metadata": {},
          "output_type": "execute_result"
        }
      ],
      "source": [
        "a = {'key':'value', 'key2':'value'}\n",
        "'key' in a"
      ]
    },
    {
      "cell_type": "markdown",
      "metadata": {
        "id": "KV_fq-frjn7u"
      },
      "source": [
        "## 그리디 알고리즘\n",
        "\n",
        "* 욕심쟁이 알고리즘이라고 불립니다.\n",
        "* 가장 최선을 선택한 것이 최종적으로도 가장 최선의 선택임"
      ]
    },
    {
      "cell_type": "code",
      "execution_count": null,
      "metadata": {
        "colab": {
          "base_uri": "https://localhost:8080/"
        },
        "id": "kssqYOldjv1m",
        "outputId": "d3f90034-913a-4e77-b0f1-3433470be016"
      },
      "outputs": [
        {
          "name": "stdout",
          "output_type": "stream",
          "text": [
            "오천원은 1개, 천원은 3개, 오백원은 1개, 백원 3개를 거슬러 드립니다.\n"
          ]
        }
      ],
      "source": [
        "# 10000원을 들고 가서 1200원짜리 아이스크림 먹었을 때 잔돈의 갯수가 가장 적은 경우를 구하라\n",
        "잔돈 = 8800\n",
        "\n",
        "오천원갯수 = 잔돈 // 5000\n",
        "잔돈 = 잔돈 - 오천원갯수 * 5000\n",
        "\n",
        "천원의갯수 = 잔돈 // 1000\n",
        "잔돈 = 잔돈 - 천원의갯수 * 1000\n",
        "\n",
        "오백원갯수 = 잔돈 // 500\n",
        "잔돈 = 잔돈 - 오백원갯수 * 500\n",
        "\n",
        "백원갯수 = 잔돈 // 100\n",
        "잔돈 = 잔돈 - 백원갯수 * 100\n",
        "\n",
        "print(f'오천원은 {오천원갯수}개, \\\n",
        "천원은 {천원의갯수}개, \\\n",
        "오백원은 {오백원갯수}개, \\\n",
        "백원 {백원갯수}개를 거슬러 드립니다.')"
      ]
    },
    {
      "cell_type": "code",
      "execution_count": null,
      "metadata": {
        "colab": {
          "base_uri": "https://localhost:8080/"
        },
        "id": "YkgDmzZ5mF9o",
        "outputId": "a50b4a1d-1db4-4d28-d343-025fbc6937e8"
      },
      "outputs": [
        {
          "name": "stdout",
          "output_type": "stream",
          "text": [
            "오천원은 1개, 천원은 3개, 오백원은 1개, 백원 3개를 거슬러 드립니다.\n"
          ]
        },
        {
          "data": {
            "text/plain": [
              "(10, 20, 30, 40, 50)"
            ]
          },
          "execution_count": 293,
          "metadata": {},
          "output_type": "execute_result"
        }
      ],
      "source": [
        "# 10000원을 들고 가서 1200원짜리 아이스크림 먹었을 때 잔돈의 갯수가 가장 적은 경우를 구하라\n",
        "잔돈 = 8800\n",
        "\n",
        "오천원갯수 = 잔돈 // 5000\n",
        "잔돈 = 잔돈 - 오천원갯수 * 5000\n",
        "\n",
        "천원의갯수 = 잔돈 // 1000\n",
        "잔돈 = 잔돈 - 천원의갯수 * 1000\n",
        "\n",
        "오백원갯수 = 잔돈 // 500\n",
        "잔돈 = 잔돈 - 오백원갯수 * 500\n",
        "\n",
        "백원갯수 = 잔돈 // 100\n",
        "잔돈 = 잔돈 - 백원갯수 * 100\n",
        "\n",
        "print(f'오천원은 {오천원갯수}개, \\\n",
        "천원은 {천원의갯수}개, \\\n",
        "오백원은 {오백원갯수}개, \\\n",
        "백원 {백원갯수}개를 거슬러 드립니다.')"
      ]
    },
    {
      "cell_type": "markdown",
      "metadata": {
        "id": "pPAcIDpqUr7B"
      },
      "source": [
        "## 함수"
      ]
    },
    {
      "cell_type": "code",
      "execution_count": null,
      "metadata": {
        "id": "d0Z82K2QTzf_"
      },
      "outputs": [],
      "source": [
        "def 부지매입():\n",
        "    pass\n",
        "\n",
        "def 설계도면작성():\n",
        "    pass\n",
        "\n",
        "def 인력모집():\n",
        "    pass\n",
        "\n",
        "def 벽돌쌓기():\n",
        "    pass\n",
        "\n",
        "def 지붕올리기():\n",
        "    pass\n",
        "\n",
        "부지매입()\n",
        "설계도면작성()\n",
        "인력모집()\n",
        "벽돌쌓기()\n",
        "지붕올리기()"
      ]
    },
    {
      "cell_type": "code",
      "execution_count": null,
      "metadata": {
        "colab": {
          "base_uri": "https://localhost:8080/"
        },
        "id": "S_SJLSpsVMD9",
        "outputId": "021e2068-ae28-4091-b926-e95983ed0f88"
      },
      "outputs": [
        {
          "name": "stdout",
          "output_type": "stream",
          "text": [
            "function(5, 7) = 12\n"
          ]
        }
      ],
      "source": [
        "# 파선아실\n",
        "def function(x, y):\n",
        "    z = x + y\n",
        "    return z\n",
        "print(f'function(5, 7) = {function(5, 7)}')"
      ]
    },
    {
      "cell_type": "code",
      "execution_count": null,
      "metadata": {
        "colab": {
          "base_uri": "https://localhost:8080/"
        },
        "id": "1Qvqwcp0YCVL",
        "outputId": "d40db24c-dfcc-483b-a710-27a405f12220"
      },
      "outputs": [
        {
          "name": "stdout",
          "output_type": "stream",
          "text": [
            "function(5, 7) = None\n"
          ]
        }
      ],
      "source": [
        "# 같은 코드 1\n",
        "def function(x, y):\n",
        "    z = x + y\n",
        "print(f'function(5, 7) = {function(5, 7)}')"
      ]
    },
    {
      "cell_type": "code",
      "execution_count": null,
      "metadata": {
        "id": "-6FFjU6SYW92"
      },
      "outputs": [],
      "source": [
        "# 같은 코드 1\n",
        "def function(x, y):\n",
        "    z = x + y\n",
        "    return None\n",
        "print(f'function(5, 7) = {function(5, 7)}')"
      ]
    },
    {
      "cell_type": "code",
      "execution_count": null,
      "metadata": {
        "colab": {
          "base_uri": "https://localhost:8080/"
        },
        "id": "1cGo9cBZYfI7",
        "outputId": "3f1c20f7-eefa-4171-bd05-f69e3208f65e"
      },
      "outputs": [
        {
          "name": "stdout",
          "output_type": "stream",
          "text": [
            "None\n",
            "function(5, 7) = None\n"
          ]
        }
      ],
      "source": [
        "# 전혀 다른 코드\n",
        "# print와 return은 다릅니다!\n",
        "def function(x, y):\n",
        "    z = x + y\n",
        "print(f'function(5, 7) = {function(5, 7)}')"
      ]
    },
    {
      "cell_type": "code",
      "execution_count": null,
      "metadata": {
        "colab": {
          "base_uri": "https://localhost:8080/"
        },
        "id": "sydVPgxvY2DU",
        "outputId": "b1d0ca5a-0301-40b7-bd1e-095f7d589551"
      },
      "outputs": [
        {
          "name": "stdout",
          "output_type": "stream",
          "text": [
            "hello\n",
            "hello\n",
            "hello\n",
            "hello\n",
            "None\n"
          ]
        }
      ],
      "source": [
        "def function():\n",
        "    print('hello')\n",
        "    print('hello')\n",
        "    print('hello')\n",
        "    print('hello')\n",
        "\n",
        "print(function())"
      ]
    },
    {
      "cell_type": "code",
      "execution_count": null,
      "metadata": {
        "colab": {
          "base_uri": "https://localhost:8080/"
        },
        "id": "SzPGbhTCZh4-",
        "outputId": "d82f1f1f-ee6e-46eb-fd20-29d7402bbbea"
      },
      "outputs": [
        {
          "name": "stdout",
          "output_type": "stream",
          "text": [
            "12\n",
            "function(5,7) = None\n"
          ]
        }
      ],
      "source": [
        "def function(x, y): # Input\n",
        "    z = x + y       # Function\n",
        "    print(z)        # Output?\n",
        "print(f'function(5, 7) = {function(5, 7)}')"
      ]
    },
    {
      "cell_type": "code",
      "execution_count": null,
      "metadata": {
        "id": "YJyOnZ_WaQ37"
      },
      "outputs": [],
      "source": [
        "def function(x, y): # Input\n",
        "    z = x + y       # Function\n",
        "    print(z)        # Output?\n",
        "    return None\n",
        "print(f'function(5, 7) = {function(5, 7)}')"
      ]
    },
    {
      "cell_type": "code",
      "execution_count": null,
      "metadata": {
        "colab": {
          "base_uri": "https://localhost:8080/"
        },
        "id": "gX17BEwtaUF8",
        "outputId": "c3187434-1bfc-4205-8e5c-c5229a5c130a"
      },
      "outputs": [
        {
          "name": "stdout",
          "output_type": "stream",
          "text": [
            "hello\n",
            "hello\n",
            "hello\n",
            "hello\n",
            "4\n"
          ]
        }
      ],
      "source": [
        "def function(x, y):\n",
        "    print('hello')\n",
        "    print('hello')\n",
        "    print('hello')\n",
        "    print('hello')\n",
        "    return x + y\n",
        "\n",
        "x = function(1, 1)\n",
        "print(x + x)"
      ]
    },
    {
      "cell_type": "code",
      "execution_count": null,
      "metadata": {
        "id": "jgCwbmukbOMO"
      },
      "outputs": [],
      "source": [
        "def function1(x):\n",
        "    print('world1')\n",
        "    print('world2')\n",
        "    print('world3')\n",
        "\n",
        "def function2(x, y):\n",
        "    print('hello1')\n",
        "    print('hello2')\n",
        "    return x + y\n",
        "\n",
        "a = function1(1)\n",
        "b = function2(3, 4)\n",
        "print(a, b)"
      ]
    },
    {
      "cell_type": "code",
      "execution_count": null,
      "metadata": {
        "colab": {
          "base_uri": "https://localhost:8080/"
        },
        "id": "Bqek7iQCd765",
        "outputId": "8819b37b-a932-4d11-e4d1-49dbfb2a7afb"
      },
      "outputs": [
        {
          "name": "stdout",
          "output_type": "stream",
          "text": [
            "world1\n",
            "world2\n",
            "world3\n",
            "hello1\n",
            "hello2\n",
            "world1\n",
            "world2\n",
            "world3\n",
            "2 27\n"
          ]
        }
      ],
      "source": [
        "def function1(x):\n",
        "    print('world1')\n",
        "    print('world2')\n",
        "    print('world3')\n",
        "    return x + x\n",
        "\n",
        "def function2(x, y):\n",
        "    print('hello1')\n",
        "    print('hello2')\n",
        "    z = function1(10)\n",
        "    return x + y + z\n",
        "\n",
        "a = function1(1)\n",
        "b = function2(3, 4)\n",
        "print(a, b)"
      ]
    },
    {
      "cell_type": "code",
      "execution_count": null,
      "metadata": {
        "colab": {
          "base_uri": "https://localhost:8080/"
        },
        "id": "4CW4035xhR13",
        "outputId": "32caa0c1-81ab-4d89-a07d-673ddaacf375"
      },
      "outputs": [
        {
          "name": "stdout",
          "output_type": "stream",
          "text": [
            "hello1\n",
            "world1\n",
            "27\n"
          ]
        }
      ],
      "source": [
        "# 함수 안에 있는 변수나 함수는 함수가 끝나면 휘발됩니다. \n",
        "# 메모리에서 사라져요.\n",
        "def f2(x, y):\n",
        "    def f1(x):\n",
        "        print('world1')\n",
        "        return x + x\n",
        "    print('hello1')\n",
        "    z = f1(10)\n",
        "    return x + y + z\n",
        "\n",
        "# a = f1(1) # 함수 안에 있는 함수는 밖에서 호출할 수 있지 않습니다.\n",
        "b = f2(3, 4)\n",
        "print(b)\n",
        "\n",
        "# print(z) # 함수가 끝났기 때문에 x, y, z에 접근할 수 없습니다."
      ]
    },
    {
      "cell_type": "code",
      "execution_count": null,
      "metadata": {
        "id": "fBWRAi9LiiSL"
      },
      "outputs": [],
      "source": [
        "# 1\n",
        "x = 100\n",
        "def plusX(x):\n",
        "    x = x + 100\n",
        "    return x\n",
        "\n",
        "print(plusX(10))"
      ]
    },
    {
      "cell_type": "code",
      "execution_count": null,
      "metadata": {
        "colab": {
          "base_uri": "https://localhost:8080/"
        },
        "id": "X5yXxk04jKw1",
        "outputId": "89c06e8f-ea7c-4d54-bfad-82b0ea8fc201"
      },
      "outputs": [
        {
          "name": "stdout",
          "output_type": "stream",
          "text": [
            "110\n"
          ]
        }
      ],
      "source": [
        "# 2\n",
        "x = 100\n",
        "def plusX(z):\n",
        "    z = z + x\n",
        "    return z\n",
        "\n",
        "print(plusX(10))"
      ]
    },
    {
      "cell_type": "code",
      "execution_count": null,
      "metadata": {
        "id": "4POdYBIemSSN"
      },
      "outputs": [],
      "source": [
        "# 3\n",
        "# 문제가 생기는 코드\n",
        "x = 100\n",
        "def plusX(z):\n",
        "    x = z + x\n",
        "    return z\n",
        "\n",
        "print(plusX(10))"
      ]
    },
    {
      "cell_type": "code",
      "execution_count": null,
      "metadata": {
        "colab": {
          "base_uri": "https://localhost:8080/"
        },
        "id": "Xn2KTrRQnFBs",
        "outputId": "4e05cff9-e9bb-4271-89a3-403fcbe9be5c"
      },
      "outputs": [
        {
          "name": "stdout",
          "output_type": "stream",
          "text": [
            "10\n"
          ]
        },
        {
          "data": {
            "text/plain": [
              "110"
            ]
          },
          "execution_count": 20,
          "metadata": {},
          "output_type": "execute_result"
        }
      ],
      "source": [
        "# 4\n",
        "# 문제가 생기지 않는 코드\n",
        "x = 100\n",
        "def plusX(z):\n",
        "    global x # 권하지 않습니다.\n",
        "    x = z + x\n",
        "    return z\n",
        "\n",
        "print(plusX(10))\n",
        "x"
      ]
    },
    {
      "cell_type": "code",
      "execution_count": null,
      "metadata": {
        "id": "W08Wg4Z5nMeQ"
      },
      "outputs": [],
      "source": [
        "# 5\n",
        "x = 100\n",
        "def plusX(x):\n",
        "    return x + 10\n",
        "\n",
        "x = plusX(x)"
      ]
    },
    {
      "cell_type": "code",
      "execution_count": null,
      "metadata": {
        "id": "oL93dgbMo3uS"
      },
      "outputs": [],
      "source": [
        "x = 100\n",
        "def plusX(z):\n",
        "  # v가 x를 가리키게 되었기 때문에 수정할 수 있는 권한이 들어오지 않았을까?\n",
        "  # No\n",
        "  v = x\n",
        "  x = z + x\n",
        "  return z\n",
        "\n",
        "plusX(10)"
      ]
    },
    {
      "cell_type": "code",
      "execution_count": null,
      "metadata": {
        "colab": {
          "base_uri": "https://localhost:8080/"
        },
        "id": "EiH-zb6YpY16",
        "outputId": "84f53f1e-4111-4efb-d282-481366521ada"
      },
      "outputs": [
        {
          "data": {
            "text/plain": [
              "100"
            ]
          },
          "execution_count": 24,
          "metadata": {},
          "output_type": "execute_result"
        }
      ],
      "source": [
        "def changePrint():\n",
        "  print = 100\n",
        "  return print\n",
        "\n",
        "changePrint()"
      ]
    },
    {
      "cell_type": "code",
      "execution_count": null,
      "metadata": {
        "colab": {
          "base_uri": "https://localhost:8080/"
        },
        "id": "2jDznjzopm6u",
        "outputId": "e0307c35-cd3b-424d-8b31-0465d5ff0ecf"
      },
      "outputs": [
        {
          "data": {
            "text/plain": [
              "100"
            ]
          },
          "execution_count": 26,
          "metadata": {},
          "output_type": "execute_result"
        }
      ],
      "source": [
        "print = 100\n",
        "print"
      ]
    },
    {
      "cell_type": "code",
      "execution_count": null,
      "metadata": {
        "colab": {
          "base_uri": "https://localhost:8080/"
        },
        "id": "dzTxsGXJqMgC",
        "outputId": "96022968-6dfc-44f3-9eb8-9ab0c83224e4"
      },
      "outputs": [
        {
          "data": {
            "text/plain": [
              "200"
            ]
          },
          "execution_count": 1,
          "metadata": {},
          "output_type": "execute_result"
        }
      ],
      "source": [
        "x = 100\n",
        "def plusX():\n",
        "    global x # 권장하지 않습니다.\n",
        "    x += 100\n",
        "\n",
        "plusX()\n",
        "x"
      ]
    },
    {
      "cell_type": "markdown",
      "metadata": {
        "id": "62L0BV_3q5xm"
      },
      "source": [
        "## 재귀함수"
      ]
    },
    {
      "cell_type": "code",
      "execution_count": null,
      "metadata": {
        "id": "ZP55GPJOq48K"
      },
      "outputs": [],
      "source": [
        "# 대부분의 코드는 for로 대체할 수 있습니다.\n",
        "# 효율도 매우 좋지 않습니다. 다만 메모라이징 기법을 사용하면 좋긴 합니다.\n",
        "# 다이나믹 프로그래밍 등 필수적으로 사용되는 곳이 있기도 합니다."
      ]
    },
    {
      "cell_type": "code",
      "execution_count": null,
      "metadata": {
        "id": "1ciS4bwCrPb-"
      },
      "outputs": [],
      "source": [
        "#sys.setrecursionlimit -> 제한을 늘릴 수 있음\n",
        "def 숫자출력():\n",
        "    print(1)\n",
        "    return 숫자출력()\n",
        "숫자출력()"
      ]
    },
    {
      "cell_type": "code",
      "execution_count": null,
      "metadata": {
        "colab": {
          "base_uri": "https://localhost:8080/"
        },
        "id": "Xi_JLQICr_dl",
        "outputId": "04f822f8-4702-4f01-d122-e17bc8a89ead"
      },
      "outputs": [
        {
          "data": {
            "text/plain": [
              "120"
            ]
          },
          "execution_count": 2,
          "metadata": {},
          "output_type": "execute_result"
        }
      ],
      "source": [
        "def factorial(n):\n",
        "    if n == 1:\n",
        "        return n\n",
        "    return n * factorial(n-1)\n",
        "\n",
        "factorial(5)\n",
        "\n",
        "#                 return 값\n",
        "# factorial(5) == 5 * factorial(4) == 5 * 24\n",
        "# factorial(4) == 4 * factorial(3) == 4 * 6\n",
        "# factorial(3) == 3 * factorial(2) == 3 * 2\n",
        "# factorial(2) == 2 * factorial(1) == 2 * 1\n",
        "# factorial(1) == 1"
      ]
    },
    {
      "cell_type": "code",
      "execution_count": null,
      "metadata": {
        "colab": {
          "base_uri": "https://localhost:8080/"
        },
        "id": "EsfRARDptnc_",
        "outputId": "c27a23c5-eada-410c-cedd-3c07e4bff9a7"
      },
      "outputs": [
        {
          "data": {
            "text/plain": [
              "120"
            ]
          },
          "execution_count": 3,
          "metadata": {},
          "output_type": "execute_result"
        }
      ],
      "source": [
        "result = 1\n",
        "for i in range(1, 6):\n",
        "    result *= i\n",
        "\n",
        "result"
      ]
    },
    {
      "cell_type": "code",
      "execution_count": null,
      "metadata": {
        "colab": {
          "base_uri": "https://localhost:8080/",
          "height": 35
        },
        "id": "jHQtUZTFvSU8",
        "outputId": "7c335b9b-c291-4e7a-bb50-54a5119b64a3"
      },
      "outputs": [
        {
          "data": {
            "application/vnd.google.colaboratory.intrinsic+json": {
              "type": "string"
            },
            "text/plain": [
              "'hello world'"
            ]
          },
          "execution_count": 11,
          "metadata": {},
          "output_type": "execute_result"
        }
      ],
      "source": [
        "def string_reverse(s):\n",
        "    if len(s) == 1:\n",
        "        return s\n",
        "    return s[0] + string_reverse(s[1:])\n",
        "\n",
        "string_reverse('hello world')"
      ]
    },
    {
      "cell_type": "code",
      "execution_count": null,
      "metadata": {
        "colab": {
          "base_uri": "https://localhost:8080/",
          "height": 35
        },
        "id": "fYGwO7Dmvl3n",
        "outputId": "d08cfec3-9dac-4ad2-b033-cfdd1a17da7f"
      },
      "outputs": [
        {
          "data": {
            "application/vnd.google.colaboratory.intrinsic+json": {
              "type": "string"
            },
            "text/plain": [
              "'dlrow olleh'"
            ]
          },
          "execution_count": 12,
          "metadata": {},
          "output_type": "execute_result"
        }
      ],
      "source": [
        "def string_reverse(s):\n",
        "    if len(s) == 1: # 얼리리턴(코드가 매우 길면 가능하면 앞쪽에서 return 해주는 것이 효율적입니다.)\n",
        "        return s\n",
        "    return string_reverse(s[1:]) + s[0]\n",
        "\n",
        "string_reverse('hello world')"
      ]
    },
    {
      "cell_type": "code",
      "execution_count": null,
      "metadata": {
        "id": "X1vp5wZtwDcB"
      },
      "outputs": [],
      "source": [
        "def string_reverse(s):\n",
        "    if len(s) == 1:\n",
        "        return s\n",
        "    return string_reverse(s[1:]) + s[0]\n",
        "\n",
        "string_reverse('hello')\n",
        "\n",
        "# string_reverse('hello') == string_reverse('ello') + 'h' == 'olle' + 'h' == 'olleh'\n",
        "# string_reverse('ello') == string_reverse('llo') + 'e' == 'oll' + 'e' == 'olle'\n",
        "# string_reverse('llo') == string_reverse('lo') + 'l' == 'ol' + 'l' == 'oll'\n",
        "# string_reverse('lo') == string_reverse('o') + 'l' == 'o' + 'l' == 'ol'\n",
        "# string_reverse('o') == 'o'"
      ]
    },
    {
      "cell_type": "code",
      "execution_count": null,
      "metadata": {
        "colab": {
          "base_uri": "https://localhost:8080/",
          "height": 35
        },
        "id": "mCSIQs3VwMuA",
        "outputId": "751494f3-58be-46e8-aea9-0defefe6eed5"
      },
      "outputs": [
        {
          "data": {
            "application/vnd.google.colaboratory.intrinsic+json": {
              "type": "string"
            },
            "text/plain": [
              "'llo world'"
            ]
          },
          "execution_count": 14,
          "metadata": {},
          "output_type": "execute_result"
        }
      ],
      "source": [
        "'hello world'[1:]\n",
        "'ello world'[1:]"
      ]
    },
    {
      "cell_type": "code",
      "execution_count": null,
      "metadata": {
        "colab": {
          "base_uri": "https://localhost:8080/",
          "height": 35
        },
        "id": "ySwSYNCet4dy",
        "outputId": "77d223a3-7ab2-4462-fc88-5219571815af"
      },
      "outputs": [
        {
          "data": {
            "application/vnd.google.colaboratory.intrinsic+json": {
              "type": "string"
            },
            "text/plain": [
              "'nujoheel'"
            ]
          },
          "execution_count": 5,
          "metadata": {},
          "output_type": "execute_result"
        }
      ],
      "source": [
        "s = 'leehojun'\n",
        "result = ''\n",
        "for i in s:\n",
        "    result = i + result\n",
        "\n",
        "result"
      ]
    },
    {
      "cell_type": "code",
      "execution_count": null,
      "metadata": {
        "id": "wNVxEzvzutdk"
      },
      "outputs": [],
      "source": [
        "for i in 'leehojun':\n",
        "    print(i)"
      ]
    },
    {
      "cell_type": "code",
      "execution_count": null,
      "metadata": {
        "colab": {
          "base_uri": "https://localhost:8080/",
          "height": 606
        },
        "id": "bmwVc58Pu0FL",
        "outputId": "be5af3d0-8692-46ea-f560-b4fd2bb24c7d"
      },
      "outputs": [
        {
          "name": "stdout",
          "output_type": "stream",
          "text": [
            "----------\n",
            "l\n",
            "연산 전 result : \n",
            "연산 후 result : l\n",
            "----------\n",
            "e\n",
            "연산 전 result : l\n",
            "연산 후 result : el\n",
            "----------\n",
            "e\n",
            "연산 전 result : el\n",
            "연산 후 result : eel\n",
            "----------\n",
            "h\n",
            "연산 전 result : eel\n",
            "연산 후 result : heel\n",
            "----------\n",
            "o\n",
            "연산 전 result : heel\n",
            "연산 후 result : oheel\n",
            "----------\n",
            "j\n",
            "연산 전 result : oheel\n",
            "연산 후 result : joheel\n",
            "----------\n",
            "u\n",
            "연산 전 result : joheel\n",
            "연산 후 result : ujoheel\n",
            "----------\n",
            "n\n",
            "연산 전 result : ujoheel\n",
            "연산 후 result : nujoheel\n"
          ]
        },
        {
          "data": {
            "application/vnd.google.colaboratory.intrinsic+json": {
              "type": "string"
            },
            "text/plain": [
              "'nujoheel'"
            ]
          },
          "execution_count": 8,
          "metadata": {},
          "output_type": "execute_result"
        }
      ],
      "source": [
        "s = 'leehojun'\n",
        "result = ''\n",
        "for i in s:\n",
        "    print('----------')\n",
        "    print(i)\n",
        "    print(f'연산 전 result : {result}')\n",
        "    result = i + result\n",
        "    print(f'연산 후 result : {result}')\n",
        "\n",
        "result"
      ]
    },
    {
      "cell_type": "code",
      "execution_count": null,
      "metadata": {
        "colab": {
          "base_uri": "https://localhost:8080/"
        },
        "id": "Il-24s6yEhul",
        "outputId": "9b3f0060-7b33-49ba-aa99-3a22da005593"
      },
      "outputs": [
        {
          "data": {
            "text/plain": [
              "9227465"
            ]
          },
          "execution_count": 18,
          "metadata": {},
          "output_type": "execute_result"
        }
      ],
      "source": [
        "# 재귀가 얼마나 비효율 적인지 보여주는 사례\n",
        "def fib(num):\n",
        "    if num == 0:\n",
        "        return 0\n",
        "    if num == 1 or num == 2:\n",
        "        return 1\n",
        "    else:\n",
        "        return fib(num-1) + fib(num-2)\n",
        "\n",
        "fib(35)"
      ]
    },
    {
      "cell_type": "code",
      "execution_count": null,
      "metadata": {
        "colab": {
          "base_uri": "https://localhost:8080/"
        },
        "id": "2EhsbIXaDpmB",
        "outputId": "833c10ee-69b5-4fcb-c549-f10b494562aa"
      },
      "outputs": [
        {
          "data": {
            "text/plain": [
              "102334155"
            ]
          },
          "execution_count": 21,
          "metadata": {},
          "output_type": "execute_result"
        }
      ],
      "source": [
        "from functools import lru_cache\n",
        "\n",
        "@lru_cache(maxsize=None)\n",
        "def fib(num):\n",
        "    if num == 0:\n",
        "        return 0\n",
        "    if num == 1 or num == 2:\n",
        "        return 1\n",
        "    else:\n",
        "        return fib(num-1) + fib(num-2)\n",
        "\n",
        "fib(40)"
      ]
    },
    {
      "cell_type": "markdown",
      "metadata": {
        "id": "ePtDPwjRFbPv"
      },
      "source": [
        "## 연습문제"
      ]
    },
    {
      "cell_type": "code",
      "execution_count": null,
      "metadata": {
        "colab": {
          "base_uri": "https://localhost:8080/"
        },
        "id": "9ybK5L9nIPou",
        "outputId": "5fb6402a-afbc-4beb-9042-b9b1e90089c7"
      },
      "outputs": [
        {
          "name": "stdout",
          "output_type": "stream",
          "text": [
            "I\n",
            "love\n",
            "python\n"
          ]
        }
      ],
      "source": [
        "a = 'pithon'\n",
        "\n",
        "def 함수1():\n",
        "    def 함수2():\n",
        "        print('love')\n",
        "        \n",
        "    print('I')\n",
        "    함수2()\n",
        "    return \"python\"\n",
        "\t\n",
        "\n",
        "a = 함수1()\n",
        "print(a)"
      ]
    },
    {
      "cell_type": "code",
      "execution_count": null,
      "metadata": {
        "id": "fGDXEb_pIsAb"
      },
      "outputs": [],
      "source": [
        "# 좋은 코드는 아닙니다.\n",
        "def plus(num1, num2):\n",
        "    return num1 + num2\n",
        "\n",
        "def minus(num1, num2):\n",
        "    return num1 - num2\n",
        "\n",
        "def multiply(num1, num2):\n",
        "    return num1 * num2\n",
        "\n",
        "def divide(num1, num2):\n",
        "    return num1 / num2\n",
        "\n",
        "print(f'plus : {plus(10, 5)}')\n",
        "print(f'minus : {minus(10, 5)}')\n",
        "print(f'multiply : {multiply(10, 5)}')\n",
        "print(f'divide : {divide(10, 5)}')"
      ]
    },
    {
      "cell_type": "code",
      "execution_count": null,
      "metadata": {
        "colab": {
          "base_uri": "https://localhost:8080/"
        },
        "id": "6B_aI8FpI7N5",
        "outputId": "5929ddff-fda5-4a83-a985-bbf969ca5831"
      },
      "outputs": [
        {
          "name": "stdout",
          "output_type": "stream",
          "text": [
            "plus : 15\n",
            "plus : 15\n",
            "plus : 15\n",
            "plus : 15\n",
            "plus : 연산할 수 없습니다.\n",
            "plus : 연산할 수 없습니다.\n"
          ]
        }
      ],
      "source": [
        "def plus(num1, num2):\n",
        "    try:\n",
        "        result = int(num1) + int(num2)\n",
        "        return result\n",
        "    except:\n",
        "        return '연산할 수 없습니다.'\n",
        "\n",
        "print(f'plus : {plus(10, 5)}')\n",
        "print(f'plus : {plus(\"10\", \"5\")}')\n",
        "print(f'plus : {plus(\"10\", 5)}')\n",
        "print(f'plus : {plus(10, \"5\")}')\n",
        "print(f'plus : {plus(\"abc\", 5)}')\n",
        "print(f'plus : {plus(10, \"abc\")}')"
      ]
    },
    {
      "cell_type": "code",
      "execution_count": null,
      "metadata": {
        "colab": {
          "base_uri": "https://localhost:8080/"
        },
        "id": "tKBjK81uKHNN",
        "outputId": "255165fa-da8a-4dda-c08c-26227d608735"
      },
      "outputs": [
        {
          "name": "stdout",
          "output_type": "stream",
          "text": [
            "plus : 15\n",
            "plus : 15\n",
            "plus : 15\n",
            "plus : 15\n",
            "plus : inf\n",
            "plus : inf\n"
          ]
        }
      ],
      "source": [
        "def plus(num1, num2):\n",
        "    try:\n",
        "        result = int(num1) + int(num2)\n",
        "        return result\n",
        "    except:\n",
        "        return float(\"inf\")\n",
        "\n",
        "print(f'plus : {plus(10, 5)}')\n",
        "print(f'plus : {plus(\"10\", \"5\")}')\n",
        "print(f'plus : {plus(\"10\", 5)}')\n",
        "print(f'plus : {plus(10, \"5\")}')\n",
        "print(f'plus : {plus(\"abc\", 5)}')\n",
        "print(f'plus : {plus(10, \"abc\")}')"
      ]
    },
    {
      "cell_type": "code",
      "execution_count": null,
      "metadata": {
        "colab": {
          "base_uri": "https://localhost:8080/"
        },
        "id": "6Uilr1siJ0J7",
        "outputId": "09dcbf00-4516-4876-de91-a8bdfafa1a43"
      },
      "outputs": [
        {
          "data": {
            "text/plain": [
              "True"
            ]
          },
          "execution_count": 44,
          "metadata": {},
          "output_type": "execute_result"
        }
      ],
      "source": [
        "float(\"inf\") > 1000000000000000000000"
      ]
    },
    {
      "cell_type": "code",
      "execution_count": null,
      "metadata": {
        "colab": {
          "base_uri": "https://localhost:8080/"
        },
        "id": "aqH8ch9kLdHC",
        "outputId": "80436188-8828-4065-cc3f-1aebffd6237a"
      },
      "outputs": [
        {
          "name": "stdout",
          "output_type": "stream",
          "text": [
            "plus : 15\n",
            "minus : 5\n",
            "multiply : 50\n",
            "divide : 2.0\n"
          ]
        }
      ],
      "source": [
        "plus = lambda x, y: x + y\n",
        "minus = lambda x, y: x - y\n",
        "multiply = lambda x, y: x * y\n",
        "divide = lambda x, y: x / y\n",
        "\n",
        "print(f'plus : {plus(10, 5)}')\n",
        "print(f'minus : {minus(10, 5)}')\n",
        "print(f'multiply : {multiply(10, 5)}')\n",
        "print(f'divide : {divide(10, 5)}')"
      ]
    },
    {
      "cell_type": "code",
      "execution_count": null,
      "metadata": {
        "colab": {
          "base_uri": "https://localhost:8080/"
        },
        "id": "AIGSio89Mdf8",
        "outputId": "034e9ff6-1e15-4772-e89c-6c862abce8ab"
      },
      "outputs": [
        {
          "data": {
            "text/plain": [
              "81"
            ]
          },
          "execution_count": 49,
          "metadata": {},
          "output_type": "execute_result"
        }
      ],
      "source": [
        "def 제곱(n):\n",
        "    if n == 0:\n",
        "        return 1\n",
        "    return 3 * 제곱(n-1)\n",
        "\n",
        "제곱(3)\n",
        "제곱(4)\n",
        "\n",
        "#\n",
        "# 제곱(4)   3 * 제곱(3)     3 * 3 * 3 * 3\n",
        "# 제곱(3)   3 * 제곱(2)     3 * 3 * 3\n",
        "# 제곱(2)   3 * 제곱(1)     3 * 3\n",
        "# 제곱(1)   3 * 제곱(0)     3 * 1\n",
        "# 제곱(0)   1"
      ]
    },
    {
      "cell_type": "code",
      "execution_count": null,
      "metadata": {
        "colab": {
          "base_uri": "https://localhost:8080/"
        },
        "id": "st_wDyecPTXo",
        "outputId": "935fd775-e602-46db-ed5c-63332d419f93"
      },
      "outputs": [
        {
          "data": {
            "text/plain": [
              "81"
            ]
          },
          "execution_count": 51,
          "metadata": {},
          "output_type": "execute_result"
        }
      ],
      "source": [
        "def 제곱(x, n):\n",
        "    if n == 0:\n",
        "        return 1\n",
        "    return x * 제곱(x, n-1)\n",
        "\n",
        "제곱(3, 4)\n",
        "\n",
        "# 제곱(3, 4)   3 * 제곱(3, 3)     3 * 3 * 3 * 3\n",
        "# 제곱(3, 3)   3 * 제곱(3, 2)     3 * 3 * 3\n",
        "# 제곱(3, 2)   3 * 제곱(3, 1)     3 * 3\n",
        "# 제곱(3, 1)   3 * 제곱(3, 0)     3 * 1\n",
        "# 제곱(3, 0)   1"
      ]
    },
    {
      "cell_type": "code",
      "execution_count": null,
      "metadata": {
        "colab": {
          "base_uri": "https://localhost:8080/"
        },
        "id": "pEBNSQp7PjCF",
        "outputId": "4fa2d809-594d-40f6-a68a-10c973053f3a"
      },
      "outputs": [
        {
          "data": {
            "text/plain": [
              "64"
            ]
          },
          "execution_count": 55,
          "metadata": {},
          "output_type": "execute_result"
        }
      ],
      "source": [
        "# factory 함수\n",
        "# 클로저\n",
        "def factory(x):\n",
        "    def 승수(n):\n",
        "        return x ** n\n",
        "    return 승수\n",
        "\n",
        "제곱3 = factory(3)\n",
        "\n",
        "# 실제 제곱3는 아래와 같습니다.\n",
        "# def 승수(n):\n",
        "#     return 3 ** n\n",
        "\n",
        "제곱4 = factory(4)\n",
        "\n",
        "제곱3(2)\n",
        "제곱3(3)\n",
        "제곱4(2)\n",
        "제곱4(3)"
      ]
    },
    {
      "cell_type": "markdown",
      "metadata": {
        "id": "GGoSzWQiSlLa"
      },
      "source": [
        "## 리스트\n",
        "\n",
        "* 순서가 있는 데이터입니다.\n",
        "* 값의 수정이 가능합니다."
      ]
    },
    {
      "cell_type": "code",
      "execution_count": null,
      "metadata": {
        "id": "stoBxrBNTFEh"
      },
      "outputs": [],
      "source": [
        "l = [10, 20, 30, 40]"
      ]
    },
    {
      "cell_type": "code",
      "execution_count": null,
      "metadata": {
        "colab": {
          "base_uri": "https://localhost:8080/"
        },
        "id": "um4bLPamTInQ",
        "outputId": "9a08e981-81d4-4040-bc70-0d431c1965fb"
      },
      "outputs": [
        {
          "data": {
            "text/plain": [
              "10"
            ]
          },
          "execution_count": 58,
          "metadata": {},
          "output_type": "execute_result"
        }
      ],
      "source": [
        "l[0]"
      ]
    },
    {
      "cell_type": "code",
      "execution_count": null,
      "metadata": {
        "colab": {
          "base_uri": "https://localhost:8080/"
        },
        "id": "unRrQPIdTNsJ",
        "outputId": "7f56dcd0-7e4c-4d76-dbbf-35bb93f2f881"
      },
      "outputs": [
        {
          "data": {
            "text/plain": [
              "[1000, 20, 30, 40]"
            ]
          },
          "execution_count": 59,
          "metadata": {},
          "output_type": "execute_result"
        }
      ],
      "source": [
        "l[0] = 1000\n",
        "l # mutable한 객체 <-> immutable한 객체(문자열)"
      ]
    },
    {
      "cell_type": "code",
      "execution_count": null,
      "metadata": {
        "id": "nyZYtbVaTP_J"
      },
      "outputs": [],
      "source": [
        "s = 'hello'\n",
        "s[0] = 'k' # error! immutable한 객체"
      ]
    },
    {
      "cell_type": "code",
      "execution_count": null,
      "metadata": {
        "colab": {
          "base_uri": "https://localhost:8080/"
        },
        "id": "07-_WJLDTp4A",
        "outputId": "0241a2f4-1875-4d10-9d18-c0f4f5a24b70"
      },
      "outputs": [
        {
          "data": {
            "text/plain": [
              "[[1, 2, 3], [4, 5, 6], [7, 8, 9]]"
            ]
          },
          "execution_count": 63,
          "metadata": {},
          "output_type": "execute_result"
        }
      ],
      "source": [
        "data = [[1, 2, 3],\n",
        "        [4, 5, 6],\n",
        "        [7, 8, 9]]\n",
        "\n",
        "data"
      ]
    },
    {
      "cell_type": "code",
      "execution_count": null,
      "metadata": {
        "colab": {
          "base_uri": "https://localhost:8080/"
        },
        "id": "9N4sKGWDUNcd",
        "outputId": "54be91c1-53c0-48e2-b84b-7df9170b0b64"
      },
      "outputs": [
        {
          "data": {
            "text/plain": [
              "[1, 2, 3]"
            ]
          },
          "execution_count": 64,
          "metadata": {},
          "output_type": "execute_result"
        }
      ],
      "source": [
        "data[0]"
      ]
    },
    {
      "cell_type": "code",
      "execution_count": null,
      "metadata": {
        "colab": {
          "base_uri": "https://localhost:8080/"
        },
        "id": "U6IY4l7eUSeo",
        "outputId": "560a8a2f-c992-4e7d-e974-844b4f07bc18"
      },
      "outputs": [
        {
          "data": {
            "text/plain": [
              "1"
            ]
          },
          "execution_count": 65,
          "metadata": {},
          "output_type": "execute_result"
        }
      ],
      "source": [
        "data[0][0]"
      ]
    },
    {
      "cell_type": "code",
      "execution_count": null,
      "metadata": {
        "colab": {
          "base_uri": "https://localhost:8080/"
        },
        "id": "U7mEoLFsUTen",
        "outputId": "a20bcd72-f172-45ef-9a9f-da930529c1b1"
      },
      "outputs": [
        {
          "data": {
            "text/plain": [
              "[[2, 4, 6], [8, 10, 12], [14, 16, 18]]"
            ]
          },
          "execution_count": 72,
          "metadata": {},
          "output_type": "execute_result"
        }
      ],
      "source": [
        "data = [[1, 2, 3], [4, 5, 6], [7, 8, 9]]\n",
        "data[0][0] = data[0][0] * 2\n",
        "data[0][1] = data[0][1] * 2\n",
        "data[0][2] = data[0][2] * 2\n",
        "data[1][0] = data[1][0] * 2\n",
        "data[1][1] = data[1][1] * 2\n",
        "data[1][2] = data[1][2] * 2\n",
        "data[2][0] = data[2][0] * 2\n",
        "data[2][1] = data[2][1] * 2\n",
        "data[2][2] = data[2][2] * 2\n",
        "data"
      ]
    },
    {
      "cell_type": "code",
      "execution_count": null,
      "metadata": {
        "colab": {
          "base_uri": "https://localhost:8080/"
        },
        "id": "GaJ4VrGhVmOa",
        "outputId": "6d6463c8-76d4-4b75-b531-37f239265ed1"
      },
      "outputs": [
        {
          "data": {
            "text/plain": [
              "[[2, 4, 6], [8, 10, 12], [14, 16, 18]]"
            ]
          },
          "execution_count": 73,
          "metadata": {},
          "output_type": "execute_result"
        }
      ],
      "source": [
        "data = [[1, 2, 3], [4, 5, 6], [7, 8, 9]]\n",
        "\n",
        "for i in range(3):\n",
        "    data[i][0] = data[i][0] * 2\n",
        "    data[i][1] = data[i][1] * 2\n",
        "    data[i][2] = data[i][2] * 2\n",
        "data"
      ]
    },
    {
      "cell_type": "code",
      "execution_count": null,
      "metadata": {
        "colab": {
          "base_uri": "https://localhost:8080/"
        },
        "id": "vutwW8Q6T2m1",
        "outputId": "d45c6508-ea1c-40da-c9fd-db7f23cc7c2c"
      },
      "outputs": [
        {
          "data": {
            "text/plain": [
              "[[2, 4, 6], [8, 10, 12], [14, 16, 18]]"
            ]
          },
          "execution_count": 62,
          "metadata": {},
          "output_type": "execute_result"
        }
      ],
      "source": [
        "for i in range(len(data)):\n",
        "    for j in range(len(data[1])):\n",
        "        data[i][j] *= 2\n",
        "\n",
        "data"
      ]
    },
    {
      "cell_type": "code",
      "execution_count": null,
      "metadata": {
        "colab": {
          "base_uri": "https://localhost:8080/"
        },
        "id": "c3rNZaeVV6ZK",
        "outputId": "c2fa95c1-a5df-4c42-c806-9be5aa266fbf"
      },
      "outputs": [
        {
          "data": {
            "text/plain": [
              "[10, 30, 50, 70]"
            ]
          },
          "execution_count": 76,
          "metadata": {},
          "output_type": "execute_result"
        }
      ],
      "source": [
        "#data[start:stop:step]\n",
        "data = [10, 20, 30, 40, 50, 60, 70]\n",
        "data[1:]\n",
        "data[1:-1]\n",
        "data[::2]\n",
        "data[:] # 매우 중요!"
      ]
    },
    {
      "cell_type": "code",
      "execution_count": null,
      "metadata": {
        "colab": {
          "base_uri": "https://localhost:8080/"
        },
        "id": "9HpcCDm4XXRf",
        "outputId": "e49e4fc7-d726-4dd2-a695-6bcba6dec7c3"
      },
      "outputs": [
        {
          "data": {
            "text/plain": [
              "([100, 20, 30, 40, 50, 60, 70], [100, 20, 30, 40, 50, 60, 70])"
            ]
          },
          "execution_count": 80,
          "metadata": {},
          "output_type": "execute_result"
        }
      ],
      "source": [
        "data = [10, 20, 30, 40, 50, 60, 70]\n",
        "data2 = data\n",
        "data2[0] = 100\n",
        "data2, data"
      ]
    },
    {
      "cell_type": "code",
      "execution_count": null,
      "metadata": {
        "colab": {
          "base_uri": "https://localhost:8080/"
        },
        "id": "J5TF-bj3XjaY",
        "outputId": "54df214b-6410-437d-baeb-7b595d287993"
      },
      "outputs": [
        {
          "data": {
            "text/plain": [
              "([100, 20, 30, 40, 50, 60, 70], [10, 20, 30, 40, 50, 60, 70])"
            ]
          },
          "execution_count": 79,
          "metadata": {},
          "output_type": "execute_result"
        }
      ],
      "source": [
        "data = [10, 20, 30, 40, 50, 60, 70]\n",
        "data2 = data[:] # data[::2]\n",
        "data2[0] = 100\n",
        "data2, data"
      ]
    },
    {
      "cell_type": "code",
      "execution_count": null,
      "metadata": {
        "colab": {
          "base_uri": "https://localhost:8080/"
        },
        "id": "LJwi2n02X40W",
        "outputId": "129e629e-0138-4a8c-d89b-480f0a8202cf"
      },
      "outputs": [
        {
          "data": {
            "text/plain": [
              "[1, 2, 3, 1, 2, 3]"
            ]
          },
          "execution_count": 81,
          "metadata": {},
          "output_type": "execute_result"
        }
      ],
      "source": [
        "[1, 2, 3] + [1, 2, 3]"
      ]
    },
    {
      "cell_type": "code",
      "execution_count": null,
      "metadata": {
        "colab": {
          "base_uri": "https://localhost:8080/"
        },
        "id": "UGt_AchtX7Z9",
        "outputId": "ffeef7b2-568d-448d-9ae5-df8b6f2e2b12"
      },
      "outputs": [
        {
          "data": {
            "text/plain": [
              "[1, 2, 3, 1, 2, 3]"
            ]
          },
          "execution_count": 82,
          "metadata": {},
          "output_type": "execute_result"
        }
      ],
      "source": [
        "[1, 2, 3] * 2"
      ]
    },
    {
      "cell_type": "code",
      "execution_count": null,
      "metadata": {
        "colab": {
          "base_uri": "https://localhost:8080/"
        },
        "id": "PvvCw7KMYEvu",
        "outputId": "f43f7360-8580-4b47-d9eb-2659191aec0a"
      },
      "outputs": [
        {
          "data": {
            "text/plain": [
              "[[[10, 10, 10], [10, 10, 10], [10, 10, 10]],\n",
              " [[10, 10, 10], [10, 10, 10], [10, 10, 10]],\n",
              " [[10, 10, 10], [10, 10, 10], [10, 10, 10]],\n",
              " [[10, 10, 10], [10, 10, 10], [10, 10, 10]]]"
            ]
          },
          "execution_count": 87,
          "metadata": {},
          "output_type": "execute_result"
        }
      ],
      "source": [
        "x = [[[10]*3]*3]*4\n",
        "x"
      ]
    },
    {
      "cell_type": "code",
      "execution_count": null,
      "metadata": {
        "colab": {
          "base_uri": "https://localhost:8080/"
        },
        "id": "OxNJnypQYTHR",
        "outputId": "f24f6162-e98e-4747-c4fa-eca6e833fe9d"
      },
      "outputs": [
        {
          "data": {
            "text/plain": [
              "[[[100, 10, 10], [100, 10, 10], [100, 10, 10]],\n",
              " [[100, 10, 10], [100, 10, 10], [100, 10, 10]],\n",
              " [[100, 10, 10], [100, 10, 10], [100, 10, 10]],\n",
              " [[100, 10, 10], [100, 10, 10], [100, 10, 10]]]"
            ]
          },
          "execution_count": 88,
          "metadata": {},
          "output_type": "execute_result"
        }
      ],
      "source": [
        "x[0][0][0] = 100\n",
        "x"
      ]
    },
    {
      "cell_type": "code",
      "execution_count": null,
      "metadata": {
        "colab": {
          "base_uri": "https://localhost:8080/"
        },
        "id": "7nmlaW3oYeog",
        "outputId": "9ec9e300-3fee-4057-b0be-45e20a6324e2"
      },
      "outputs": [
        {
          "data": {
            "text/plain": [
              "(140657978874048, 140657978874048)"
            ]
          },
          "execution_count": 91,
          "metadata": {},
          "output_type": "execute_result"
        }
      ],
      "source": [
        "id(x[0][0]), id(x[0][1])"
      ]
    },
    {
      "cell_type": "code",
      "execution_count": null,
      "metadata": {
        "colab": {
          "base_uri": "https://localhost:8080/"
        },
        "id": "FM0wRbFVYzKs",
        "outputId": "fb9c51be-14e8-411d-f900-7b4ab9bdd4dd"
      },
      "outputs": [
        {
          "data": {
            "text/plain": [
              "[1000, 2, 3, 1, 2, 3]"
            ]
          },
          "execution_count": 92,
          "metadata": {},
          "output_type": "execute_result"
        }
      ],
      "source": [
        "# 얕은 곱하기는 메모리를 복사하지 않습니다.\n",
        "x = [1, 2, 3] * 2\n",
        "x[0] = 1000\n",
        "x"
      ]
    },
    {
      "cell_type": "code",
      "execution_count": null,
      "metadata": {
        "colab": {
          "base_uri": "https://localhost:8080/"
        },
        "id": "vBAsRQ68Y8Zu",
        "outputId": "04f1fc73-66bc-42aa-f6f0-cfbe22ecaac3"
      },
      "outputs": [
        {
          "data": {
            "text/plain": [
              "[[1000, 2, 3, 1, 2, 3], [1000, 2, 3, 1, 2, 3]]"
            ]
          },
          "execution_count": 93,
          "metadata": {},
          "output_type": "execute_result"
        }
      ],
      "source": [
        "x = [[1, 2, 3] * 2] * 2\n",
        "x[0][0] = 1000\n",
        "x"
      ]
    },
    {
      "cell_type": "code",
      "execution_count": null,
      "metadata": {
        "colab": {
          "base_uri": "https://localhost:8080/"
        },
        "id": "B7TnDzDQZJ0z",
        "outputId": "941de60f-b82f-447e-c3eb-d2cb5bf6adaa"
      },
      "outputs": [
        {
          "data": {
            "text/plain": [
              "(list,\n",
              " ['__add__',\n",
              "  '__class__',\n",
              "  '__class_getitem__',\n",
              "  '__contains__',\n",
              "  '__delattr__',\n",
              "  '__delitem__',\n",
              "  '__dir__',\n",
              "  '__doc__',\n",
              "  '__eq__',\n",
              "  '__format__',\n",
              "  '__ge__',\n",
              "  '__getattribute__',\n",
              "  '__getitem__',\n",
              "  '__gt__',\n",
              "  '__hash__',\n",
              "  '__iadd__',\n",
              "  '__imul__',\n",
              "  '__init__',\n",
              "  '__init_subclass__',\n",
              "  '__iter__',\n",
              "  '__le__',\n",
              "  '__len__',\n",
              "  '__lt__',\n",
              "  '__mul__',\n",
              "  '__ne__',\n",
              "  '__new__',\n",
              "  '__reduce__',\n",
              "  '__reduce_ex__',\n",
              "  '__repr__',\n",
              "  '__reversed__',\n",
              "  '__rmul__',\n",
              "  '__setattr__',\n",
              "  '__setitem__',\n",
              "  '__sizeof__',\n",
              "  '__str__',\n",
              "  '__subclasshook__',\n",
              "  'append',\n",
              "  'clear',\n",
              "  'copy',\n",
              "  'count',\n",
              "  'extend',\n",
              "  'index',\n",
              "  'insert',\n",
              "  'pop',\n",
              "  'remove',\n",
              "  'reverse',\n",
              "  'sort'])"
            ]
          },
          "execution_count": 95,
          "metadata": {},
          "output_type": "execute_result"
        }
      ],
      "source": [
        "l = [10, 20, 30, 40]\n",
        "type(l), dir(l)"
      ]
    },
    {
      "cell_type": "code",
      "execution_count": null,
      "metadata": {
        "id": "ZFqicxFaZZMS"
      },
      "outputs": [],
      "source": [
        "# 'append','clear','copy','count','extend',\n",
        "# 'index','insert','pop','remove','reverse','sort'"
      ]
    },
    {
      "cell_type": "code",
      "execution_count": null,
      "metadata": {
        "id": "bj6MvQq1ZhBd"
      },
      "outputs": [],
      "source": [
        "l = [10, 20, 30, 40]\n",
        "l.append(50)\n",
        "l"
      ]
    },
    {
      "cell_type": "code",
      "execution_count": null,
      "metadata": {
        "colab": {
          "base_uri": "https://localhost:8080/"
        },
        "id": "zJ4fddr1Z0Ct",
        "outputId": "37e5df39-9e84-460b-81f6-f5e2cebab646"
      },
      "outputs": [
        {
          "data": {
            "text/plain": [
              "[10, 20, 30]"
            ]
          },
          "execution_count": 99,
          "metadata": {},
          "output_type": "execute_result"
        }
      ],
      "source": [
        "l = [10, 20, 30, 40]\n",
        "l.pop()\n",
        "l"
      ]
    },
    {
      "cell_type": "code",
      "execution_count": null,
      "metadata": {
        "colab": {
          "base_uri": "https://localhost:8080/"
        },
        "id": "hvASGREiZ4fF",
        "outputId": "e2337cc6-d472-45cd-fcca-868dac769d30"
      },
      "outputs": [
        {
          "data": {
            "text/plain": [
              "[20, 30, 40]"
            ]
          },
          "execution_count": 100,
          "metadata": {},
          "output_type": "execute_result"
        }
      ],
      "source": [
        "l = [10, 20, 30, 40]\n",
        "l.pop(0)\n",
        "l"
      ]
    },
    {
      "cell_type": "code",
      "execution_count": null,
      "metadata": {
        "colab": {
          "base_uri": "https://localhost:8080/"
        },
        "id": "QvT_qdmMaDOL",
        "outputId": "fb2689c7-d47c-4bfc-99de-1ee36d33b844"
      },
      "outputs": [
        {
          "data": {
            "text/plain": [
              "[]"
            ]
          },
          "execution_count": 101,
          "metadata": {},
          "output_type": "execute_result"
        }
      ],
      "source": [
        "l = [10, 20, 30, 40]\n",
        "l.clear()\n",
        "l"
      ]
    },
    {
      "cell_type": "code",
      "execution_count": null,
      "metadata": {
        "colab": {
          "base_uri": "https://localhost:8080/"
        },
        "id": "jhACFsPWaF55",
        "outputId": "7b394ec2-3296-45ec-ded8-5a01282ac569"
      },
      "outputs": [
        {
          "data": {
            "text/plain": [
              "([10, 20, 30, 40], [1000, 20, 30, 40])"
            ]
          },
          "execution_count": 102,
          "metadata": {},
          "output_type": "execute_result"
        }
      ],
      "source": [
        "l = [10, 20, 30, 40]\n",
        "data = l.copy()\n",
        "data[0] = 1000\n",
        "l, data"
      ]
    },
    {
      "cell_type": "code",
      "execution_count": null,
      "metadata": {
        "colab": {
          "base_uri": "https://localhost:8080/"
        },
        "id": "qp4ByhKBaSMz",
        "outputId": "d7ad865f-8bff-4229-886c-e5d6fc9d1549"
      },
      "outputs": [
        {
          "data": {
            "text/plain": [
              "([1000, 20, 30, 40], [1000, 20, 30, 40])"
            ]
          },
          "execution_count": 103,
          "metadata": {},
          "output_type": "execute_result"
        }
      ],
      "source": [
        "l = [10, 20, 30, 40]\n",
        "data = l\n",
        "data[0] = 1000\n",
        "l, data"
      ]
    },
    {
      "cell_type": "code",
      "execution_count": null,
      "metadata": {
        "colab": {
          "base_uri": "https://localhost:8080/"
        },
        "id": "kTS5GpaEdeyf",
        "outputId": "5429911f-01cb-4029-9089-1d81ee4a056c"
      },
      "outputs": [
        {
          "data": {
            "text/plain": [
              "4"
            ]
          },
          "execution_count": 104,
          "metadata": {},
          "output_type": "execute_result"
        }
      ],
      "source": [
        "l = [10, 20, 30, 40, 10, 10, 10]\n",
        "l.count(10)"
      ]
    },
    {
      "cell_type": "code",
      "execution_count": null,
      "metadata": {
        "colab": {
          "base_uri": "https://localhost:8080/"
        },
        "id": "b7EmSkWhdmee",
        "outputId": "3edd0ba0-2a15-49b5-9c1d-85a07921a938"
      },
      "outputs": [
        {
          "data": {
            "text/plain": [
              "[10, 20, 30, 40, 10, 10, 10, 1, 2, 3, 4, 5]"
            ]
          },
          "execution_count": 105,
          "metadata": {},
          "output_type": "execute_result"
        }
      ],
      "source": [
        "l = [10, 20, 30, 40, 10, 10, 10]\n",
        "l.extend([1, 2, 3, 4, 5])\n",
        "l"
      ]
    },
    {
      "cell_type": "code",
      "execution_count": null,
      "metadata": {
        "colab": {
          "base_uri": "https://localhost:8080/"
        },
        "id": "doKSdFYIdsK4",
        "outputId": "b450b558-253c-4562-917c-c45a56058f01"
      },
      "outputs": [
        {
          "data": {
            "text/plain": [
              "[10, 20, 30, 40, 10, 10, 10, [1, 2, 3, 4, 5]]"
            ]
          },
          "execution_count": 106,
          "metadata": {},
          "output_type": "execute_result"
        }
      ],
      "source": [
        "l = [10, 20, 30, 40, 10, 10, 10]\n",
        "l.append([1, 2, 3, 4, 5])\n",
        "l"
      ]
    },
    {
      "cell_type": "code",
      "execution_count": null,
      "metadata": {
        "colab": {
          "base_uri": "https://localhost:8080/"
        },
        "id": "Z-O8Ood2eChr",
        "outputId": "bb15a5c7-2d2b-4803-aa9a-eb9cf9a900f5"
      },
      "outputs": [
        {
          "data": {
            "text/plain": [
              "[10, 20, 10000, 30, 40, 10, 10, 10]"
            ]
          },
          "execution_count": 107,
          "metadata": {},
          "output_type": "execute_result"
        }
      ],
      "source": [
        "l = [10, 20, 30, 40, 10, 10, 10]\n",
        "l.insert(2, 10000)\n",
        "l"
      ]
    },
    {
      "cell_type": "code",
      "execution_count": null,
      "metadata": {
        "colab": {
          "base_uri": "https://localhost:8080/"
        },
        "id": "bb8UJ20geTQO",
        "outputId": "b56c2858-6852-4078-f0dc-8d870840dde9"
      },
      "outputs": [
        {
          "data": {
            "text/plain": [
              "2"
            ]
          },
          "execution_count": 108,
          "metadata": {},
          "output_type": "execute_result"
        }
      ],
      "source": [
        "l = [10, 20, 10000, 30, 40, 10, 10, 10]\n",
        "l.index(10000)"
      ]
    },
    {
      "cell_type": "code",
      "execution_count": null,
      "metadata": {
        "colab": {
          "base_uri": "https://localhost:8080/"
        },
        "id": "vmfjb4gTef_e",
        "outputId": "97f0a5f7-07a3-4015-b819-185cf7bc013f"
      },
      "outputs": [
        {
          "data": {
            "text/plain": [
              "[20, 10000, 30, 40, 10, 10, 10]"
            ]
          },
          "execution_count": 109,
          "metadata": {},
          "output_type": "execute_result"
        }
      ],
      "source": [
        "l = [10, 20, 10000, 30, 40, 10, 10, 10]\n",
        "l.remove(10)\n",
        "l"
      ]
    },
    {
      "cell_type": "code",
      "execution_count": null,
      "metadata": {
        "colab": {
          "base_uri": "https://localhost:8080/"
        },
        "id": "nWNQHjxRerU0",
        "outputId": "3c695d2b-09db-42e4-d160-da071eeceae9"
      },
      "outputs": [
        {
          "data": {
            "text/plain": [
              "[20, 10000, 30, 40]"
            ]
          },
          "execution_count": 110,
          "metadata": {},
          "output_type": "execute_result"
        }
      ],
      "source": [
        "l = [10, 20, 10000, 30, 40, 10, 10, 10]\n",
        "for i in range(l.count(10)):\n",
        "    l.remove(10)\n",
        "l"
      ]
    },
    {
      "cell_type": "code",
      "execution_count": null,
      "metadata": {
        "colab": {
          "base_uri": "https://localhost:8080/"
        },
        "id": "Alo4DSUffArK",
        "outputId": "42c737e6-7c89-457b-e7c3-b1b6246a2451"
      },
      "outputs": [
        {
          "data": {
            "text/plain": [
              "[20, 10000, 30, 40]"
            ]
          },
          "execution_count": 112,
          "metadata": {},
          "output_type": "execute_result"
        }
      ],
      "source": [
        "# 실무에서 많이 사용하는 코드입니다.\n",
        "# 어떤 값을 찾아내거나, 조건에 맞는 코드를 추출할 때 사용\n",
        "def 함수(x):\n",
        "    return x != 10\n",
        "\n",
        "l = [10, 20, 10000, 30, 40, 10, 10, 10]\n",
        "list(filter(함수, l))"
      ]
    },
    {
      "cell_type": "code",
      "execution_count": null,
      "metadata": {
        "colab": {
          "base_uri": "https://localhost:8080/"
        },
        "id": "Js2ZrSdmfe0Y",
        "outputId": "70369009-fbeb-451d-925c-92401191ea6e"
      },
      "outputs": [
        {
          "data": {
            "text/plain": [
              "[20, 10000, 30, 40]"
            ]
          },
          "execution_count": 113,
          "metadata": {},
          "output_type": "execute_result"
        }
      ],
      "source": [
        "l = [10, 20, 10000, 30, 40, 10, 10, 10]\n",
        "list(filter(lambda x: x != 10, l))"
      ]
    },
    {
      "cell_type": "code",
      "execution_count": null,
      "metadata": {
        "colab": {
          "base_uri": "https://localhost:8080/"
        },
        "id": "SZLpJjE4f-jq",
        "outputId": "e05ede3e-8fa3-43d0-b0d3-5d9d2879e0bf"
      },
      "outputs": [
        {
          "data": {
            "text/plain": [
              "<filter at 0x7fed33b0a260>"
            ]
          },
          "execution_count": 114,
          "metadata": {},
          "output_type": "execute_result"
        }
      ],
      "source": [
        "filter(lambda x: x != 10, l)"
      ]
    },
    {
      "cell_type": "code",
      "execution_count": null,
      "metadata": {
        "colab": {
          "base_uri": "https://localhost:8080/"
        },
        "id": "uBsnJSY3gBSh",
        "outputId": "750abf5b-c13c-4fae-ac70-1ab1e35f001a"
      },
      "outputs": [
        {
          "data": {
            "text/plain": [
              "range(1, 11)"
            ]
          },
          "execution_count": 115,
          "metadata": {},
          "output_type": "execute_result"
        }
      ],
      "source": [
        "range(1, 11)"
      ]
    },
    {
      "cell_type": "code",
      "execution_count": null,
      "metadata": {
        "colab": {
          "base_uri": "https://localhost:8080/"
        },
        "id": "mX2lqd71gKUD",
        "outputId": "d0dd9fcd-a075-4e23-b721-261d2081b2ec"
      },
      "outputs": [
        {
          "name": "stdout",
          "output_type": "stream",
          "text": [
            "20\n",
            "10000\n",
            "30\n",
            "40\n"
          ]
        }
      ],
      "source": [
        "for i in filter(lambda x: x != 10, l):\n",
        "    print(i)"
      ]
    },
    {
      "cell_type": "code",
      "execution_count": null,
      "metadata": {
        "colab": {
          "base_uri": "https://localhost:8080/"
        },
        "id": "vDxRMUjug-Wx",
        "outputId": "63288a51-bc44-4b0b-da5f-b21183ff9ed3"
      },
      "outputs": [
        {
          "data": {
            "text/plain": [
              "[11, 55, 2, 1, 30, 20, 10, 30, 20, 10]"
            ]
          },
          "execution_count": 118,
          "metadata": {},
          "output_type": "execute_result"
        }
      ],
      "source": [
        "l = [10, 20, 30, 10, 20, 30, 1, 2, 55, 11]\n",
        "l.reverse() # l을 직접 만집니다. 역 정렬 아닙니다! 역순일 뿐입니다.\n",
        "l"
      ]
    },
    {
      "cell_type": "code",
      "execution_count": null,
      "metadata": {
        "colab": {
          "base_uri": "https://localhost:8080/"
        },
        "id": "ENYuMbexhJ-U",
        "outputId": "e4cb3ce9-e900-46f5-fef6-65b730f5ac4b"
      },
      "outputs": [
        {
          "name": "stdout",
          "output_type": "stream",
          "text": [
            "[11, 55, 2, 1, 30, 20, 10, 30, 20, 10]\n",
            "[10, 20, 30, 10, 20, 30, 1, 2, 55, 11]\n"
          ]
        }
      ],
      "source": [
        "l = [10, 20, 30, 10, 20, 30, 1, 2, 55, 11]\n",
        "print(list(reversed(l))) # l을 직접 만지지 않습니다.\n",
        "print(l)"
      ]
    },
    {
      "cell_type": "code",
      "execution_count": null,
      "metadata": {
        "colab": {
          "base_uri": "https://localhost:8080/"
        },
        "id": "3R8snKP8hrL9",
        "outputId": "31f92cea-ff9e-4612-b349-3073763e51f9"
      },
      "outputs": [
        {
          "data": {
            "text/plain": [
              "[1, 2, 10, 10, 11, 20, 20, 30, 30, 55]"
            ]
          },
          "execution_count": 123,
          "metadata": {},
          "output_type": "execute_result"
        }
      ],
      "source": [
        "l = [10, 20, 30, 10, 20, 30, 1, 2, 55, 11]\n",
        "l.sort() # l을 직접 만집니다.\n",
        "l"
      ]
    },
    {
      "cell_type": "code",
      "execution_count": null,
      "metadata": {
        "colab": {
          "base_uri": "https://localhost:8080/"
        },
        "id": "HBJg8D6bhv9p",
        "outputId": "d5207c8e-5e50-4f45-c100-b4fe9614e49d"
      },
      "outputs": [
        {
          "data": {
            "text/plain": [
              "[55, 30, 30, 20, 20, 11, 10, 10, 2, 1]"
            ]
          },
          "execution_count": 125,
          "metadata": {},
          "output_type": "execute_result"
        }
      ],
      "source": [
        "l = [10, 20, 30, 10, 20, 30, 1, 2, 55, 11]\n",
        "l.sort()\n",
        "l.reverse() # sort와 함께 사용했으니 역정렬!\n",
        "l"
      ]
    },
    {
      "cell_type": "code",
      "execution_count": null,
      "metadata": {
        "colab": {
          "base_uri": "https://localhost:8080/"
        },
        "id": "d0QsPLuGh8iC",
        "outputId": "6a738440-b92a-42cb-80af-509c46556419"
      },
      "outputs": [
        {
          "name": "stdout",
          "output_type": "stream",
          "text": [
            "[1, 2, 10, 10, 11, 20, 20, 30, 30, 55]\n",
            "[10, 20, 30, 10, 20, 30, 1, 2, 55, 11]\n"
          ]
        }
      ],
      "source": [
        "l = [10, 20, 30, 10, 20, 30, 1, 2, 55, 11]\n",
        "print(list(sorted(l))) # l을 직접 만지지 않습니다.\n",
        "print(l)"
      ]
    },
    {
      "cell_type": "code",
      "execution_count": null,
      "metadata": {
        "colab": {
          "base_uri": "https://localhost:8080/"
        },
        "id": "2W_qzXTgiPAm",
        "outputId": "f7e13f91-7333-46de-f5e9-ea96e872ad27"
      },
      "outputs": [
        {
          "name": "stdout",
          "output_type": "stream",
          "text": [
            "[55, 30, 30, 20, 20, 11, 10, 10, 2, 1]\n"
          ]
        }
      ],
      "source": [
        "l = [10, 20, 30, 10, 20, 30, 1, 2, 55, 11]\n",
        "print(list(sorted(l, reverse=True)))  # 내림차순"
      ]
    },
    {
      "cell_type": "code",
      "execution_count": null,
      "metadata": {
        "colab": {
          "base_uri": "https://localhost:8080/"
        },
        "id": "QQyShm23ijhx",
        "outputId": "db76fa0d-08b8-4199-c767-c2e9c4256e46"
      },
      "outputs": [
        {
          "name": "stdout",
          "output_type": "stream",
          "text": [
            "[[55, 11, 'sun'], [20, 30, 'hojun'], [10, 20, 'weniv'], [1, 10, 'leehojun'], [1, 2, 'likelion']]\n",
            "[[1, 2, 'likelion'], [1, 10, 'leehojun'], [10, 20, 'weniv'], [20, 30, 'hojun'], [55, 11, 'sun']]\n",
            "[[1, 2, 'likelion'], [1, 10, 'leehojun'], [55, 11, 'sun'], [10, 20, 'weniv'], [20, 30, 'hojun']]\n",
            "[[1, 2, 'likelion'], [1, 10, 'leehojun'], [10, 20, 'weniv'], [20, 30, 'hojun'], [55, 11, 'sun']]\n",
            "[[1, 2, 'likelion'], [1, 10, 'leehojun'], [55, 11, 'sun'], [10, 20, 'weniv'], [20, 30, 'hojun']]\n"
          ]
        }
      ],
      "source": [
        "l = [[1, 10, 'leehojun'], \n",
        "     [20, 30, 'hojun'], \n",
        "     [10, 20, 'weniv'], \n",
        "     [1, 2, 'likelion'], \n",
        "     [55, 11, 'sun']]\n",
        "\n",
        "# 1. 글자 수 대로 정렬해주세요.\n",
        "def 함수(x):\n",
        "    return len(x[2])\n",
        "\n",
        "print(list(sorted(l, key=함수)))\n",
        "print(list(sorted(l, key=lambda x:len(x[2]))))\n",
        "\n",
        "# 2. 맨 앞에 위치한 숫자대로 정렬해주세요.\n",
        "def 함수2(x):\n",
        "    return x[0]\n",
        "\n",
        "print(list(sorted(l)))\n",
        "print(list(sorted(l, key=함수2)))\n",
        "print(list(sorted(l, key=lambda x:x[0])))\n",
        "\n",
        "# 3. 중앙에 위치한 값대로 정렬해주세요.\n",
        "def 함수3(x):\n",
        "    return x[1]\n",
        "\n",
        "print(list(sorted(l)))\n",
        "print(list(sorted(l, key=함수3)))\n",
        "print(list(sorted(l, key=lambda x:x[1])))"
      ]
    },
    {
      "cell_type": "code",
      "execution_count": null,
      "metadata": {
        "colab": {
          "base_uri": "https://localhost:8080/"
        },
        "id": "PaYqJARCkYb9",
        "outputId": "5134c2a3-ceee-4a99-96b8-fa1e09f639ec"
      },
      "outputs": [
        {
          "name": "stdout",
          "output_type": "stream",
          "text": [
            "[[1, 2, 13], [1, 10, 32], [10, 20, 22], [20, 30, 11], [55, 11, 44]]\n",
            "[[1, 2, 13], [1, 10, 32], [10, 20, 22], [20, 30, 11], [55, 11, 44]]\n",
            "[[1, 2, 13], [1, 10, 32], [10, 20, 22], [20, 30, 11], [55, 11, 44]]\n"
          ]
        }
      ],
      "source": [
        "l = [[1, 10, 32], \n",
        "     [20, 30, 11], \n",
        "     [10, 20, 22], \n",
        "     [1, 2, 13], \n",
        "     [55, 11, 44]]\n",
        "\n",
        "\n",
        "# 4. 3개의 전체 합대로 출력해주세요.\n",
        "def 함수4(x):\n",
        "    return sum(x)\n",
        "\n",
        "print(list(sorted(l, key=함수4)))\n",
        "print(list(sorted(l, key=lambda x:sum(x))))\n",
        "print(list(sorted(l, key=sum)))"
      ]
    },
    {
      "cell_type": "code",
      "execution_count": null,
      "metadata": {
        "colab": {
          "base_uri": "https://localhost:8080/"
        },
        "id": "Pa7QHZEm9PfL",
        "outputId": "58080a52-7dab-4569-9b6f-15d4dc7b9315"
      },
      "outputs": [
        {
          "data": {
            "text/plain": [
              "[[1000, 2, 3], [4, 5, 6]]"
            ]
          },
          "execution_count": 2,
          "metadata": {},
          "output_type": "execute_result"
        }
      ],
      "source": [
        "l = [[1, 2, 3], [4, 5, 6]]\n",
        "ll = l.copy()\n",
        "ll[0][0] = 1000\n",
        "l"
      ]
    },
    {
      "cell_type": "code",
      "execution_count": null,
      "metadata": {
        "colab": {
          "base_uri": "https://localhost:8080/"
        },
        "id": "4yBcfW6X9TnW",
        "outputId": "4796f5a3-ecad-40f0-ec85-7acd6bc55597"
      },
      "outputs": [
        {
          "data": {
            "text/plain": [
              "[[1000, 2, 3], [4, 5, 6]]"
            ]
          },
          "execution_count": 3,
          "metadata": {},
          "output_type": "execute_result"
        }
      ],
      "source": [
        "l = [[1, 2, 3], [4, 5, 6]]\n",
        "ll = l[:]\n",
        "ll[0][0] = 1000\n",
        "l"
      ]
    },
    {
      "cell_type": "code",
      "execution_count": null,
      "metadata": {
        "colab": {
          "base_uri": "https://localhost:8080/"
        },
        "id": "YibpQa4i9pMp",
        "outputId": "0b4c14e3-f7f8-4567-b787-b381b11c9c5d"
      },
      "outputs": [
        {
          "data": {
            "text/plain": [
              "[[1, 2, 3], [4, 5, 6]]"
            ]
          },
          "execution_count": 4,
          "metadata": {},
          "output_type": "execute_result"
        }
      ],
      "source": [
        "import copy\n",
        "\n",
        "l = [[1, 2, 3], [4, 5, 6]]\n",
        "ll = copy.deepcopy(l)\n",
        "ll[0][0] = 1000\n",
        "l"
      ]
    },
    {
      "cell_type": "code",
      "execution_count": null,
      "metadata": {
        "colab": {
          "base_uri": "https://localhost:8080/"
        },
        "id": "_-sty_23-COh",
        "outputId": "5c5a312c-c9a9-4ef0-c3ec-775255e287a8"
      },
      "outputs": [
        {
          "data": {
            "text/plain": [
              "[[1000, 2, 3], [4, 5, 6]]"
            ]
          },
          "execution_count": 5,
          "metadata": {},
          "output_type": "execute_result"
        }
      ],
      "source": [
        "l = [[1, 2, 3], [4, 5, 6]]\n",
        "ll = [i for i in l]\n",
        "ll[0][0] = 1000\n",
        "l"
      ]
    },
    {
      "cell_type": "code",
      "execution_count": null,
      "metadata": {
        "id": "dKNCaHAz-UsB"
      },
      "outputs": [],
      "source": [
        "l = [[1, 2, 3], [4, 5, 6]]\n",
        "ll = [i for i in l]\n",
        "ll[0][0] = 1000\n",
        "l"
      ]
    },
    {
      "cell_type": "code",
      "execution_count": null,
      "metadata": {
        "colab": {
          "base_uri": "https://localhost:8080/"
        },
        "id": "U5dSmAIa-f_A",
        "outputId": "f8adec99-b30d-4844-da94-ff8f4d4f1a52"
      },
      "outputs": [
        {
          "data": {
            "text/plain": [
              "([[1, 2, 3], [4, 5, 6]], [[1000, 2, 3], [4, 5, 6]])"
            ]
          },
          "execution_count": 8,
          "metadata": {},
          "output_type": "execute_result"
        }
      ],
      "source": [
        "l = [[1, 2, 3], [4, 5, 6]]\n",
        "ll = [i[:] for i in l]\n",
        "ll[0][0] = 1000\n",
        "l, ll"
      ]
    },
    {
      "cell_type": "code",
      "execution_count": null,
      "metadata": {
        "colab": {
          "base_uri": "https://localhost:8080/"
        },
        "id": "wFBL620H-rdF",
        "outputId": "70193a4c-de10-4a63-f7fb-50da5319f727"
      },
      "outputs": [
        {
          "name": "stdout",
          "output_type": "stream",
          "text": [
            "True\n",
            "True\n",
            "False\n",
            "True\n",
            "False\n",
            "False\n",
            "------------------------------\n",
            "False\n",
            "True\n",
            "[1, 2, 3] [1, 2, 3] [1, 2, 3]\n",
            "False\n",
            "True\n",
            "[[1, 2, 3], 2, 3] [[1, 2, 3], 2, 3] [[1, 2, 3], 2, 3]\n",
            "False\n",
            "False\n"
          ]
        }
      ],
      "source": [
        "import copy\n",
        "\n",
        "a = [1, 2, 3]\n",
        "b = [4, 5, 6]\n",
        "c = [a, b]\n",
        "\n",
        "d = c\n",
        "\n",
        "print(id(c) == id(d))        # True - d is the same object as c\n",
        "print(id(c[0]) == id(d[0]))    # True - d[0] is the same object as c[0]\n",
        "\n",
        "d = copy.copy(c)\n",
        "\n",
        "print(id(c) == id(d))         # False - d is now a new object\n",
        "print(id(c[0]) == id(d[0]))    # True - d[0] is the same object as c[0]\n",
        "\n",
        "d = copy.deepcopy(c)\n",
        "\n",
        "print(id(c) == id(d))          # False - d is now a new object\n",
        "print(id(c[0]) == id(d[0]))    # False - d[0] is now a new object\n",
        "\n",
        "print('-' * 30)\n",
        "a = [1, 2, 3]\n",
        "b = a.copy()\n",
        "c = b.copy()\n",
        "\n",
        "\n",
        "print(id(a) == id(b)) # False\n",
        "print(id(a[0]) == id(b[0])) # True\n",
        "\n",
        "a = [1, 2, 3]\n",
        "b = copy.deepcopy(a)\n",
        "c = copy.deepcopy(b)\n",
        "print(a, b, c)\n",
        "\n",
        "print(id(a) == id(b)) # False\n",
        "print(id(a[0]) == id(b[0])) # True\n",
        "\n",
        "\n",
        "a = [[1, 2, 3], 2, 3]\n",
        "b = copy.deepcopy(a)\n",
        "c = copy.deepcopy(b)\n",
        "print(a, b, c)\n",
        "\n",
        "print(id(a) == id(b)) # False\n",
        "print(id(a[0]) == id(b[0])) # False"
      ]
    },
    {
      "cell_type": "code",
      "execution_count": null,
      "metadata": {
        "colab": {
          "base_uri": "https://localhost:8080/"
        },
        "id": "SXUme06AAc33",
        "outputId": "b7fb5e6b-340f-464c-82f5-cd28c4c603ea"
      },
      "outputs": [
        {
          "name": "stdout",
          "output_type": "stream",
          "text": [
            "[9999, 9999, 9999] [9999, 9999, 9999] [9999, 9999, 9999]\n",
            "139823983928912 139823983928912 139823983928912\n"
          ]
        }
      ],
      "source": [
        "a = [9999, 9999, 9999]\n",
        "b = copy.deepcopy(a)\n",
        "c = copy.deepcopy(b)\n",
        "print(a, b, c)\n",
        "\n",
        "print(id(a[0]), id(b[0]), id(c[0]))"
      ]
    },
    {
      "cell_type": "code",
      "execution_count": null,
      "metadata": {
        "colab": {
          "base_uri": "https://localhost:8080/"
        },
        "id": "d1PLpcNQCQY2",
        "outputId": "d6b528d2-e714-4931-de67-ce2449076d25"
      },
      "outputs": [
        {
          "output_type": "execute_result",
          "data": {
            "text/plain": [
              "True"
            ]
          },
          "metadata": {},
          "execution_count": 24
        }
      ],
      "source": [
        "c = [9999, 9999, 9999]\n",
        "id(c[0]), id(c[1]), id(c[2])\n",
        "c[0] is c[1]"
      ]
    },
    {
      "cell_type": "code",
      "source": [
        "test = [9999, 9998, 9999]\n",
        "id(test[0]), id(test[1]), id(test[2])\n",
        "#같은 컨벤션 내에 지정된 숫자는 동일한 메모리에 저장"
      ],
      "metadata": {
        "colab": {
          "base_uri": "https://localhost:8080/"
        },
        "id": "jE15kn0YPL0b",
        "outputId": "e31035d8-a954-4349-9b61-2ae9d877a80f"
      },
      "execution_count": null,
      "outputs": [
        {
          "output_type": "execute_result",
          "data": {
            "text/plain": [
              "(140045809628368, 140045809625968, 140045809628368)"
            ]
          },
          "metadata": {},
          "execution_count": 25
        }
      ]
    },
    {
      "cell_type": "code",
      "source": [
        "test2 = [9999, 9998, 9999]\n",
        "id(test2[0]), id(test2[1]), id(test2[2])"
      ],
      "metadata": {
        "colab": {
          "base_uri": "https://localhost:8080/"
        },
        "id": "w-IaU2nrPUMb",
        "outputId": "ef9aaa98-5f9c-4f1d-8285-5a71bdf35c30"
      },
      "execution_count": null,
      "outputs": [
        {
          "output_type": "execute_result",
          "data": {
            "text/plain": [
              "(140045809627760, 140045809617488, 140045809627760)"
            ]
          },
          "metadata": {},
          "execution_count": 27
        }
      ]
    },
    {
      "cell_type": "code",
      "source": [
        "test = (9999, 9998, 9999)\n",
        "id(test[0]), id(test[1]), id(test[2])\n",
        "#같은 컨벤션 내에 지정된 숫자는 동일한 메모리에 저장"
      ],
      "metadata": {
        "colab": {
          "base_uri": "https://localhost:8080/"
        },
        "id": "paE3GiaIPt-f",
        "outputId": "3131708f-34ea-4caf-8c69-2d01952f8abc"
      },
      "execution_count": null,
      "outputs": [
        {
          "output_type": "execute_result",
          "data": {
            "text/plain": [
              "(140045809624880, 140045809629168, 140045809624880)"
            ]
          },
          "metadata": {},
          "execution_count": 28
        }
      ]
    },
    {
      "cell_type": "code",
      "source": [
        "test = {'one':9999, 'two':9998, 'three':9999}\n",
        "id(test['one']), id(test['two']), id(test['three'])\n",
        "#같은 컨벤션 내에 지정된 숫자는 동일한 메모리에 저장"
      ],
      "metadata": {
        "colab": {
          "base_uri": "https://localhost:8080/"
        },
        "id": "dOf7V95TPyvs",
        "outputId": "77f9a9a6-197f-4b60-94fb-c6c66344a466"
      },
      "execution_count": null,
      "outputs": [
        {
          "output_type": "execute_result",
          "data": {
            "text/plain": [
              "(140045809628368, 140045809629680, 140045809628368)"
            ]
          },
          "metadata": {},
          "execution_count": 29
        }
      ]
    },
    {
      "cell_type": "code",
      "execution_count": null,
      "metadata": {
        "colab": {
          "base_uri": "https://localhost:8080/"
        },
        "id": "jr28D2ikFwt5",
        "outputId": "144b09a2-59e1-4474-a204-3616722b11e8"
      },
      "outputs": [
        {
          "name": "stdout",
          "output_type": "stream",
          "text": [
            "139823983930480 139823983930480 139823983930480\n",
            "139823983930480 139823983930480 139823983930480\n"
          ]
        }
      ],
      "source": [
        "c = [9999, 9999, 9999]\n",
        "test = c[:]\n",
        "print(id(c[0]), id(c[1]), id(c[2]))\n",
        "print(id(test[0]), id(test[1]), id(test[2]))\n",
        "# c[0] is c[1]"
      ]
    },
    {
      "cell_type": "code",
      "execution_count": null,
      "metadata": {
        "colab": {
          "base_uri": "https://localhost:8080/"
        },
        "id": "dHIjx-5kDxGg",
        "outputId": "abb65205-8b84-4e93-c3f1-b5fc9d10dd8e"
      },
      "outputs": [
        {
          "data": {
            "text/plain": [
              "[[55, 11, 'sun'],\n",
              " [20, 30, 'hojun'],\n",
              " [10, 20, 'weniv'],\n",
              " [1, 10, 'leehojun'],\n",
              " [1, 2, 'likelion']]"
            ]
          },
          "execution_count": 22,
          "metadata": {},
          "output_type": "execute_result"
        }
      ],
      "source": [
        "l = [[1, 10, 'leehojun'], \n",
        "     [20, 30, 'hojun'], \n",
        "     [10, 20, 'weniv'], \n",
        "     [1, 2, 'likelion'], \n",
        "     [55, 11, 'sun']]\n",
        "\n",
        "# 1. 글자 수 대로 정렬해주세요.\n",
        "def 함수(x):\n",
        "    return len(x[2])\n",
        "\n",
        "list(sorted(l, key=함수))\n",
        "\n",
        "# 8\n",
        "# 5\n",
        "# 5\n",
        "# 8\n",
        "# 3"
      ]
    }
  ],
  "metadata": {
    "colab": {
      "provenance": []
    },
    "kernelspec": {
      "display_name": "Python 3",
      "name": "python3"
    },
    "language_info": {
      "name": "python"
    }
  },
  "nbformat": 4,
  "nbformat_minor": 0
}